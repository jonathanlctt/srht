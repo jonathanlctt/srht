{
 "cells": [
  {
   "cell_type": "code",
   "execution_count": 2,
   "metadata": {},
   "outputs": [
    {
     "data": {
      "text/html": [
       "<style>.container { width:85% !important; }</style>"
      ],
      "text/plain": [
       "<IPython.core.display.HTML object>"
      ]
     },
     "metadata": {},
     "output_type": "display_data"
    }
   ],
   "source": [
    "from IPython.display import display, HTML\n",
    "display(HTML(\"<style>.container { width:85% !important; }</style>\"))\n",
    "\n",
    "%reload_ext autoreload\n",
    "%autoreload 2"
   ]
  },
  {
   "cell_type": "code",
   "execution_count": 205,
   "metadata": {},
   "outputs": [],
   "source": [
    "from tests import test_1, test_2, test_3, test_4"
   ]
  },
  {
   "cell_type": "code",
   "execution_count": 212,
   "metadata": {},
   "outputs": [
    {
     "name": "stdout",
     "output_type": "stream",
     "text": [
      "Time with optimized implementation: 0.5231149196624756\n",
      "Time with naive implementation: 2.2072978019714355\n",
      "success\n",
      "---------- Checks that power 2 padding is not necessary\n",
      "Time with optimized implementation: 0.032663822174072266\n",
      "Time with naive implementation: 0.1918337345123291\n",
      "success\n",
      "---------- Comparison with O(n d log(n)) implementation\n",
      "Time with optimized implementation: 0.48704099655151367\n",
      "Time with O(n d log n) implementation: 0.6894919872283936\n",
      "success\n",
      "---------- Compares results for torch, numpy and sparse arrays\n",
      "time for sparse float32: 2.554809093475342\n",
      "time for np float32: 0.4751131534576416\n",
      "time for torch float32: 0.4645540714263916\n",
      "time for sparse float64: 2.7504541873931885\n",
      "time for np float64: 0.44264793395996094\n",
      "time for torch float64: 0.6417191028594971\n",
      "success\n",
      "---------- Compares results for torch, numpy and sparse arrays\n",
      "time for sparse float32: 5.700647830963135\n",
      "time for np float32: 0.5102152824401855\n",
      "time for torch float32: 0.47208714485168457\n",
      "time for sparse float64: 4.99341607093811\n",
      "time for np float64: 0.5612800121307373\n",
      "time for torch float64: 0.6693933010101318\n",
      "success\n"
     ]
    }
   ],
   "source": [
    "n = 2*8192  # sample size\n",
    "d = 1024  # feature dimension\n",
    "m = 2048  # sketch size\n",
    "\n",
    "test_1(n, d, m)\n",
    "test_2()\n",
    "test_3(n, d, m)\n",
    "test_4(n, d, m)\n",
    "test_4(n+1, d, m)"
   ]
  },
  {
   "cell_type": "code",
   "execution_count": null,
   "metadata": {},
   "outputs": [],
   "source": []
  },
  {
   "cell_type": "code",
   "execution_count": null,
   "metadata": {},
   "outputs": [],
   "source": []
  },
  {
   "cell_type": "code",
   "execution_count": null,
   "metadata": {},
   "outputs": [],
   "source": []
  },
  {
   "cell_type": "code",
   "execution_count": null,
   "metadata": {},
   "outputs": [],
   "source": []
  }
 ],
 "metadata": {
  "kernelspec": {
   "display_name": "Python 3",
   "language": "python",
   "name": "python3"
  },
  "language_info": {
   "codemirror_mode": {
    "name": "ipython",
    "version": 3
   },
   "file_extension": ".py",
   "mimetype": "text/x-python",
   "name": "python",
   "nbconvert_exporter": "python",
   "pygments_lexer": "ipython3",
   "version": "3.8.5"
  }
 },
 "nbformat": 4,
 "nbformat_minor": 4
}
