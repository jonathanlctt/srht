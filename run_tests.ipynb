{
 "cells": [
  {
   "cell_type": "code",
   "execution_count": 2,
   "metadata": {},
   "outputs": [
    {
     "data": {
      "text/html": [
       "<style>.container { width:85% !important; }</style>"
      ],
      "text/plain": [
       "<IPython.core.display.HTML object>"
      ]
     },
     "metadata": {},
     "output_type": "display_data"
    }
   ],
   "source": [
    "from IPython.display import display, HTML\n",
    "display(HTML(\"<style>.container { width:85% !important; }</style>\"))\n",
    "\n",
    "%reload_ext autoreload\n",
    "%autoreload 2"
   ]
  },
  {
   "cell_type": "code",
   "execution_count": 205,
   "metadata": {},
   "outputs": [],
   "source": [
    "from tests import test_1, test_2, test_3, test_4"
   ]
  },
  {
   "cell_type": "code",
   "execution_count": 212,
   "metadata": {},
   "outputs": [
    {
     "name": "stdout",
     "output_type": "stream",
     "text": [
      "Time with optimized implementation: 0.5231149196624756\n",
      "Time with naive implementation: 2.2072978019714355\n",
      "success\n",
      "---------- Checks that power 2 padding is not necessary\n",
      "Time with optimized implementation: 0.032663822174072266\n",
      "Time with naive implementation: 0.1918337345123291\n",
      "success\n",
      "---------- Comparison with O(n d log(n)) implementation\n",
      "Time with optimized implementation: 0.48704099655151367\n",
      "Time with O(n d log n) implementation: 0.6894919872283936\n",
      "success\n",
      "---------- Compares results for torch, numpy and sparse arrays\n",
      "time for sparse float32: 2.554809093475342\n",
      "time for np float32: 0.4751131534576416\n",
      "time for torch float32: 0.4645540714263916\n",
      "time for sparse float64: 2.7504541873931885\n",
      "time for np float64: 0.44264793395996094\n",
      "time for torch float64: 0.6417191028594971\n",
      "success\n",
      "---------- Compares results for torch, numpy and sparse arrays\n",
      "time for sparse float32: 5.700647830963135\n",
      "time for np float32: 0.5102152824401855\n",
      "time for torch float32: 0.47208714485168457\n",
      "time for sparse float64: 4.99341607093811\n",
      "time for np float64: 0.5612800121307373\n",
      "time for torch float64: 0.6693933010101318\n",
      "success\n"
     ]
    }
   ],
   "source": [
    "n = 2*8192  # sample size\n",
    "d = 1024  # feature dimension\n",
    "m = 2048  # sketch size\n",
    "\n",
    "test_1(n, d, m)\n",
    "test_2()\n",
    "test_3(n, d, m)\n",
    "test_4(n, d, m)\n",
    "test_4(n+1, d, m)"
   ]
  },
  {
   "cell_type": "code",
   "execution_count": 330,
   "metadata": {},
   "outputs": [],
   "source": [
    "from evaluate import get_dimensions_range, record_sketch_times"
   ]
  },
  {
   "cell_type": "code",
   "execution_count": 359,
   "metadata": {},
   "outputs": [],
   "source": [
    "df = pd.read_parquet('/Users/jonathanlacotte/code/SRHT/sketch_times.parquet')"
   ]
  },
  {
   "cell_type": "code",
   "execution_count": 360,
   "metadata": {},
   "outputs": [],
   "source": [
    "import plotly.express as px"
   ]
  },
  {
   "cell_type": "code",
   "execution_count": 363,
   "metadata": {},
   "outputs": [
    {
     "data": {
      "application/vnd.plotly.v1+json": {
       "config": {
        "plotlyServerURL": "https://plot.ly"
       },
       "data": [
        {
         "hovertemplate": "method=srht<br>d=16<br>n=128<br>m=%{x}<br>time=%{y}<extra></extra>",
         "legendgroup": "srht",
         "line": {
          "color": "#636efa",
          "dash": "solid"
         },
         "marker": {
          "symbol": "circle"
         },
         "mode": "lines",
         "name": "srht",
         "orientation": "v",
         "showlegend": true,
         "type": "scatter",
         "x": [
          4,
          8,
          16,
          32,
          64
         ],
         "xaxis": "x82",
         "y": [
          0.0005459785461425781,
          0.0005114078521728516,
          0.0007280508677164712,
          0.0009833176930745442,
          0.0013475418090820312
         ],
         "yaxis": "y82"
        },
        {
         "hovertemplate": "method=srht<br>d=16<br>n=256<br>m=%{x}<br>time=%{y}<extra></extra>",
         "legendgroup": "srht",
         "line": {
          "color": "#636efa",
          "dash": "solid"
         },
         "marker": {
          "symbol": "circle"
         },
         "mode": "lines",
         "name": "srht",
         "orientation": "v",
         "showlegend": false,
         "type": "scatter",
         "x": [
          4,
          8,
          16,
          32,
          64
         ],
         "xaxis": "x83",
         "y": [
          0.00031065940856933594,
          0.000501712163289388,
          0.0006546974182128906,
          0.0010519822438557942,
          0.0016456445058186848
         ],
         "yaxis": "y83"
        },
        {
         "hovertemplate": "method=srht<br>d=16<br>n=512<br>m=%{x}<br>time=%{y}<extra></extra>",
         "legendgroup": "srht",
         "line": {
          "color": "#636efa",
          "dash": "solid"
         },
         "marker": {
          "symbol": "circle"
         },
         "mode": "lines",
         "name": "srht",
         "orientation": "v",
         "showlegend": false,
         "type": "scatter",
         "x": [
          4,
          8,
          16,
          32,
          64
         ],
         "xaxis": "x84",
         "y": [
          0.0003652572631835937,
          0.0007360776265462239,
          0.0007875760396321614,
          0.0012073516845703125,
          0.0019563039143880205
         ],
         "yaxis": "y84"
        },
        {
         "hovertemplate": "method=srht<br>d=16<br>n=1024<br>m=%{x}<br>time=%{y}<extra></extra>",
         "legendgroup": "srht",
         "line": {
          "color": "#636efa",
          "dash": "solid"
         },
         "marker": {
          "symbol": "circle"
         },
         "mode": "lines",
         "name": "srht",
         "orientation": "v",
         "showlegend": false,
         "type": "scatter",
         "x": [
          4,
          8,
          16,
          32,
          64
         ],
         "xaxis": "x85",
         "y": [
          0.0005652904510498047,
          0.0007600784301757812,
          0.0010221799214680989,
          0.0014929771423339844,
          0.0023530324300130205
         ],
         "yaxis": "y85"
        },
        {
         "hovertemplate": "method=srht<br>d=16<br>n=2048<br>m=%{x}<br>time=%{y}<extra></extra>",
         "legendgroup": "srht",
         "line": {
          "color": "#636efa",
          "dash": "solid"
         },
         "marker": {
          "symbol": "circle"
         },
         "mode": "lines",
         "name": "srht",
         "orientation": "v",
         "showlegend": false,
         "type": "scatter",
         "x": [
          4,
          8,
          16,
          32,
          64
         ],
         "xaxis": "x86",
         "y": [
          0.0006419817606608073,
          0.0008669694264729817,
          0.0013206005096435547,
          0.0018656253814697266,
          0.002801736195882161
         ],
         "yaxis": "y86"
        },
        {
         "hovertemplate": "method=srht<br>d=16<br>n=4096<br>m=%{x}<br>time=%{y}<extra></extra>",
         "legendgroup": "srht",
         "line": {
          "color": "#636efa",
          "dash": "solid"
         },
         "marker": {
          "symbol": "circle"
         },
         "mode": "lines",
         "name": "srht",
         "orientation": "v",
         "showlegend": false,
         "type": "scatter",
         "x": [
          4,
          8,
          16,
          32,
          64
         ],
         "xaxis": "x87",
         "y": [
          0.0011570453643798828,
          0.0011333624521891275,
          0.0016439755757649737,
          0.0024069150288899737,
          0.003767887751261393
         ],
         "yaxis": "y87"
        },
        {
         "hovertemplate": "method=srht<br>d=16<br>n=8192<br>m=%{x}<br>time=%{y}<extra></extra>",
         "legendgroup": "srht",
         "line": {
          "color": "#636efa",
          "dash": "solid"
         },
         "marker": {
          "symbol": "circle"
         },
         "mode": "lines",
         "name": "srht",
         "orientation": "v",
         "showlegend": false,
         "type": "scatter",
         "x": [
          4,
          8,
          16,
          32,
          64
         ],
         "xaxis": "x88",
         "y": [
          0.0028762022654215493,
          0.0015813509623209634,
          0.0021986166636149087,
          0.0031255880991617837,
          0.004833062489827474
         ],
         "yaxis": "y88"
        },
        {
         "hovertemplate": "method=srht<br>d=16<br>n=16384<br>m=%{x}<br>time=%{y}<extra></extra>",
         "legendgroup": "srht",
         "line": {
          "color": "#636efa",
          "dash": "solid"
         },
         "marker": {
          "symbol": "circle"
         },
         "mode": "lines",
         "name": "srht",
         "orientation": "v",
         "showlegend": false,
         "type": "scatter",
         "x": [
          4,
          8,
          16,
          32,
          64
         ],
         "xaxis": "x89",
         "y": [
          0.006665070851643879,
          0.0047686100006103516,
          0.0032297770182291665,
          0.00460362434387207,
          0.006290435791015625
         ],
         "yaxis": "y89"
        },
        {
         "hovertemplate": "method=srht<br>d=16<br>n=32768<br>m=%{x}<br>time=%{y}<extra></extra>",
         "legendgroup": "srht",
         "line": {
          "color": "#636efa",
          "dash": "solid"
         },
         "marker": {
          "symbol": "circle"
         },
         "mode": "lines",
         "name": "srht",
         "orientation": "v",
         "showlegend": false,
         "type": "scatter",
         "x": [
          4,
          8,
          16,
          32,
          64
         ],
         "xaxis": "x90",
         "y": [
          0.42650461196899414,
          0.007295926411946613,
          0.0068009694417317705,
          0.010796070098876953,
          0.012302557627360025
         ],
         "yaxis": "y90"
        },
        {
         "hovertemplate": "method=srht<br>d=32<br>n=128<br>m=%{x}<br>time=%{y}<extra></extra>",
         "legendgroup": "srht",
         "line": {
          "color": "#636efa",
          "dash": "solid"
         },
         "marker": {
          "symbol": "circle"
         },
         "mode": "lines",
         "name": "srht",
         "orientation": "v",
         "showlegend": false,
         "type": "scatter",
         "x": [
          4,
          8,
          16,
          32,
          64
         ],
         "xaxis": "x73",
         "y": [
          0.00035866101582845045,
          0.0004845460255940755,
          0.0006859302520751953,
          0.0008592605590820312,
          0.001185019810994466
         ],
         "yaxis": "y73"
        },
        {
         "hovertemplate": "method=srht<br>d=32<br>n=256<br>m=%{x}<br>time=%{y}<extra></extra>",
         "legendgroup": "srht",
         "line": {
          "color": "#636efa",
          "dash": "solid"
         },
         "marker": {
          "symbol": "circle"
         },
         "mode": "lines",
         "name": "srht",
         "orientation": "v",
         "showlegend": false,
         "type": "scatter",
         "x": [
          4,
          8,
          16,
          32,
          64,
          128
         ],
         "xaxis": "x74",
         "y": [
          0.00034562746683756507,
          0.000457763671875,
          0.0008753935496012369,
          0.0009818871815999348,
          0.0016136964162190752,
          0.0025351842244466143
         ],
         "yaxis": "y74"
        },
        {
         "hovertemplate": "method=srht<br>d=32<br>n=512<br>m=%{x}<br>time=%{y}<extra></extra>",
         "legendgroup": "srht",
         "line": {
          "color": "#636efa",
          "dash": "solid"
         },
         "marker": {
          "symbol": "circle"
         },
         "mode": "lines",
         "name": "srht",
         "orientation": "v",
         "showlegend": false,
         "type": "scatter",
         "x": [
          4,
          8,
          16,
          32,
          64,
          128
         ],
         "xaxis": "x75",
         "y": [
          0.0004986921946207682,
          0.0005987485249837239,
          0.0008420944213867188,
          0.001288334528605143,
          0.0019547144571940103,
          0.00295257568359375
         ],
         "yaxis": "y75"
        },
        {
         "hovertemplate": "method=srht<br>d=32<br>n=1024<br>m=%{x}<br>time=%{y}<extra></extra>",
         "legendgroup": "srht",
         "line": {
          "color": "#636efa",
          "dash": "solid"
         },
         "marker": {
          "symbol": "circle"
         },
         "mode": "lines",
         "name": "srht",
         "orientation": "v",
         "showlegend": false,
         "type": "scatter",
         "x": [
          4,
          8,
          16,
          32,
          64,
          128
         ],
         "xaxis": "x76",
         "y": [
          0.0005208651224772135,
          0.0007039705912272135,
          0.0010470549265543618,
          0.0015535354614257812,
          0.0024059613545735674,
          0.003683964411417643
         ],
         "yaxis": "y76"
        },
        {
         "hovertemplate": "method=srht<br>d=32<br>n=2048<br>m=%{x}<br>time=%{y}<extra></extra>",
         "legendgroup": "srht",
         "line": {
          "color": "#636efa",
          "dash": "solid"
         },
         "marker": {
          "symbol": "circle"
         },
         "mode": "lines",
         "name": "srht",
         "orientation": "v",
         "showlegend": false,
         "type": "scatter",
         "x": [
          4,
          8,
          16,
          32,
          64,
          128
         ],
         "xaxis": "x77",
         "y": [
          0.0006590684254964192,
          0.0009373029073079426,
          0.0013440450032552083,
          0.0020646254221598306,
          0.0030700365702311196,
          0.004888455073038736
         ],
         "yaxis": "y77"
        },
        {
         "hovertemplate": "method=srht<br>d=32<br>n=4096<br>m=%{x}<br>time=%{y}<extra></extra>",
         "legendgroup": "srht",
         "line": {
          "color": "#636efa",
          "dash": "solid"
         },
         "marker": {
          "symbol": "circle"
         },
         "mode": "lines",
         "name": "srht",
         "orientation": "v",
         "showlegend": false,
         "type": "scatter",
         "x": [
          4,
          8,
          16,
          32,
          64,
          128
         ],
         "xaxis": "x78",
         "y": [
          0.0012006759643554688,
          0.0014036496480305989,
          0.0025413036346435547,
          0.0026845932006835938,
          0.004116535186767578,
          0.006246725718180338
         ],
         "yaxis": "y78"
        },
        {
         "hovertemplate": "method=srht<br>d=32<br>n=8192<br>m=%{x}<br>time=%{y}<extra></extra>",
         "legendgroup": "srht",
         "line": {
          "color": "#636efa",
          "dash": "solid"
         },
         "marker": {
          "symbol": "circle"
         },
         "mode": "lines",
         "name": "srht",
         "orientation": "v",
         "showlegend": false,
         "type": "scatter",
         "x": [
          4,
          8,
          16,
          32,
          64,
          128
         ],
         "xaxis": "x79",
         "y": [
          0.0025522708892822266,
          0.002172311147054036,
          0.0027683575948079424,
          0.003847757975260416,
          0.005872885386149088,
          0.008295059204101562
         ],
         "yaxis": "y79"
        },
        {
         "hovertemplate": "method=srht<br>d=32<br>n=16384<br>m=%{x}<br>time=%{y}<extra></extra>",
         "legendgroup": "srht",
         "line": {
          "color": "#636efa",
          "dash": "solid"
         },
         "marker": {
          "symbol": "circle"
         },
         "mode": "lines",
         "name": "srht",
         "orientation": "v",
         "showlegend": false,
         "type": "scatter",
         "x": [
          4,
          8,
          16,
          32,
          64,
          128
         ],
         "xaxis": "x80",
         "y": [
          0.0053619543711344395,
          0.0039441585540771484,
          0.005006949106852213,
          0.006212552388509114,
          0.008655389149983723,
          0.012096325556437174
         ],
         "yaxis": "y80"
        },
        {
         "hovertemplate": "method=srht<br>d=32<br>n=32768<br>m=%{x}<br>time=%{y}<extra></extra>",
         "legendgroup": "srht",
         "line": {
          "color": "#636efa",
          "dash": "solid"
         },
         "marker": {
          "symbol": "circle"
         },
         "mode": "lines",
         "name": "srht",
         "orientation": "v",
         "showlegend": false,
         "type": "scatter",
         "x": [
          4,
          8,
          16,
          32,
          64,
          128
         ],
         "xaxis": "x81",
         "y": [
          0.014717578887939451,
          0.01332267125447591,
          0.015549977620442707,
          0.018030405044555664,
          0.026617447535196938,
          0.02420663833618164
         ],
         "yaxis": "y81"
        },
        {
         "hovertemplate": "method=srht<br>d=64<br>n=128<br>m=%{x}<br>time=%{y}<extra></extra>",
         "legendgroup": "srht",
         "line": {
          "color": "#636efa",
          "dash": "solid"
         },
         "marker": {
          "symbol": "circle"
         },
         "mode": "lines",
         "name": "srht",
         "orientation": "v",
         "showlegend": false,
         "type": "scatter",
         "x": [
          4,
          8,
          16,
          32,
          64
         ],
         "xaxis": "x64",
         "y": [
          0.0003766218821207682,
          0.00044329961140950514,
          0.0008760293324788411,
          0.0008401075998942056,
          0.0012062390645345051
         ],
         "yaxis": "y64"
        },
        {
         "hovertemplate": "method=srht<br>d=64<br>n=256<br>m=%{x}<br>time=%{y}<extra></extra>",
         "legendgroup": "srht",
         "line": {
          "color": "#636efa",
          "dash": "solid"
         },
         "marker": {
          "symbol": "circle"
         },
         "mode": "lines",
         "name": "srht",
         "orientation": "v",
         "showlegend": false,
         "type": "scatter",
         "x": [
          4,
          8,
          16,
          32,
          64,
          128
         ],
         "xaxis": "x65",
         "y": [
          0.0004223982493082682,
          0.0005861918131510416,
          0.0007402896881103516,
          0.00103759765625,
          0.0016016960144042969,
          0.0022789637247721353
         ],
         "yaxis": "y65"
        },
        {
         "hovertemplate": "method=srht<br>d=64<br>n=512<br>m=%{x}<br>time=%{y}<extra></extra>",
         "legendgroup": "srht",
         "line": {
          "color": "#636efa",
          "dash": "solid"
         },
         "marker": {
          "symbol": "circle"
         },
         "mode": "lines",
         "name": "srht",
         "orientation": "v",
         "showlegend": false,
         "type": "scatter",
         "x": [
          4,
          8,
          16,
          32,
          64,
          128,
          256
         ],
         "xaxis": "x66",
         "y": [
          0.000471353530883789,
          0.0005981922149658203,
          0.0011262098948160806,
          0.0015616416931152342,
          0.001956939697265625,
          0.0029842853546142574,
          0.004418373107910156
         ],
         "yaxis": "y66"
        },
        {
         "hovertemplate": "method=srht<br>d=64<br>n=1024<br>m=%{x}<br>time=%{y}<extra></extra>",
         "legendgroup": "srht",
         "line": {
          "color": "#636efa",
          "dash": "solid"
         },
         "marker": {
          "symbol": "circle"
         },
         "mode": "lines",
         "name": "srht",
         "orientation": "v",
         "showlegend": false,
         "type": "scatter",
         "x": [
          4,
          8,
          16,
          32,
          64,
          128,
          256
         ],
         "xaxis": "x67",
         "y": [
          0.0010489622751871743,
          0.000886996587117513,
          0.001211245854695638,
          0.0017775694529215493,
          0.0026336510976155596,
          0.003977298736572266,
          0.006063063939412434
         ],
         "yaxis": "y67"
        },
        {
         "hovertemplate": "method=srht<br>d=64<br>n=2048<br>m=%{x}<br>time=%{y}<extra></extra>",
         "legendgroup": "srht",
         "line": {
          "color": "#636efa",
          "dash": "solid"
         },
         "marker": {
          "symbol": "circle"
         },
         "mode": "lines",
         "name": "srht",
         "orientation": "v",
         "showlegend": false,
         "type": "scatter",
         "x": [
          4,
          8,
          16,
          32,
          64,
          128,
          256
         ],
         "xaxis": "x68",
         "y": [
          0.0009071826934814452,
          0.0012020270029703775,
          0.0016884803771972654,
          0.002420663833618164,
          0.003560225168863932,
          0.005295594533284505,
          0.008042017618815104
         ],
         "yaxis": "y68"
        },
        {
         "hovertemplate": "method=srht<br>d=64<br>n=4096<br>m=%{x}<br>time=%{y}<extra></extra>",
         "legendgroup": "srht",
         "line": {
          "color": "#636efa",
          "dash": "solid"
         },
         "marker": {
          "symbol": "circle"
         },
         "mode": "lines",
         "name": "srht",
         "orientation": "v",
         "showlegend": false,
         "type": "scatter",
         "x": [
          4,
          8,
          16,
          32,
          64,
          128,
          256
         ],
         "xaxis": "x69",
         "y": [
          0.0018500487009684243,
          0.0019294420878092446,
          0.002730846405029297,
          0.0038178761800130205,
          0.0048876603444417315,
          0.007230917612711588,
          0.010924418767293293
         ],
         "yaxis": "y69"
        },
        {
         "hovertemplate": "method=srht<br>d=64<br>n=8192<br>m=%{x}<br>time=%{y}<extra></extra>",
         "legendgroup": "srht",
         "line": {
          "color": "#636efa",
          "dash": "solid"
         },
         "marker": {
          "symbol": "circle"
         },
         "mode": "lines",
         "name": "srht",
         "orientation": "v",
         "showlegend": false,
         "type": "scatter",
         "x": [
          4,
          8,
          16,
          32,
          64,
          128,
          256
         ],
         "xaxis": "x70",
         "y": [
          0.004618485768636067,
          0.0038976669311523433,
          0.004451274871826172,
          0.006093660990397135,
          0.008317550023396809,
          0.011203686396280924,
          0.015201965967814127
         ],
         "yaxis": "y70"
        },
        {
         "hovertemplate": "method=srht<br>d=64<br>n=16384<br>m=%{x}<br>time=%{y}<extra></extra>",
         "legendgroup": "srht",
         "line": {
          "color": "#636efa",
          "dash": "solid"
         },
         "marker": {
          "symbol": "circle"
         },
         "mode": "lines",
         "name": "srht",
         "orientation": "v",
         "showlegend": false,
         "type": "scatter",
         "x": [
          4,
          8,
          16,
          32,
          64,
          128,
          256
         ],
         "xaxis": "x71",
         "y": [
          0.009757916132609049,
          0.008972883224487305,
          0.010178327560424805,
          0.01278225580851237,
          0.01576415697733561,
          0.01966404914855957,
          0.027515967686971027
         ],
         "yaxis": "y71"
        },
        {
         "hovertemplate": "method=srht<br>d=64<br>n=32768<br>m=%{x}<br>time=%{y}<extra></extra>",
         "legendgroup": "srht",
         "line": {
          "color": "#636efa",
          "dash": "solid"
         },
         "marker": {
          "symbol": "circle"
         },
         "mode": "lines",
         "name": "srht",
         "orientation": "v",
         "showlegend": false,
         "type": "scatter",
         "x": [
          4,
          8,
          16,
          32,
          64,
          128,
          256
         ],
         "xaxis": "x72",
         "y": [
          0.019245783487955727,
          0.020263274510701496,
          0.024509429931640625,
          0.034286340077718094,
          0.03318476676940918,
          0.0398410161336263,
          0.0628673235575358
         ],
         "yaxis": "y72"
        },
        {
         "hovertemplate": "method=srht<br>d=128<br>n=256<br>m=%{x}<br>time=%{y}<extra></extra>",
         "legendgroup": "srht",
         "line": {
          "color": "#636efa",
          "dash": "solid"
         },
         "marker": {
          "symbol": "circle"
         },
         "mode": "lines",
         "name": "srht",
         "orientation": "v",
         "showlegend": false,
         "type": "scatter",
         "x": [
          4,
          8,
          16,
          32,
          64,
          128
         ],
         "xaxis": "x56",
         "y": [
          0.000444650650024414,
          0.0006140073140462239,
          0.0009626547495524087,
          0.0014411608378092446,
          0.0017199516296386719,
          0.0024601618448893228
         ],
         "yaxis": "y56"
        },
        {
         "hovertemplate": "method=srht<br>d=128<br>n=512<br>m=%{x}<br>time=%{y}<extra></extra>",
         "legendgroup": "srht",
         "line": {
          "color": "#636efa",
          "dash": "solid"
         },
         "marker": {
          "symbol": "circle"
         },
         "mode": "lines",
         "name": "srht",
         "orientation": "v",
         "showlegend": false,
         "type": "scatter",
         "x": [
          4,
          8,
          16,
          32,
          64,
          128,
          256
         ],
         "xaxis": "x57",
         "y": [
          0.0005895296732584635,
          0.0007990201314290364,
          0.0010097026824951172,
          0.001486698786417643,
          0.002245664596557617,
          0.0032866795857747393,
          0.005454699198404947
         ],
         "yaxis": "y57"
        },
        {
         "hovertemplate": "method=srht<br>d=128<br>n=1024<br>m=%{x}<br>time=%{y}<extra></extra>",
         "legendgroup": "srht",
         "line": {
          "color": "#636efa",
          "dash": "solid"
         },
         "marker": {
          "symbol": "circle"
         },
         "mode": "lines",
         "name": "srht",
         "orientation": "v",
         "showlegend": false,
         "type": "scatter",
         "x": [
          4,
          8,
          16,
          32,
          64,
          128,
          256,
          512
         ],
         "xaxis": "x58",
         "y": [
          0.0007685820261637368,
          0.0010162989298502603,
          0.0014065106709798176,
          0.0023008187611897784,
          0.0036049683888753252,
          0.004546085993448893,
          0.006473064422607422,
          0.009598016738891602
         ],
         "yaxis": "y58"
        },
        {
         "hovertemplate": "method=srht<br>d=128<br>n=2048<br>m=%{x}<br>time=%{y}<extra></extra>",
         "legendgroup": "srht",
         "line": {
          "color": "#636efa",
          "dash": "solid"
         },
         "marker": {
          "symbol": "circle"
         },
         "mode": "lines",
         "name": "srht",
         "orientation": "v",
         "showlegend": false,
         "type": "scatter",
         "x": [
          4,
          8,
          16,
          32,
          64,
          128,
          256,
          512
         ],
         "xaxis": "x59",
         "y": [
          0.0014691352844238281,
          0.0018169085184733071,
          0.0023482640584309893,
          0.002984921137491862,
          0.00428009033203125,
          0.006471633911132812,
          0.009278297424316406,
          0.013303756713867186
         ],
         "yaxis": "y59"
        },
        {
         "hovertemplate": "method=srht<br>d=128<br>n=4096<br>m=%{x}<br>time=%{y}<extra></extra>",
         "legendgroup": "srht",
         "line": {
          "color": "#636efa",
          "dash": "solid"
         },
         "marker": {
          "symbol": "circle"
         },
         "mode": "lines",
         "name": "srht",
         "orientation": "v",
         "showlegend": false,
         "type": "scatter",
         "x": [
          4,
          8,
          16,
          32,
          64,
          128,
          256,
          512
         ],
         "xaxis": "x60",
         "y": [
          0.0034429232279459634,
          0.0036933422088623047,
          0.004486719767252604,
          0.00650334358215332,
          0.0066750049591064444,
          0.009121338526407877,
          0.013079245885213215,
          0.020819902420043945
         ],
         "yaxis": "y60"
        },
        {
         "hovertemplate": "method=srht<br>d=128<br>n=8192<br>m=%{x}<br>time=%{y}<extra></extra>",
         "legendgroup": "srht",
         "line": {
          "color": "#636efa",
          "dash": "solid"
         },
         "marker": {
          "symbol": "circle"
         },
         "mode": "lines",
         "name": "srht",
         "orientation": "v",
         "showlegend": false,
         "type": "scatter",
         "x": [
          4,
          8,
          16,
          32,
          64,
          128,
          256,
          512
         ],
         "xaxis": "x61",
         "y": [
          0.007927815119425455,
          0.008931398391723633,
          0.010518789291381836,
          0.012359937032063801,
          0.014703035354614258,
          0.018661340077718098,
          0.02468458811442057,
          0.03397862116495768
         ],
         "yaxis": "y61"
        },
        {
         "hovertemplate": "method=srht<br>d=128<br>n=16384<br>m=%{x}<br>time=%{y}<extra></extra>",
         "legendgroup": "srht",
         "line": {
          "color": "#636efa",
          "dash": "solid"
         },
         "marker": {
          "symbol": "circle"
         },
         "mode": "lines",
         "name": "srht",
         "orientation": "v",
         "showlegend": false,
         "type": "scatter",
         "x": [
          4,
          8,
          16,
          32,
          64,
          128,
          256,
          512
         ],
         "xaxis": "x62",
         "y": [
          0.01812148094177246,
          0.020685990651448567,
          0.022292296091715492,
          0.0273902416229248,
          0.034026384353637695,
          0.03623318672180176,
          0.045776844024658196,
          0.05504401524861653
         ],
         "yaxis": "y62"
        },
        {
         "hovertemplate": "method=srht<br>d=128<br>n=32768<br>m=%{x}<br>time=%{y}<extra></extra>",
         "legendgroup": "srht",
         "line": {
          "color": "#636efa",
          "dash": "solid"
         },
         "marker": {
          "symbol": "circle"
         },
         "mode": "lines",
         "name": "srht",
         "orientation": "v",
         "showlegend": false,
         "type": "scatter",
         "x": [
          4,
          8,
          16,
          32,
          64,
          128,
          256,
          512
         ],
         "xaxis": "x63",
         "y": [
          0.04297963778177897,
          0.043907245000203446,
          0.05617785453796387,
          0.05970962842305501,
          0.06801239649454752,
          0.07925796508789062,
          0.10182825724283853,
          0.1065536340077718
         ],
         "yaxis": "y63"
        },
        {
         "hovertemplate": "method=srht<br>d=256<br>n=512<br>m=%{x}<br>time=%{y}<extra></extra>",
         "legendgroup": "srht",
         "line": {
          "color": "#636efa",
          "dash": "solid"
         },
         "marker": {
          "symbol": "circle"
         },
         "mode": "lines",
         "name": "srht",
         "orientation": "v",
         "showlegend": false,
         "type": "scatter",
         "x": [
          4,
          8,
          16,
          32,
          64,
          128,
          256
         ],
         "xaxis": "x48",
         "y": [
          0.0007500648498535156,
          0.0009545485178629556,
          0.0013724168141682942,
          0.0018196900685628254,
          0.0024973551432291665,
          0.003695964813232422,
          0.0054187774658203125
         ],
         "yaxis": "y48"
        },
        {
         "hovertemplate": "method=srht<br>d=256<br>n=1024<br>m=%{x}<br>time=%{y}<extra></extra>",
         "legendgroup": "srht",
         "line": {
          "color": "#636efa",
          "dash": "solid"
         },
         "marker": {
          "symbol": "circle"
         },
         "mode": "lines",
         "name": "srht",
         "orientation": "v",
         "showlegend": false,
         "type": "scatter",
         "x": [
          4,
          8,
          16,
          32,
          64,
          128,
          256,
          512
         ],
         "xaxis": "x49",
         "y": [
          0.0015393892923990884,
          0.0016282399495442708,
          0.002202908198038737,
          0.0028374195098876953,
          0.003896395365397135,
          0.007062991460164388,
          0.007784922917683919,
          0.010930538177490234
         ],
         "yaxis": "y49"
        },
        {
         "hovertemplate": "method=srht<br>d=256<br>n=2048<br>m=%{x}<br>time=%{y}<extra></extra>",
         "legendgroup": "srht",
         "line": {
          "color": "#636efa",
          "dash": "solid"
         },
         "marker": {
          "symbol": "circle"
         },
         "mode": "lines",
         "name": "srht",
         "orientation": "v",
         "showlegend": false,
         "type": "scatter",
         "x": [
          4,
          8,
          16,
          32,
          64,
          128,
          256,
          512,
          1024
         ],
         "xaxis": "x50",
         "y": [
          0.002672910690307617,
          0.003493388493855794,
          0.0043833255767822266,
          0.005649089813232422,
          0.00652472178141276,
          0.009130080540974934,
          0.011915365854899088,
          0.01784992218017578,
          0.02358134587605794
         ],
         "yaxis": "y50"
        },
        {
         "hovertemplate": "method=srht<br>d=256<br>n=4096<br>m=%{x}<br>time=%{y}<extra></extra>",
         "legendgroup": "srht",
         "line": {
          "color": "#636efa",
          "dash": "solid"
         },
         "marker": {
          "symbol": "circle"
         },
         "mode": "lines",
         "name": "srht",
         "orientation": "v",
         "showlegend": false,
         "type": "scatter",
         "x": [
          4,
          8,
          16,
          32,
          64,
          128,
          256,
          512,
          1024
         ],
         "xaxis": "x51",
         "y": [
          0.0067674318949381505,
          0.011526981989542643,
          0.009976704915364582,
          0.011941353480021158,
          0.01397267977396647,
          0.017357826232910156,
          0.022288401921590168,
          0.029536326726277668,
          0.039185682932535805
         ],
         "yaxis": "y51"
        },
        {
         "hovertemplate": "method=srht<br>d=256<br>n=8192<br>m=%{x}<br>time=%{y}<extra></extra>",
         "legendgroup": "srht",
         "line": {
          "color": "#636efa",
          "dash": "solid"
         },
         "marker": {
          "symbol": "circle"
         },
         "mode": "lines",
         "name": "srht",
         "orientation": "v",
         "showlegend": false,
         "type": "scatter",
         "x": [
          4,
          8,
          16,
          32,
          64,
          128,
          256,
          512,
          1024
         ],
         "xaxis": "x52",
         "y": [
          0.01824204126993815,
          0.020653247833251953,
          0.02306858698527018,
          0.026735305786132812,
          0.034875472386678055,
          0.035419623057047524,
          0.04351560274759928,
          0.05265037218729655,
          0.06705935796101888
         ],
         "yaxis": "y52"
        },
        {
         "hovertemplate": "method=srht<br>d=256<br>n=16384<br>m=%{x}<br>time=%{y}<extra></extra>",
         "legendgroup": "srht",
         "line": {
          "color": "#636efa",
          "dash": "solid"
         },
         "marker": {
          "symbol": "circle"
         },
         "mode": "lines",
         "name": "srht",
         "orientation": "v",
         "showlegend": false,
         "type": "scatter",
         "x": [
          4,
          8,
          16,
          32,
          64,
          128,
          256,
          512,
          1024
         ],
         "xaxis": "x53",
         "y": [
          0.03926428159077962,
          0.04232374827067057,
          0.05135464668273926,
          0.05662894248962402,
          0.06447458267211914,
          0.0714577039082845,
          0.08740472793579102,
          0.0993062655131022,
          0.1179824670155843
         ],
         "yaxis": "y53"
        },
        {
         "hovertemplate": "method=srht<br>d=256<br>n=32768<br>m=%{x}<br>time=%{y}<extra></extra>",
         "legendgroup": "srht",
         "line": {
          "color": "#636efa",
          "dash": "solid"
         },
         "marker": {
          "symbol": "circle"
         },
         "mode": "lines",
         "name": "srht",
         "orientation": "v",
         "showlegend": false,
         "type": "scatter",
         "x": [
          4,
          8,
          16,
          32,
          64,
          128,
          256,
          512,
          1024
         ],
         "xaxis": "x54",
         "y": [
          0.0862290064493815,
          0.10155812899271646,
          0.130126953125,
          0.14067824681599933,
          0.14350787798563638,
          0.15738606452941895,
          0.17113931973775226,
          0.19208439191182453,
          0.22373247146606445
         ],
         "yaxis": "y54"
        },
        {
         "hovertemplate": "method=srht<br>d=512<br>n=1024<br>m=%{x}<br>time=%{y}<extra></extra>",
         "legendgroup": "srht",
         "line": {
          "color": "#636efa",
          "dash": "solid"
         },
         "marker": {
          "symbol": "circle"
         },
         "mode": "lines",
         "name": "srht",
         "orientation": "v",
         "showlegend": false,
         "type": "scatter",
         "x": [
          4,
          8,
          16,
          32,
          64,
          128,
          256,
          512
         ],
         "xaxis": "x40",
         "y": [
          0.002769629160563151,
          0.0033686161041259766,
          0.003916025161743164,
          0.004658937454223633,
          0.007326761881510416,
          0.008808692296346027,
          0.010501941045125324,
          0.016112963358561196
         ],
         "yaxis": "y40"
        },
        {
         "hovertemplate": "method=srht<br>d=512<br>n=2048<br>m=%{x}<br>time=%{y}<extra></extra>",
         "legendgroup": "srht",
         "line": {
          "color": "#636efa",
          "dash": "solid"
         },
         "marker": {
          "symbol": "circle"
         },
         "mode": "lines",
         "name": "srht",
         "orientation": "v",
         "showlegend": false,
         "type": "scatter",
         "x": [
          4,
          8,
          16,
          32,
          64,
          128,
          256,
          512,
          1024
         ],
         "xaxis": "x41",
         "y": [
          0.00789944330851237,
          0.008376598358154297,
          0.010006427764892578,
          0.01126869519551595,
          0.013319969177246092,
          0.016887664794921875,
          0.021148045857747395,
          0.02714268366495768,
          0.0339971383412679
         ],
         "yaxis": "y41"
        },
        {
         "hovertemplate": "method=srht<br>d=512<br>n=4096<br>m=%{x}<br>time=%{y}<extra></extra>",
         "legendgroup": "srht",
         "line": {
          "color": "#636efa",
          "dash": "solid"
         },
         "marker": {
          "symbol": "circle"
         },
         "mode": "lines",
         "name": "srht",
         "orientation": "v",
         "showlegend": false,
         "type": "scatter",
         "x": [
          4,
          8,
          16,
          32,
          64,
          128,
          256,
          512,
          1024,
          2048
         ],
         "xaxis": "x42",
         "y": [
          0.017797311147054035,
          0.020357847213745117,
          0.022322972615559895,
          0.026139338811238606,
          0.030300378799438473,
          0.03621093432108561,
          0.042097012201944985,
          0.1012746493021647,
          0.059237559636433915,
          0.07615208625793457
         ],
         "yaxis": "y42"
        },
        {
         "hovertemplate": "method=srht<br>d=512<br>n=8192<br>m=%{x}<br>time=%{y}<extra></extra>",
         "legendgroup": "srht",
         "line": {
          "color": "#636efa",
          "dash": "solid"
         },
         "marker": {
          "symbol": "circle"
         },
         "mode": "lines",
         "name": "srht",
         "orientation": "v",
         "showlegend": false,
         "type": "scatter",
         "x": [
          4,
          8,
          16,
          32,
          64,
          128,
          256,
          512,
          1024,
          2048
         ],
         "xaxis": "x43",
         "y": [
          0.04051144917805989,
          0.042608022689819336,
          0.052965402603149414,
          0.05682730674743652,
          0.06324227650960286,
          0.07515501976013184,
          0.08079520861307779,
          0.09458319346110025,
          0.11569801966349283,
          0.13860734303792316
         ],
         "yaxis": "y43"
        },
        {
         "hovertemplate": "method=srht<br>d=512<br>n=16384<br>m=%{x}<br>time=%{y}<extra></extra>",
         "legendgroup": "srht",
         "line": {
          "color": "#636efa",
          "dash": "solid"
         },
         "marker": {
          "symbol": "circle"
         },
         "mode": "lines",
         "name": "srht",
         "orientation": "v",
         "showlegend": false,
         "type": "scatter",
         "x": [
          4,
          8,
          16,
          32,
          64,
          128,
          256,
          512,
          1024,
          2048
         ],
         "xaxis": "x44",
         "y": [
          0.08103481928507486,
          0.09155265490214029,
          0.1095897356669108,
          0.12411204973856607,
          0.13739935557047525,
          0.15041661262512207,
          0.16453337669372559,
          0.18755499521891275,
          0.21310941378275552,
          0.2503070831298828
         ],
         "yaxis": "y44"
        },
        {
         "hovertemplate": "method=srht<br>d=512<br>n=32768<br>m=%{x}<br>time=%{y}<extra></extra>",
         "legendgroup": "srht",
         "line": {
          "color": "#636efa",
          "dash": "solid"
         },
         "marker": {
          "symbol": "circle"
         },
         "mode": "lines",
         "name": "srht",
         "orientation": "v",
         "showlegend": false,
         "type": "scatter",
         "x": [
          4,
          8,
          16,
          32,
          64,
          128,
          256,
          512,
          1024,
          2048
         ],
         "xaxis": "x45",
         "y": [
          0.1763199170430501,
          0.21797919273376465,
          0.2422800858815511,
          0.29938292503356934,
          0.3088998794555664,
          0.3478917280832926,
          0.37108834584554035,
          0.4065276781717936,
          0.4292232195536295,
          0.47754931449890137
         ],
         "yaxis": "y45"
        },
        {
         "hovertemplate": "method=srht<br>d=1024<br>n=2048<br>m=%{x}<br>time=%{y}<extra></extra>",
         "legendgroup": "srht",
         "line": {
          "color": "#636efa",
          "dash": "solid"
         },
         "marker": {
          "symbol": "circle"
         },
         "mode": "lines",
         "name": "srht",
         "orientation": "v",
         "showlegend": false,
         "type": "scatter",
         "x": [
          4,
          8,
          16,
          32,
          64,
          128,
          256,
          512,
          1024
         ],
         "xaxis": "x32",
         "y": [
          0.019897381464640297,
          0.019212722778320312,
          0.024172306060791016,
          0.025607585906982422,
          0.03250304857889811,
          0.03604777654012044,
          0.04010232289632161,
          0.04769714673360188,
          0.05878869692484537
         ],
         "yaxis": "y32"
        },
        {
         "hovertemplate": "method=srht<br>d=1024<br>n=4096<br>m=%{x}<br>time=%{y}<extra></extra>",
         "legendgroup": "srht",
         "line": {
          "color": "#636efa",
          "dash": "solid"
         },
         "marker": {
          "symbol": "circle"
         },
         "mode": "lines",
         "name": "srht",
         "orientation": "v",
         "showlegend": false,
         "type": "scatter",
         "x": [
          4,
          8,
          16,
          32,
          64,
          128,
          256,
          512,
          1024,
          2048
         ],
         "xaxis": "x33",
         "y": [
          0.044666290283203125,
          0.043601036071777344,
          0.0486300786336263,
          0.05848240852355957,
          0.06436379750569661,
          0.07169127464294434,
          0.07783826192220052,
          0.09223826726277669,
          0.10950899124145508,
          0.12833762168884277
         ],
         "yaxis": "y33"
        },
        {
         "hovertemplate": "method=srht<br>d=1024<br>n=8192<br>m=%{x}<br>time=%{y}<extra></extra>",
         "legendgroup": "srht",
         "line": {
          "color": "#636efa",
          "dash": "solid"
         },
         "marker": {
          "symbol": "circle"
         },
         "mode": "lines",
         "name": "srht",
         "orientation": "v",
         "showlegend": false,
         "type": "scatter",
         "x": [
          4,
          8,
          16,
          32,
          64,
          128,
          256,
          512,
          1024,
          2048,
          4096
         ],
         "xaxis": "x34",
         "y": [
          0.08275238672892252,
          0.09935935338338216,
          0.11007428169250487,
          0.12235943476359049,
          0.14010405540466309,
          0.15769418080647785,
          0.16560626029968262,
          0.183061679204305,
          0.2059788703918457,
          0.2377669016520182,
          0.27846789360046387
         ],
         "yaxis": "y34"
        },
        {
         "hovertemplate": "method=srht<br>d=1024<br>n=16384<br>m=%{x}<br>time=%{y}<extra></extra>",
         "legendgroup": "srht",
         "line": {
          "color": "#636efa",
          "dash": "solid"
         },
         "marker": {
          "symbol": "circle"
         },
         "mode": "lines",
         "name": "srht",
         "orientation": "v",
         "showlegend": false,
         "type": "scatter",
         "x": [
          4,
          8,
          16,
          32,
          64,
          128,
          256,
          512,
          1024,
          2048,
          4096
         ],
         "xaxis": "x35",
         "y": [
          0.16225417455037433,
          0.2085130214691162,
          0.23044991493225098,
          0.2643297513326009,
          0.29718732833862305,
          0.32029541333516437,
          0.34934941927591956,
          0.38654859860738117,
          0.4147862593332926,
          0.46469839413960773,
          0.5368733406066895
         ],
         "yaxis": "y35"
        },
        {
         "hovertemplate": "method=srht<br>d=1024<br>n=32768<br>m=%{x}<br>time=%{y}<extra></extra>",
         "legendgroup": "srht",
         "line": {
          "color": "#636efa",
          "dash": "solid"
         },
         "marker": {
          "symbol": "circle"
         },
         "mode": "lines",
         "name": "srht",
         "orientation": "v",
         "showlegend": false,
         "type": "scatter",
         "x": [
          4,
          8,
          16,
          32,
          64,
          128,
          256,
          512,
          1024,
          2048,
          4096
         ],
         "xaxis": "x36",
         "y": [
          0.40123979250590003,
          0.4965582688649495,
          0.5853173732757568,
          0.6428465843200684,
          0.7047413190205891,
          0.7915639877319335,
          0.8580700556437174,
          0.9280989964803059,
          0.9777785142262776,
          1.0370542208353677,
          1.1551331679026284
         ],
         "yaxis": "y36"
        },
        {
         "hovertemplate": "method=srht<br>d=2048<br>n=4096<br>m=%{x}<br>time=%{y}<extra></extra>",
         "legendgroup": "srht",
         "line": {
          "color": "#636efa",
          "dash": "solid"
         },
         "marker": {
          "symbol": "circle"
         },
         "mode": "lines",
         "name": "srht",
         "orientation": "v",
         "showlegend": false,
         "type": "scatter",
         "x": [
          4,
          8,
          16,
          32,
          64,
          128,
          256,
          512,
          1024,
          2048
         ],
         "xaxis": "x24",
         "y": [
          0.08967137336730957,
          0.09268776575724283,
          0.11392935117085774,
          0.1269696553548177,
          0.13723429044087726,
          0.15003275871276855,
          0.1633938948313395,
          0.18059508005777994,
          0.2024699846903483,
          0.22937337557474768
         ],
         "yaxis": "y24"
        },
        {
         "hovertemplate": "method=srht<br>d=2048<br>n=8192<br>m=%{x}<br>time=%{y}<extra></extra>",
         "legendgroup": "srht",
         "line": {
          "color": "#636efa",
          "dash": "solid"
         },
         "marker": {
          "symbol": "circle"
         },
         "mode": "lines",
         "name": "srht",
         "orientation": "v",
         "showlegend": false,
         "type": "scatter",
         "x": [
          4,
          8,
          16,
          32,
          64,
          128,
          256,
          512,
          1024,
          2048,
          4096
         ],
         "xaxis": "x25",
         "y": [
          0.16809725761413574,
          0.21273541450500486,
          0.24022563298543292,
          0.26807936032613117,
          0.30958620707194007,
          0.3246193726857503,
          0.3502713044484456,
          0.37528697649637854,
          0.4121172428131103,
          0.4691036542256673,
          0.5084069569905598
         ],
         "yaxis": "y25"
        },
        {
         "hovertemplate": "method=srht<br>d=2048<br>n=16384<br>m=%{x}<br>time=%{y}<extra></extra>",
         "legendgroup": "srht",
         "line": {
          "color": "#636efa",
          "dash": "solid"
         },
         "marker": {
          "symbol": "circle"
         },
         "mode": "lines",
         "name": "srht",
         "orientation": "v",
         "showlegend": false,
         "type": "scatter",
         "x": [
          4,
          8,
          16,
          32,
          64,
          128,
          256,
          512,
          1024,
          2048,
          4096,
          8192
         ],
         "xaxis": "x26",
         "y": [
          0.4248248736063639,
          0.5809427102406819,
          0.5903266270955403,
          0.6504368782043457,
          0.7106680870056152,
          0.7554153601328532,
          0.8472973505655923,
          0.8705823421478271,
          0.9222073554992676,
          1.0062362353006997,
          1.1443649927775064,
          1.242332855860392
         ],
         "yaxis": "y26"
        },
        {
         "hovertemplate": "method=srht<br>d=2048<br>n=32768<br>m=%{x}<br>time=%{y}<extra></extra>",
         "legendgroup": "srht",
         "line": {
          "color": "#636efa",
          "dash": "solid"
         },
         "marker": {
          "symbol": "circle"
         },
         "mode": "lines",
         "name": "srht",
         "orientation": "v",
         "showlegend": false,
         "type": "scatter",
         "x": [
          4,
          8,
          16,
          32,
          64,
          128,
          256,
          512,
          1024,
          2048,
          4096,
          8192
         ],
         "xaxis": "x27",
         "y": [
          1.1226449807484944,
          1.40277099609375,
          1.5106939474741616,
          1.7179913520812988,
          2.042195955912272,
          2.1204772790273028,
          2.0370940367380777,
          2.215670585632324,
          2.312333027521769,
          2.4643110434214273,
          2.5509250164031982,
          2.970280011494954
         ],
         "yaxis": "y27"
        },
        {
         "hovertemplate": "method=srht<br>d=4096<br>n=8192<br>m=%{x}<br>time=%{y}<extra></extra>",
         "legendgroup": "srht",
         "line": {
          "color": "#636efa",
          "dash": "solid"
         },
         "marker": {
          "symbol": "circle"
         },
         "mode": "lines",
         "name": "srht",
         "orientation": "v",
         "showlegend": false,
         "type": "scatter",
         "x": [
          4,
          8,
          16,
          32,
          64,
          128,
          256,
          512,
          1024,
          2048,
          4096
         ],
         "xaxis": "x16",
         "y": [
          0.4288386503855387,
          0.4852070013682047,
          0.5740137100219727,
          0.6668249766031901,
          0.7047226428985596,
          0.77114733060201,
          0.826985756556193,
          0.8745644887288411,
          0.9312520821889241,
          0.9858345190684,
          1.0689052740732827
         ],
         "yaxis": "y16"
        },
        {
         "hovertemplate": "method=srht<br>d=4096<br>n=16384<br>m=%{x}<br>time=%{y}<extra></extra>",
         "legendgroup": "srht",
         "line": {
          "color": "#636efa",
          "dash": "solid"
         },
         "marker": {
          "symbol": "circle"
         },
         "mode": "lines",
         "name": "srht",
         "orientation": "v",
         "showlegend": false,
         "type": "scatter",
         "x": [
          4,
          8,
          16,
          32,
          64,
          128,
          256,
          512,
          1024,
          2048,
          4096,
          8192
         ],
         "xaxis": "x17",
         "y": [
          1.0475141207377114,
          1.2117465337117512,
          1.3545223077138264,
          1.5032192071278887,
          1.6647792657216387,
          1.8096098899841309,
          1.97773806254069,
          2.0050176779429116,
          2.2221693992614746,
          2.3255969683329263,
          2.390257994333903,
          2.6974893411000567
         ],
         "yaxis": "y17"
        },
        {
         "hovertemplate": "method=srht<br>d=4096<br>n=32768<br>m=%{x}<br>time=%{y}<extra></extra>",
         "legendgroup": "srht",
         "line": {
          "color": "#636efa",
          "dash": "solid"
         },
         "marker": {
          "symbol": "circle"
         },
         "mode": "lines",
         "name": "srht",
         "orientation": "v",
         "showlegend": false,
         "type": "scatter",
         "x": [
          4,
          8,
          16,
          32,
          64,
          128,
          256,
          512,
          1024,
          2048,
          4096,
          8192
         ],
         "xaxis": "x18",
         "y": [
          2.7096333503723145,
          2.882792552312215,
          3.267476320266723,
          3.709803342819214,
          4.077023267745972,
          4.439423243204752,
          4.692151308059692,
          5.005085388819376,
          5.325061241785685,
          5.509804964065552,
          5.691075960795084,
          6.149317582448323
         ],
         "yaxis": "y18"
        },
        {
         "hovertemplate": "method=srht<br>d=8192<br>n=16384<br>m=%{x}<br>time=%{y}<extra></extra>",
         "legendgroup": "srht",
         "line": {
          "color": "#636efa",
          "dash": "solid"
         },
         "marker": {
          "symbol": "circle"
         },
         "mode": "lines",
         "name": "srht",
         "orientation": "v",
         "showlegend": false,
         "type": "scatter",
         "x": [
          4,
          8,
          16,
          32,
          64,
          128,
          256,
          512,
          1024,
          2048,
          4096,
          8192
         ],
         "xaxis": "x8",
         "y": [
          2.3603851000467935,
          2.71547532081604,
          3.438436428705851,
          4.1785766283671055,
          4.0799384117126465,
          4.647000869115193,
          5.189230839411417,
          5.118078708648682,
          4.72703472773234,
          5.124955574671427,
          5.988888343175252,
          5.954465309778849
         ],
         "yaxis": "y8"
        },
        {
         "hovertemplate": "method=srht<br>d=8192<br>n=32768<br>m=%{x}<br>time=%{y}<extra></extra>",
         "legendgroup": "srht",
         "line": {
          "color": "#636efa",
          "dash": "solid"
         },
         "marker": {
          "symbol": "circle"
         },
         "mode": "lines",
         "name": "srht",
         "orientation": "v",
         "showlegend": false,
         "type": "scatter",
         "x": [
          4,
          8,
          16,
          32,
          64,
          128,
          256,
          512,
          1024,
          2048,
          4096,
          8192
         ],
         "xaxis": "x9",
         "y": [
          5.63485566775004,
          6.949230273564656,
          7.52305769920349,
          8.225057363510132,
          8.927880048751831,
          12.049921035766602,
          10.578471183776855,
          11.02501583099365,
          11.772764205932617,
          12.693735758463541,
          12.753553628921509,
          15.828950881958008
         ],
         "yaxis": "y9"
        },
        {
         "hovertemplate": "method=srht_slow<br>d=16<br>n=128<br>m=%{x}<br>time=%{y}<extra></extra>",
         "legendgroup": "srht_slow",
         "line": {
          "color": "#EF553B",
          "dash": "solid"
         },
         "marker": {
          "symbol": "circle"
         },
         "mode": "lines",
         "name": "srht_slow",
         "orientation": "v",
         "showlegend": true,
         "type": "scatter",
         "x": [
          4,
          8,
          16,
          32,
          64
         ],
         "xaxis": "x82",
         "y": [
          0.0016393661499023435,
          0.0015638669331868489,
          0.0014829635620117188,
          0.0014221668243408203,
          0.0014235973358154297
         ],
         "yaxis": "y82"
        },
        {
         "hovertemplate": "method=srht_slow<br>d=16<br>n=256<br>m=%{x}<br>time=%{y}<extra></extra>",
         "legendgroup": "srht_slow",
         "line": {
          "color": "#EF553B",
          "dash": "solid"
         },
         "marker": {
          "symbol": "circle"
         },
         "mode": "lines",
         "name": "srht_slow",
         "orientation": "v",
         "showlegend": false,
         "type": "scatter",
         "x": [
          4,
          8,
          16,
          32,
          64
         ],
         "xaxis": "x83",
         "y": [
          0.0026171207427978516,
          0.00261688232421875,
          0.0029116471608479815,
          0.0027399063110351562,
          0.002566734949747721
         ],
         "yaxis": "y83"
        },
        {
         "hovertemplate": "method=srht_slow<br>d=16<br>n=512<br>m=%{x}<br>time=%{y}<extra></extra>",
         "legendgroup": "srht_slow",
         "line": {
          "color": "#EF553B",
          "dash": "solid"
         },
         "marker": {
          "symbol": "circle"
         },
         "mode": "lines",
         "name": "srht_slow",
         "orientation": "v",
         "showlegend": false,
         "type": "scatter",
         "x": [
          4,
          8,
          16,
          32,
          64
         ],
         "xaxis": "x84",
         "y": [
          0.005980412165323893,
          0.005721330642700195,
          0.005669355392456055,
          0.005857308705647786,
          0.00580596923828125
         ],
         "yaxis": "y84"
        },
        {
         "hovertemplate": "method=srht_slow<br>d=16<br>n=1024<br>m=%{x}<br>time=%{y}<extra></extra>",
         "legendgroup": "srht_slow",
         "line": {
          "color": "#EF553B",
          "dash": "solid"
         },
         "marker": {
          "symbol": "circle"
         },
         "mode": "lines",
         "name": "srht_slow",
         "orientation": "v",
         "showlegend": false,
         "type": "scatter",
         "x": [
          4,
          8,
          16,
          32,
          64
         ],
         "xaxis": "x85",
         "y": [
          0.012751817703247069,
          0.012975295384724934,
          0.012473026911417643,
          0.012579043706258137,
          0.012499094009399414
         ],
         "yaxis": "y85"
        },
        {
         "hovertemplate": "method=srht_slow<br>d=16<br>n=2048<br>m=%{x}<br>time=%{y}<extra></extra>",
         "legendgroup": "srht_slow",
         "line": {
          "color": "#EF553B",
          "dash": "solid"
         },
         "marker": {
          "symbol": "circle"
         },
         "mode": "lines",
         "name": "srht_slow",
         "orientation": "v",
         "showlegend": false,
         "type": "scatter",
         "x": [
          4,
          8,
          16,
          32,
          64
         ],
         "xaxis": "x86",
         "y": [
          0.02745898564656575,
          0.027498642603556313,
          0.027331272761027016,
          0.027329842249552407,
          0.027416785558064777
         ],
         "yaxis": "y86"
        },
        {
         "hovertemplate": "method=srht_slow<br>d=16<br>n=4096<br>m=%{x}<br>time=%{y}<extra></extra>",
         "legendgroup": "srht_slow",
         "line": {
          "color": "#EF553B",
          "dash": "solid"
         },
         "marker": {
          "symbol": "circle"
         },
         "mode": "lines",
         "name": "srht_slow",
         "orientation": "v",
         "showlegend": false,
         "type": "scatter",
         "x": [
          4,
          8,
          16,
          32,
          64
         ],
         "xaxis": "x87",
         "y": [
          0.06060131390889485,
          0.060892343521118164,
          0.05963873863220215,
          0.059711615244547524,
          0.05964620908101399
         ],
         "yaxis": "y87"
        },
        {
         "hovertemplate": "method=srht_slow<br>d=16<br>n=8192<br>m=%{x}<br>time=%{y}<extra></extra>",
         "legendgroup": "srht_slow",
         "line": {
          "color": "#EF553B",
          "dash": "solid"
         },
         "marker": {
          "symbol": "circle"
         },
         "mode": "lines",
         "name": "srht_slow",
         "orientation": "v",
         "showlegend": false,
         "type": "scatter",
         "x": [
          4,
          8,
          16,
          32,
          64
         ],
         "xaxis": "x88",
         "y": [
          0.13379979133605957,
          0.1298395792643229,
          0.1286310354868571,
          0.1289979616800944,
          0.12794295946756998
         ],
         "yaxis": "y88"
        },
        {
         "hovertemplate": "method=srht_slow<br>d=16<br>n=16384<br>m=%{x}<br>time=%{y}<extra></extra>",
         "legendgroup": "srht_slow",
         "line": {
          "color": "#EF553B",
          "dash": "solid"
         },
         "marker": {
          "symbol": "circle"
         },
         "mode": "lines",
         "name": "srht_slow",
         "orientation": "v",
         "showlegend": false,
         "type": "scatter",
         "x": [
          4,
          8,
          16,
          32,
          64
         ],
         "xaxis": "x89",
         "y": [
          0.27867237726847327,
          0.27567315101623535,
          0.27870726585388184,
          0.27485402425130206,
          0.2731442451477051
         ],
         "yaxis": "y89"
        },
        {
         "hovertemplate": "method=srht_slow<br>d=16<br>n=32768<br>m=%{x}<br>time=%{y}<extra></extra>",
         "legendgroup": "srht_slow",
         "line": {
          "color": "#EF553B",
          "dash": "solid"
         },
         "marker": {
          "symbol": "circle"
         },
         "mode": "lines",
         "name": "srht_slow",
         "orientation": "v",
         "showlegend": false,
         "type": "scatter",
         "x": [
          4,
          8,
          16,
          32,
          64
         ],
         "xaxis": "x90",
         "y": [
          0.6208988030751545,
          0.6008083820343018,
          0.6291929086049397,
          0.6276397705078125,
          0.6749928792317708
         ],
         "yaxis": "y90"
        },
        {
         "hovertemplate": "method=srht_slow<br>d=32<br>n=128<br>m=%{x}<br>time=%{y}<extra></extra>",
         "legendgroup": "srht_slow",
         "line": {
          "color": "#EF553B",
          "dash": "solid"
         },
         "marker": {
          "symbol": "circle"
         },
         "mode": "lines",
         "name": "srht_slow",
         "orientation": "v",
         "showlegend": false,
         "type": "scatter",
         "x": [
          4,
          8,
          16,
          32,
          64
         ],
         "xaxis": "x73",
         "y": [
          0.0015249252319335938,
          0.0014323393503824868,
          0.0013652642567952473,
          0.0012227694193522134,
          0.0013441244761149087
         ],
         "yaxis": "y73"
        },
        {
         "hovertemplate": "method=srht_slow<br>d=32<br>n=256<br>m=%{x}<br>time=%{y}<extra></extra>",
         "legendgroup": "srht_slow",
         "line": {
          "color": "#EF553B",
          "dash": "solid"
         },
         "marker": {
          "symbol": "circle"
         },
         "mode": "lines",
         "name": "srht_slow",
         "orientation": "v",
         "showlegend": false,
         "type": "scatter",
         "x": [
          4,
          8,
          16,
          32,
          64,
          128
         ],
         "xaxis": "x74",
         "y": [
          0.0025939146677652993,
          0.0026046435038248696,
          0.0025811195373535156,
          0.00273593266805013,
          0.0026363531748453775,
          0.0028112729390462237
         ],
         "yaxis": "y74"
        },
        {
         "hovertemplate": "method=srht_slow<br>d=32<br>n=512<br>m=%{x}<br>time=%{y}<extra></extra>",
         "legendgroup": "srht_slow",
         "line": {
          "color": "#EF553B",
          "dash": "solid"
         },
         "marker": {
          "symbol": "circle"
         },
         "mode": "lines",
         "name": "srht_slow",
         "orientation": "v",
         "showlegend": false,
         "type": "scatter",
         "x": [
          4,
          8,
          16,
          32,
          64,
          128
         ],
         "xaxis": "x75",
         "y": [
          0.006109317143758138,
          0.005800008773803711,
          0.005653778711954752,
          0.005746682484944661,
          0.005699634552001953,
          0.005754629770914713
         ],
         "yaxis": "y75"
        },
        {
         "hovertemplate": "method=srht_slow<br>d=32<br>n=1024<br>m=%{x}<br>time=%{y}<extra></extra>",
         "legendgroup": "srht_slow",
         "line": {
          "color": "#EF553B",
          "dash": "solid"
         },
         "marker": {
          "symbol": "circle"
         },
         "mode": "lines",
         "name": "srht_slow",
         "orientation": "v",
         "showlegend": false,
         "type": "scatter",
         "x": [
          4,
          8,
          16,
          32,
          64,
          128
         ],
         "xaxis": "x76",
         "y": [
          0.012549638748168944,
          0.012574354807535805,
          0.012479782104492188,
          0.012405316034952799,
          0.012321233749389648,
          0.013198693593343098
         ],
         "yaxis": "y76"
        },
        {
         "hovertemplate": "method=srht_slow<br>d=32<br>n=2048<br>m=%{x}<br>time=%{y}<extra></extra>",
         "legendgroup": "srht_slow",
         "line": {
          "color": "#EF553B",
          "dash": "solid"
         },
         "marker": {
          "symbol": "circle"
         },
         "mode": "lines",
         "name": "srht_slow",
         "orientation": "v",
         "showlegend": false,
         "type": "scatter",
         "x": [
          4,
          8,
          16,
          32,
          64,
          128
         ],
         "xaxis": "x77",
         "y": [
          0.027120351791381836,
          0.027560154596964516,
          0.02725879351298014,
          0.028228362401326493,
          0.027345259984334305,
          0.027259429295857746
         ],
         "yaxis": "y77"
        },
        {
         "hovertemplate": "method=srht_slow<br>d=32<br>n=4096<br>m=%{x}<br>time=%{y}<extra></extra>",
         "legendgroup": "srht_slow",
         "line": {
          "color": "#EF553B",
          "dash": "solid"
         },
         "marker": {
          "symbol": "circle"
         },
         "mode": "lines",
         "name": "srht_slow",
         "orientation": "v",
         "showlegend": false,
         "type": "scatter",
         "x": [
          4,
          8,
          16,
          32,
          64,
          128
         ],
         "xaxis": "x78",
         "y": [
          0.061075687408447266,
          0.06186874707539876,
          0.06842494010925293,
          0.060439348220825195,
          0.059828996658325195,
          0.05870811144510904
         ],
         "yaxis": "y78"
        },
        {
         "hovertemplate": "method=srht_slow<br>d=32<br>n=8192<br>m=%{x}<br>time=%{y}<extra></extra>",
         "legendgroup": "srht_slow",
         "line": {
          "color": "#EF553B",
          "dash": "solid"
         },
         "marker": {
          "symbol": "circle"
         },
         "mode": "lines",
         "name": "srht_slow",
         "orientation": "v",
         "showlegend": false,
         "type": "scatter",
         "x": [
          4,
          8,
          16,
          32,
          64,
          128
         ],
         "xaxis": "x79",
         "y": [
          0.1307710806528727,
          0.13003087043762207,
          0.1304490566253662,
          0.12946923573811847,
          0.13019879659016925,
          0.1315479278564453
         ],
         "yaxis": "y79"
        },
        {
         "hovertemplate": "method=srht_slow<br>d=32<br>n=16384<br>m=%{x}<br>time=%{y}<extra></extra>",
         "legendgroup": "srht_slow",
         "line": {
          "color": "#EF553B",
          "dash": "solid"
         },
         "marker": {
          "symbol": "circle"
         },
         "mode": "lines",
         "name": "srht_slow",
         "orientation": "v",
         "showlegend": false,
         "type": "scatter",
         "x": [
          4,
          8,
          16,
          32,
          64,
          128
         ],
         "xaxis": "x80",
         "y": [
          0.27874191602071124,
          0.27761109670003253,
          0.27540159225463867,
          0.27926294008890784,
          0.2810563246409098,
          0.27595369021097815
         ],
         "yaxis": "y80"
        },
        {
         "hovertemplate": "method=srht_slow<br>d=32<br>n=32768<br>m=%{x}<br>time=%{y}<extra></extra>",
         "legendgroup": "srht_slow",
         "line": {
          "color": "#EF553B",
          "dash": "solid"
         },
         "marker": {
          "symbol": "circle"
         },
         "mode": "lines",
         "name": "srht_slow",
         "orientation": "v",
         "showlegend": false,
         "type": "scatter",
         "x": [
          4,
          8,
          16,
          32,
          64,
          128
         ],
         "xaxis": "x81",
         "y": [
          0.6655257542928059,
          0.6687722206115723,
          0.6354095935821533,
          0.651930014292399,
          0.6506733099619547,
          0.6102089881896973
         ],
         "yaxis": "y81"
        },
        {
         "hovertemplate": "method=srht_slow<br>d=64<br>n=128<br>m=%{x}<br>time=%{y}<extra></extra>",
         "legendgroup": "srht_slow",
         "line": {
          "color": "#EF553B",
          "dash": "solid"
         },
         "marker": {
          "symbol": "circle"
         },
         "mode": "lines",
         "name": "srht_slow",
         "orientation": "v",
         "showlegend": false,
         "type": "scatter",
         "x": [
          4,
          8,
          16,
          32,
          64
         ],
         "xaxis": "x64",
         "y": [
          0.001222689946492513,
          0.0012172857920328775,
          0.0012593269348144531,
          0.0012069543202718098,
          0.0012083053588867188
         ],
         "yaxis": "y64"
        },
        {
         "hovertemplate": "method=srht_slow<br>d=64<br>n=256<br>m=%{x}<br>time=%{y}<extra></extra>",
         "legendgroup": "srht_slow",
         "line": {
          "color": "#EF553B",
          "dash": "solid"
         },
         "marker": {
          "symbol": "circle"
         },
         "mode": "lines",
         "name": "srht_slow",
         "orientation": "v",
         "showlegend": false,
         "type": "scatter",
         "x": [
          4,
          8,
          16,
          32,
          64,
          128
         ],
         "xaxis": "x65",
         "y": [
          0.0027504762013753252,
          0.0026079813639322915,
          0.0026353200276692705,
          0.002595663070678711,
          0.0026443004608154297,
          0.002632617950439453
         ],
         "yaxis": "y65"
        },
        {
         "hovertemplate": "method=srht_slow<br>d=64<br>n=512<br>m=%{x}<br>time=%{y}<extra></extra>",
         "legendgroup": "srht_slow",
         "line": {
          "color": "#EF553B",
          "dash": "solid"
         },
         "marker": {
          "symbol": "circle"
         },
         "mode": "lines",
         "name": "srht_slow",
         "orientation": "v",
         "showlegend": false,
         "type": "scatter",
         "x": [
          4,
          8,
          16,
          32,
          64,
          128,
          256
         ],
         "xaxis": "x66",
         "y": [
          0.005745331446329752,
          0.00615398089090983,
          0.006203492482503254,
          0.005710283915201822,
          0.005835294723510742,
          0.0058892567952473955,
          0.005891879399617512
         ],
         "yaxis": "y66"
        },
        {
         "hovertemplate": "method=srht_slow<br>d=64<br>n=1024<br>m=%{x}<br>time=%{y}<extra></extra>",
         "legendgroup": "srht_slow",
         "line": {
          "color": "#EF553B",
          "dash": "solid"
         },
         "marker": {
          "symbol": "circle"
         },
         "mode": "lines",
         "name": "srht_slow",
         "orientation": "v",
         "showlegend": false,
         "type": "scatter",
         "x": [
          4,
          8,
          16,
          32,
          64,
          128,
          256
         ],
         "xaxis": "x67",
         "y": [
          0.013162692387898762,
          0.012842416763305662,
          0.012873331705729166,
          0.012879371643066405,
          0.012806733449300129,
          0.012589375178019205,
          0.01270906130472819
         ],
         "yaxis": "y67"
        },
        {
         "hovertemplate": "method=srht_slow<br>d=64<br>n=2048<br>m=%{x}<br>time=%{y}<extra></extra>",
         "legendgroup": "srht_slow",
         "line": {
          "color": "#EF553B",
          "dash": "solid"
         },
         "marker": {
          "symbol": "circle"
         },
         "mode": "lines",
         "name": "srht_slow",
         "orientation": "v",
         "showlegend": false,
         "type": "scatter",
         "x": [
          4,
          8,
          16,
          32,
          64,
          128,
          256
         ],
         "xaxis": "x68",
         "y": [
          0.027824640274047848,
          0.028231302897135414,
          0.027930895487467446,
          0.027871052424112953,
          0.028079191843668617,
          0.028199116388956703,
          0.028821547826131184
         ],
         "yaxis": "y68"
        },
        {
         "hovertemplate": "method=srht_slow<br>d=64<br>n=4096<br>m=%{x}<br>time=%{y}<extra></extra>",
         "legendgroup": "srht_slow",
         "line": {
          "color": "#EF553B",
          "dash": "solid"
         },
         "marker": {
          "symbol": "circle"
         },
         "mode": "lines",
         "name": "srht_slow",
         "orientation": "v",
         "showlegend": false,
         "type": "scatter",
         "x": [
          4,
          8,
          16,
          32,
          64,
          128,
          256
         ],
         "xaxis": "x69",
         "y": [
          0.06179539362589518,
          0.06074229876200358,
          0.06100002924601237,
          0.060992558797200516,
          0.061860640843709305,
          0.062198638916015625,
          0.061386346817016595
         ],
         "yaxis": "y69"
        },
        {
         "hovertemplate": "method=srht_slow<br>d=64<br>n=8192<br>m=%{x}<br>time=%{y}<extra></extra>",
         "legendgroup": "srht_slow",
         "line": {
          "color": "#EF553B",
          "dash": "solid"
         },
         "marker": {
          "symbol": "circle"
         },
         "mode": "lines",
         "name": "srht_slow",
         "orientation": "v",
         "showlegend": false,
         "type": "scatter",
         "x": [
          4,
          8,
          16,
          32,
          64,
          128,
          256
         ],
         "xaxis": "x70",
         "y": [
          0.13581124941507974,
          0.13391963640848795,
          0.13274900118509927,
          0.13437628746032715,
          0.1350285212198893,
          0.1332875887552897,
          0.13727021217346191
         ],
         "yaxis": "y70"
        },
        {
         "hovertemplate": "method=srht_slow<br>d=64<br>n=16384<br>m=%{x}<br>time=%{y}<extra></extra>",
         "legendgroup": "srht_slow",
         "line": {
          "color": "#EF553B",
          "dash": "solid"
         },
         "marker": {
          "symbol": "circle"
         },
         "mode": "lines",
         "name": "srht_slow",
         "orientation": "v",
         "showlegend": false,
         "type": "scatter",
         "x": [
          4,
          8,
          16,
          32,
          64,
          128,
          256
         ],
         "xaxis": "x71",
         "y": [
          0.2905792395273844,
          0.2917233308156331,
          0.2911423842112223,
          0.2912448247273763,
          0.2894140084584554,
          0.29073580106099445,
          0.290637731552124
         ],
         "yaxis": "y71"
        },
        {
         "hovertemplate": "method=srht_slow<br>d=64<br>n=32768<br>m=%{x}<br>time=%{y}<extra></extra>",
         "legendgroup": "srht_slow",
         "line": {
          "color": "#EF553B",
          "dash": "solid"
         },
         "marker": {
          "symbol": "circle"
         },
         "mode": "lines",
         "name": "srht_slow",
         "orientation": "v",
         "showlegend": false,
         "type": "scatter",
         "x": [
          4,
          8,
          16,
          32,
          64,
          128,
          256
         ],
         "xaxis": "x72",
         "y": [
          0.6314129829406738,
          0.6150602499643961,
          0.6207457383473713,
          0.6774839560190836,
          0.6544961134592692,
          0.6494309902191162,
          0.6606547037760416
         ],
         "yaxis": "y72"
        },
        {
         "hovertemplate": "method=srht_slow<br>d=128<br>n=256<br>m=%{x}<br>time=%{y}<extra></extra>",
         "legendgroup": "srht_slow",
         "line": {
          "color": "#EF553B",
          "dash": "solid"
         },
         "marker": {
          "symbol": "circle"
         },
         "mode": "lines",
         "name": "srht_slow",
         "orientation": "v",
         "showlegend": false,
         "type": "scatter",
         "x": [
          4,
          8,
          16,
          32,
          64,
          128
         ],
         "xaxis": "x56",
         "y": [
          0.003373384475708008,
          0.0029710928599039708,
          0.003143628438313802,
          0.003011067708333333,
          0.002960681915283203,
          0.0029574235280354815
         ],
         "yaxis": "y56"
        },
        {
         "hovertemplate": "method=srht_slow<br>d=128<br>n=512<br>m=%{x}<br>time=%{y}<extra></extra>",
         "legendgroup": "srht_slow",
         "line": {
          "color": "#EF553B",
          "dash": "solid"
         },
         "marker": {
          "symbol": "circle"
         },
         "mode": "lines",
         "name": "srht_slow",
         "orientation": "v",
         "showlegend": false,
         "type": "scatter",
         "x": [
          4,
          8,
          16,
          32,
          64,
          128,
          256
         ],
         "xaxis": "x57",
         "y": [
          0.006609837214152018,
          0.006542603174845377,
          0.0065186023712158194,
          0.006588379542032877,
          0.006486972173055013,
          0.00668803850809733,
          0.006768067677815754
         ],
         "yaxis": "y57"
        },
        {
         "hovertemplate": "method=srht_slow<br>d=128<br>n=1024<br>m=%{x}<br>time=%{y}<extra></extra>",
         "legendgroup": "srht_slow",
         "line": {
          "color": "#EF553B",
          "dash": "solid"
         },
         "marker": {
          "symbol": "circle"
         },
         "mode": "lines",
         "name": "srht_slow",
         "orientation": "v",
         "showlegend": false,
         "type": "scatter",
         "x": [
          4,
          8,
          16,
          32,
          64,
          128,
          256,
          512
         ],
         "xaxis": "x58",
         "y": [
          0.014333327611287434,
          0.014528910319010416,
          0.014449834823608398,
          0.015169064203898111,
          0.015546957651774088,
          0.014500061670939127,
          0.014551639556884764,
          0.014639774958292643
         ],
         "yaxis": "y58"
        },
        {
         "hovertemplate": "method=srht_slow<br>d=128<br>n=2048<br>m=%{x}<br>time=%{y}<extra></extra>",
         "legendgroup": "srht_slow",
         "line": {
          "color": "#EF553B",
          "dash": "solid"
         },
         "marker": {
          "symbol": "circle"
         },
         "mode": "lines",
         "name": "srht_slow",
         "orientation": "v",
         "showlegend": false,
         "type": "scatter",
         "x": [
          4,
          8,
          16,
          32,
          64,
          128,
          256,
          512
         ],
         "xaxis": "x59",
         "y": [
          0.032929976781209305,
          0.031693458557128906,
          0.03152664502461751,
          0.03156630198160807,
          0.03239337603251139,
          0.031806786855061844,
          0.031981070836385087,
          0.03187791506449381
         ],
         "yaxis": "y59"
        },
        {
         "hovertemplate": "method=srht_slow<br>d=128<br>n=4096<br>m=%{x}<br>time=%{y}<extra></extra>",
         "legendgroup": "srht_slow",
         "line": {
          "color": "#EF553B",
          "dash": "solid"
         },
         "marker": {
          "symbol": "circle"
         },
         "mode": "lines",
         "name": "srht_slow",
         "orientation": "v",
         "showlegend": false,
         "type": "scatter",
         "x": [
          4,
          8,
          16,
          32,
          64,
          128,
          256,
          512
         ],
         "xaxis": "x60",
         "y": [
          0.07024757067362467,
          0.07000533739725748,
          0.07100494702657063,
          0.07120641072591145,
          0.0690626303354899,
          0.07075397173563638,
          0.06971438725789388,
          0.07470154762268066
         ],
         "yaxis": "y60"
        },
        {
         "hovertemplate": "method=srht_slow<br>d=128<br>n=8192<br>m=%{x}<br>time=%{y}<extra></extra>",
         "legendgroup": "srht_slow",
         "line": {
          "color": "#EF553B",
          "dash": "solid"
         },
         "marker": {
          "symbol": "circle"
         },
         "mode": "lines",
         "name": "srht_slow",
         "orientation": "v",
         "showlegend": false,
         "type": "scatter",
         "x": [
          4,
          8,
          16,
          32,
          64,
          128,
          256,
          512
         ],
         "xaxis": "x61",
         "y": [
          0.16027498245239258,
          0.15850170453389484,
          0.16092578570048013,
          0.1567236582438151,
          0.15657647450764972,
          0.15738638242085773,
          0.1610254446665446,
          0.15649024645487467
         ],
         "yaxis": "y61"
        },
        {
         "hovertemplate": "method=srht_slow<br>d=128<br>n=16384<br>m=%{x}<br>time=%{y}<extra></extra>",
         "legendgroup": "srht_slow",
         "line": {
          "color": "#EF553B",
          "dash": "solid"
         },
         "marker": {
          "symbol": "circle"
         },
         "mode": "lines",
         "name": "srht_slow",
         "orientation": "v",
         "showlegend": false,
         "type": "scatter",
         "x": [
          4,
          8,
          16,
          32,
          64,
          128,
          256,
          512
         ],
         "xaxis": "x62",
         "y": [
          0.34473522504170734,
          0.33527302742004395,
          0.3334779739379883,
          0.336488405863444,
          0.3365381558736165,
          0.3336482048034668,
          0.33438754081726074,
          0.33478792508443195
         ],
         "yaxis": "y62"
        },
        {
         "hovertemplate": "method=srht_slow<br>d=128<br>n=32768<br>m=%{x}<br>time=%{y}<extra></extra>",
         "legendgroup": "srht_slow",
         "line": {
          "color": "#EF553B",
          "dash": "solid"
         },
         "marker": {
          "symbol": "circle"
         },
         "mode": "lines",
         "name": "srht_slow",
         "orientation": "v",
         "showlegend": false,
         "type": "scatter",
         "x": [
          4,
          8,
          16,
          32,
          64,
          128,
          256,
          512
         ],
         "xaxis": "x63",
         "y": [
          0.7216857274373372,
          0.7176725069681803,
          0.7239174842834473,
          0.7092607021331787,
          0.7632726828257241,
          0.7767641544342041,
          0.7232219378153483,
          0.7131726741790771
         ],
         "yaxis": "y63"
        },
        {
         "hovertemplate": "method=srht_slow<br>d=256<br>n=512<br>m=%{x}<br>time=%{y}<extra></extra>",
         "legendgroup": "srht_slow",
         "line": {
          "color": "#EF553B",
          "dash": "solid"
         },
         "marker": {
          "symbol": "circle"
         },
         "mode": "lines",
         "name": "srht_slow",
         "orientation": "v",
         "showlegend": false,
         "type": "scatter",
         "x": [
          4,
          8,
          16,
          32,
          64,
          128,
          256
         ],
         "xaxis": "x48",
         "y": [
          0.007150967915852864,
          0.007017930348714192,
          0.007019042968749999,
          0.007120688756306966,
          0.006924947102864583,
          0.007042487462361653,
          0.008097330729166666
         ],
         "yaxis": "y48"
        },
        {
         "hovertemplate": "method=srht_slow<br>d=256<br>n=1024<br>m=%{x}<br>time=%{y}<extra></extra>",
         "legendgroup": "srht_slow",
         "line": {
          "color": "#EF553B",
          "dash": "solid"
         },
         "marker": {
          "symbol": "circle"
         },
         "mode": "lines",
         "name": "srht_slow",
         "orientation": "v",
         "showlegend": false,
         "type": "scatter",
         "x": [
          4,
          8,
          16,
          32,
          64,
          128,
          256,
          512
         ],
         "xaxis": "x49",
         "y": [
          0.01571997006734212,
          0.015457073847452797,
          0.015480279922485352,
          0.015459537506103514,
          0.016422271728515625,
          0.01699558893839518,
          0.015643278757731117,
          0.015727996826171875
         ],
         "yaxis": "y49"
        },
        {
         "hovertemplate": "method=srht_slow<br>d=256<br>n=2048<br>m=%{x}<br>time=%{y}<extra></extra>",
         "legendgroup": "srht_slow",
         "line": {
          "color": "#EF553B",
          "dash": "solid"
         },
         "marker": {
          "symbol": "circle"
         },
         "mode": "lines",
         "name": "srht_slow",
         "orientation": "v",
         "showlegend": false,
         "type": "scatter",
         "x": [
          4,
          8,
          16,
          32,
          64,
          128,
          256,
          512,
          1024
         ],
         "xaxis": "x50",
         "y": [
          0.03645650545756022,
          0.03594843546549479,
          0.03851675987243652,
          0.035586039225260414,
          0.037371953328450516,
          0.035149574279785156,
          0.03612001736958821,
          0.035234689712524414,
          0.035477956136067704
         ],
         "yaxis": "y50"
        },
        {
         "hovertemplate": "method=srht_slow<br>d=256<br>n=4096<br>m=%{x}<br>time=%{y}<extra></extra>",
         "legendgroup": "srht_slow",
         "line": {
          "color": "#EF553B",
          "dash": "solid"
         },
         "marker": {
          "symbol": "circle"
         },
         "mode": "lines",
         "name": "srht_slow",
         "orientation": "v",
         "showlegend": false,
         "type": "scatter",
         "x": [
          4,
          8,
          16,
          32,
          64,
          128,
          256,
          512,
          1024
         ],
         "xaxis": "x51",
         "y": [
          0.08136940002441406,
          0.0833122730255127,
          0.08151062329610188,
          0.0811014175415039,
          0.08136733373006184,
          0.08077518145243326,
          0.08193071683247884,
          0.08053843180338541,
          0.07947293917338052
         ],
         "yaxis": "y51"
        },
        {
         "hovertemplate": "method=srht_slow<br>d=256<br>n=8192<br>m=%{x}<br>time=%{y}<extra></extra>",
         "legendgroup": "srht_slow",
         "line": {
          "color": "#EF553B",
          "dash": "solid"
         },
         "marker": {
          "symbol": "circle"
         },
         "mode": "lines",
         "name": "srht_slow",
         "orientation": "v",
         "showlegend": false,
         "type": "scatter",
         "x": [
          4,
          8,
          16,
          32,
          64,
          128,
          256,
          512,
          1024
         ],
         "xaxis": "x52",
         "y": [
          0.17909010251363117,
          0.17910273869832355,
          0.17873152097066242,
          0.17731269200642902,
          0.18079622586568195,
          0.17809661229451496,
          0.17835958798726398,
          0.17949795722961426,
          0.1772019863128662
         ],
         "yaxis": "y52"
        },
        {
         "hovertemplate": "method=srht_slow<br>d=256<br>n=16384<br>m=%{x}<br>time=%{y}<extra></extra>",
         "legendgroup": "srht_slow",
         "line": {
          "color": "#EF553B",
          "dash": "solid"
         },
         "marker": {
          "symbol": "circle"
         },
         "mode": "lines",
         "name": "srht_slow",
         "orientation": "v",
         "showlegend": false,
         "type": "scatter",
         "x": [
          4,
          8,
          16,
          32,
          64,
          128,
          256,
          512,
          1024
         ],
         "xaxis": "x53",
         "y": [
          0.37998882929484046,
          0.3783445358276367,
          0.3779655297597249,
          0.3774439493815104,
          0.3750406106313069,
          0.37923669815063477,
          0.38176465034484863,
          0.3791266282399495,
          0.3779817422231038
         ],
         "yaxis": "y53"
        },
        {
         "hovertemplate": "method=srht_slow<br>d=256<br>n=32768<br>m=%{x}<br>time=%{y}<extra></extra>",
         "legendgroup": "srht_slow",
         "line": {
          "color": "#EF553B",
          "dash": "solid"
         },
         "marker": {
          "symbol": "circle"
         },
         "mode": "lines",
         "name": "srht_slow",
         "orientation": "v",
         "showlegend": false,
         "type": "scatter",
         "x": [
          4,
          8,
          16,
          32,
          64,
          128,
          256,
          512,
          1024
         ],
         "xaxis": "x54",
         "y": [
          0.797407070795695,
          0.8588716983795166,
          0.9152528444925944,
          0.8304373423258463,
          0.8215893904368082,
          0.801803986231486,
          0.7991356054941813,
          0.7988942464192708,
          0.8031270503997803
         ],
         "yaxis": "y54"
        },
        {
         "hovertemplate": "method=srht_slow<br>d=512<br>n=1024<br>m=%{x}<br>time=%{y}<extra></extra>",
         "legendgroup": "srht_slow",
         "line": {
          "color": "#EF553B",
          "dash": "solid"
         },
         "marker": {
          "symbol": "circle"
         },
         "mode": "lines",
         "name": "srht_slow",
         "orientation": "v",
         "showlegend": false,
         "type": "scatter",
         "x": [
          4,
          8,
          16,
          32,
          64,
          128,
          256,
          512
         ],
         "xaxis": "x40",
         "y": [
          0.0195923646291097,
          0.0200042724609375,
          0.020846287409464516,
          0.021229108174641926,
          0.02100237210591634,
          0.020388205846150715,
          0.02378996213277181,
          0.020083904266357422
         ],
         "yaxis": "y40"
        },
        {
         "hovertemplate": "method=srht_slow<br>d=512<br>n=2048<br>m=%{x}<br>time=%{y}<extra></extra>",
         "legendgroup": "srht_slow",
         "line": {
          "color": "#EF553B",
          "dash": "solid"
         },
         "marker": {
          "symbol": "circle"
         },
         "mode": "lines",
         "name": "srht_slow",
         "orientation": "v",
         "showlegend": false,
         "type": "scatter",
         "x": [
          4,
          8,
          16,
          32,
          64,
          128,
          256,
          512,
          1024
         ],
         "xaxis": "x41",
         "y": [
          0.050006230672200516,
          0.04914895693461099,
          0.04977901776631673,
          0.05140566825866699,
          0.05200616518656412,
          0.04857134819030762,
          0.04728134473164876,
          0.04901369412740071,
          0.04912130037943521
         ],
         "yaxis": "y41"
        },
        {
         "hovertemplate": "method=srht_slow<br>d=512<br>n=4096<br>m=%{x}<br>time=%{y}<extra></extra>",
         "legendgroup": "srht_slow",
         "line": {
          "color": "#EF553B",
          "dash": "solid"
         },
         "marker": {
          "symbol": "circle"
         },
         "mode": "lines",
         "name": "srht_slow",
         "orientation": "v",
         "showlegend": false,
         "type": "scatter",
         "x": [
          4,
          8,
          16,
          32,
          64,
          128,
          256,
          512,
          1024,
          2048
         ],
         "xaxis": "x42",
         "y": [
          0.11717812220255533,
          0.11476437250773111,
          0.11593635876973468,
          0.11418875058492024,
          0.11349797248840332,
          0.1128263473510742,
          0.11804397900899251,
          0.1521784464518229,
          0.11466487248738605,
          0.11586467425028482
         ],
         "yaxis": "y42"
        },
        {
         "hovertemplate": "method=srht_slow<br>d=512<br>n=8192<br>m=%{x}<br>time=%{y}<extra></extra>",
         "legendgroup": "srht_slow",
         "line": {
          "color": "#EF553B",
          "dash": "solid"
         },
         "marker": {
          "symbol": "circle"
         },
         "mode": "lines",
         "name": "srht_slow",
         "orientation": "v",
         "showlegend": false,
         "type": "scatter",
         "x": [
          4,
          8,
          16,
          32,
          64,
          128,
          256,
          512,
          1024,
          2048
         ],
         "xaxis": "x43",
         "y": [
          0.24221078554789224,
          0.24024653434753415,
          0.24127062161763507,
          0.24286588033040363,
          0.2513614495595296,
          0.25152095158894855,
          0.25222142537434894,
          0.2493455410003662,
          0.24752767880757648,
          0.24922275543212888
         ],
         "yaxis": "y43"
        },
        {
         "hovertemplate": "method=srht_slow<br>d=512<br>n=16384<br>m=%{x}<br>time=%{y}<extra></extra>",
         "legendgroup": "srht_slow",
         "line": {
          "color": "#EF553B",
          "dash": "solid"
         },
         "marker": {
          "symbol": "circle"
         },
         "mode": "lines",
         "name": "srht_slow",
         "orientation": "v",
         "showlegend": false,
         "type": "scatter",
         "x": [
          4,
          8,
          16,
          32,
          64,
          128,
          256,
          512,
          1024,
          2048
         ],
         "xaxis": "x44",
         "y": [
          0.5141848723093668,
          0.5134475231170654,
          0.5152684052785237,
          0.5200671354929606,
          0.5262266794840494,
          0.5208556652069092,
          0.5096913178761799,
          0.519498348236084,
          0.5199467341105143,
          0.5186672210693359
         ],
         "yaxis": "y44"
        },
        {
         "hovertemplate": "method=srht_slow<br>d=512<br>n=32768<br>m=%{x}<br>time=%{y}<extra></extra>",
         "legendgroup": "srht_slow",
         "line": {
          "color": "#EF553B",
          "dash": "solid"
         },
         "marker": {
          "symbol": "circle"
         },
         "mode": "lines",
         "name": "srht_slow",
         "orientation": "v",
         "showlegend": false,
         "type": "scatter",
         "x": [
          4,
          8,
          16,
          32,
          64,
          128,
          256,
          512,
          1024,
          2048
         ],
         "xaxis": "x45",
         "y": [
          1.0841162204742432,
          1.0727548599243164,
          1.0875614484151204,
          1.1295079390207925,
          1.1336585680643716,
          1.1484901110331216,
          1.1556189060211182,
          1.1272714138031006,
          1.119364579518636,
          1.0951270262400308
         ],
         "yaxis": "y45"
        },
        {
         "hovertemplate": "method=srht_slow<br>d=1024<br>n=2048<br>m=%{x}<br>time=%{y}<extra></extra>",
         "legendgroup": "srht_slow",
         "line": {
          "color": "#EF553B",
          "dash": "solid"
         },
         "marker": {
          "symbol": "circle"
         },
         "mode": "lines",
         "name": "srht_slow",
         "orientation": "v",
         "showlegend": false,
         "type": "scatter",
         "x": [
          4,
          8,
          16,
          32,
          64,
          128,
          256,
          512,
          1024
         ],
         "xaxis": "x32",
         "y": [
          0.07231489817301431,
          0.07183702786763509,
          0.07148734728495279,
          0.07218225797017415,
          0.07343808809916177,
          0.07303770383199056,
          0.07283647855122884,
          0.07168499628702799,
          0.0725413163503011
         ],
         "yaxis": "y32"
        },
        {
         "hovertemplate": "method=srht_slow<br>d=1024<br>n=4096<br>m=%{x}<br>time=%{y}<extra></extra>",
         "legendgroup": "srht_slow",
         "line": {
          "color": "#EF553B",
          "dash": "solid"
         },
         "marker": {
          "symbol": "circle"
         },
         "mode": "lines",
         "name": "srht_slow",
         "orientation": "v",
         "showlegend": false,
         "type": "scatter",
         "x": [
          4,
          8,
          16,
          32,
          64,
          128,
          256,
          512,
          1024,
          2048
         ],
         "xaxis": "x33",
         "y": [
          0.16223732630411783,
          0.15810767809549967,
          0.15800301233927408,
          0.1571820576985677,
          0.15668567021687824,
          0.1561004320780436,
          0.15726725260416666,
          0.1562076409657796,
          0.1609662373860677,
          0.16107797622680664
         ],
         "yaxis": "y33"
        },
        {
         "hovertemplate": "method=srht_slow<br>d=1024<br>n=8192<br>m=%{x}<br>time=%{y}<extra></extra>",
         "legendgroup": "srht_slow",
         "line": {
          "color": "#EF553B",
          "dash": "solid"
         },
         "marker": {
          "symbol": "circle"
         },
         "mode": "lines",
         "name": "srht_slow",
         "orientation": "v",
         "showlegend": false,
         "type": "scatter",
         "x": [
          4,
          8,
          16,
          32,
          64,
          128,
          256,
          512,
          1024,
          2048,
          4096
         ],
         "xaxis": "x34",
         "y": [
          0.33919533093770343,
          0.3468971252441406,
          0.33611226081848145,
          0.3409022490183512,
          0.3364369869232178,
          0.34257960319519043,
          0.33736904462178546,
          0.340166171391805,
          0.33690794308980304,
          0.3403766949971517,
          0.34938112894694007
         ],
         "yaxis": "y34"
        },
        {
         "hovertemplate": "method=srht_slow<br>d=1024<br>n=16384<br>m=%{x}<br>time=%{y}<extra></extra>",
         "legendgroup": "srht_slow",
         "line": {
          "color": "#EF553B",
          "dash": "solid"
         },
         "marker": {
          "symbol": "circle"
         },
         "mode": "lines",
         "name": "srht_slow",
         "orientation": "v",
         "showlegend": false,
         "type": "scatter",
         "x": [
          4,
          8,
          16,
          32,
          64,
          128,
          256,
          512,
          1024,
          2048,
          4096
         ],
         "xaxis": "x35",
         "y": [
          0.706626017888387,
          0.7117401758829752,
          0.7104880015055337,
          0.7059270540873209,
          0.7028393745422363,
          0.7049884796142578,
          0.7103614012400309,
          0.7160271803538004,
          0.7122363249460856,
          0.7134688695271809,
          0.7165640195210774
         ],
         "yaxis": "y35"
        },
        {
         "hovertemplate": "method=srht_slow<br>d=1024<br>n=32768<br>m=%{x}<br>time=%{y}<extra></extra>",
         "legendgroup": "srht_slow",
         "line": {
          "color": "#EF553B",
          "dash": "solid"
         },
         "marker": {
          "symbol": "circle"
         },
         "mode": "lines",
         "name": "srht_slow",
         "orientation": "v",
         "showlegend": false,
         "type": "scatter",
         "x": [
          4,
          8,
          16,
          32,
          64,
          128,
          256,
          512,
          1024,
          2048,
          4096
         ],
         "xaxis": "x36",
         "y": [
          1.6260316371917725,
          1.633685270945231,
          1.7195843855539956,
          1.609571059544881,
          1.7281767527262368,
          1.7162350813547769,
          1.74820073445638,
          1.736732800801595,
          1.713350454966227,
          1.715822378794352,
          1.771576960881551
         ],
         "yaxis": "y36"
        },
        {
         "hovertemplate": "method=srht_slow<br>d=2048<br>n=4096<br>m=%{x}<br>time=%{y}<extra></extra>",
         "legendgroup": "srht_slow",
         "line": {
          "color": "#EF553B",
          "dash": "solid"
         },
         "marker": {
          "symbol": "circle"
         },
         "mode": "lines",
         "name": "srht_slow",
         "orientation": "v",
         "showlegend": false,
         "type": "scatter",
         "x": [
          4,
          8,
          16,
          32,
          64,
          128,
          256,
          512,
          1024,
          2048
         ],
         "xaxis": "x24",
         "y": [
          0.2542785803476969,
          0.25307297706604004,
          0.25295591354370117,
          0.25297609965006507,
          0.25223875045776367,
          0.2511466344197591,
          0.2526129086812337,
          0.2547982533772786,
          0.25658830006917316,
          0.26607537269592285
         ],
         "yaxis": "y24"
        },
        {
         "hovertemplate": "method=srht_slow<br>d=2048<br>n=8192<br>m=%{x}<br>time=%{y}<extra></extra>",
         "legendgroup": "srht_slow",
         "line": {
          "color": "#EF553B",
          "dash": "solid"
         },
         "marker": {
          "symbol": "circle"
         },
         "mode": "lines",
         "name": "srht_slow",
         "orientation": "v",
         "showlegend": false,
         "type": "scatter",
         "x": [
          4,
          8,
          16,
          32,
          64,
          128,
          256,
          512,
          1024,
          2048,
          4096
         ],
         "xaxis": "x25",
         "y": [
          0.5447944800059,
          0.5402072270711262,
          0.5392316182454426,
          0.5432877540588379,
          0.5443867047627766,
          0.5380150477091471,
          0.544950008392334,
          0.5423908233642578,
          0.5422499974568684,
          0.5443046887715657,
          0.5562906265258789
         ],
         "yaxis": "y25"
        },
        {
         "hovertemplate": "method=srht_slow<br>d=2048<br>n=16384<br>m=%{x}<br>time=%{y}<extra></extra>",
         "legendgroup": "srht_slow",
         "line": {
          "color": "#EF553B",
          "dash": "solid"
         },
         "marker": {
          "symbol": "circle"
         },
         "mode": "lines",
         "name": "srht_slow",
         "orientation": "v",
         "showlegend": false,
         "type": "scatter",
         "x": [
          4,
          8,
          16,
          32,
          64,
          128,
          256,
          512,
          1024,
          2048,
          4096,
          8192
         ],
         "xaxis": "x26",
         "y": [
          1.2972859541575112,
          1.3732273578643799,
          1.4690321286519368,
          1.292578379313151,
          1.2985547383626301,
          1.2928706804911294,
          1.338376522064209,
          1.2987240155537922,
          1.294716993967692,
          1.3505476315816243,
          1.3630576928456624,
          1.3702049255371094
         ],
         "yaxis": "y26"
        },
        {
         "hovertemplate": "method=srht_slow<br>d=2048<br>n=32768<br>m=%{x}<br>time=%{y}<extra></extra>",
         "legendgroup": "srht_slow",
         "line": {
          "color": "#EF553B",
          "dash": "solid"
         },
         "marker": {
          "symbol": "circle"
         },
         "mode": "lines",
         "name": "srht_slow",
         "orientation": "v",
         "showlegend": false,
         "type": "scatter",
         "x": [
          4,
          8,
          16,
          32,
          64,
          128,
          256,
          512,
          1024,
          2048,
          4096,
          8192
         ],
         "xaxis": "x27",
         "y": [
          2.8920713265736895,
          2.930558363596598,
          2.902156035105387,
          3.253852128982544,
          3.2518023649851475,
          3.2270926634470616,
          3.196968873341878,
          2.9080986976623535,
          3.069499651590983,
          2.9122842947642007,
          2.9475553035736084,
          3.007903416951497
         ],
         "yaxis": "y27"
        },
        {
         "hovertemplate": "method=srht_slow<br>d=4096<br>n=8192<br>m=%{x}<br>time=%{y}<extra></extra>",
         "legendgroup": "srht_slow",
         "line": {
          "color": "#EF553B",
          "dash": "solid"
         },
         "marker": {
          "symbol": "circle"
         },
         "mode": "lines",
         "name": "srht_slow",
         "orientation": "v",
         "showlegend": false,
         "type": "scatter",
         "x": [
          4,
          8,
          16,
          32,
          64,
          128,
          256,
          512,
          1024,
          2048,
          4096
         ],
         "xaxis": "x16",
         "y": [
          1.063950538635254,
          1.0657684803009033,
          1.0756117502848306,
          1.0796872774759927,
          1.1008820533752441,
          1.0773258209228516,
          1.07306965192159,
          1.07319172223409,
          1.0694657166798909,
          1.0927910010019937,
          1.0969769954681396
         ],
         "yaxis": "y16"
        },
        {
         "hovertemplate": "method=srht_slow<br>d=4096<br>n=16384<br>m=%{x}<br>time=%{y}<extra></extra>",
         "legendgroup": "srht_slow",
         "line": {
          "color": "#EF553B",
          "dash": "solid"
         },
         "marker": {
          "symbol": "circle"
         },
         "mode": "lines",
         "name": "srht_slow",
         "orientation": "v",
         "showlegend": false,
         "type": "scatter",
         "x": [
          4,
          8,
          16,
          32,
          64,
          128,
          256,
          512,
          1024,
          2048,
          4096,
          8192
         ],
         "xaxis": "x17",
         "y": [
          2.2705957094828286,
          2.2595503330230713,
          2.3043027718861895,
          2.2694053649902344,
          2.2557930946350098,
          2.270685752232869,
          2.267559289932251,
          2.3270781834920244,
          2.3202547232309976,
          2.3351023197174072,
          2.2997912565867105,
          2.4546262423197427
         ],
         "yaxis": "y17"
        },
        {
         "hovertemplate": "method=srht_slow<br>d=4096<br>n=32768<br>m=%{x}<br>time=%{y}<extra></extra>",
         "legendgroup": "srht_slow",
         "line": {
          "color": "#EF553B",
          "dash": "solid"
         },
         "marker": {
          "symbol": "circle"
         },
         "mode": "lines",
         "name": "srht_slow",
         "orientation": "v",
         "showlegend": false,
         "type": "scatter",
         "x": [
          4,
          8,
          16,
          32,
          64,
          128,
          256,
          512,
          1024,
          2048,
          4096,
          8192
         ],
         "xaxis": "x18",
         "y": [
          5.094722747802734,
          5.146837870279947,
          4.937802076339722,
          4.9810300668080645,
          4.988657395044962,
          4.986587365468343,
          5.14953335126241,
          4.992793639500936,
          5.406618277231852,
          5.026849031448364,
          5.03704309463501,
          5.2350852489471436
         ],
         "yaxis": "y18"
        },
        {
         "hovertemplate": "method=srht_slow<br>d=8192<br>n=16384<br>m=%{x}<br>time=%{y}<extra></extra>",
         "legendgroup": "srht_slow",
         "line": {
          "color": "#EF553B",
          "dash": "solid"
         },
         "marker": {
          "symbol": "circle"
         },
         "mode": "lines",
         "name": "srht_slow",
         "orientation": "v",
         "showlegend": false,
         "type": "scatter",
         "x": [
          4,
          8,
          16,
          32,
          64,
          128,
          256,
          512,
          1024,
          2048,
          4096,
          8192
         ],
         "xaxis": "x8",
         "y": [
          4.958751916885376,
          4.944203694661458,
          5.864987929662068,
          5.170838991800943,
          4.803123950958252,
          5.207471927007039,
          5.0310639540354405,
          4.832144816716512,
          5.00170890490214,
          4.908520221710205,
          5.269336223602295,
          5.265872240066528
         ],
         "yaxis": "y8"
        },
        {
         "hovertemplate": "method=srht_slow<br>d=8192<br>n=32768<br>m=%{x}<br>time=%{y}<extra></extra>",
         "legendgroup": "srht_slow",
         "line": {
          "color": "#EF553B",
          "dash": "solid"
         },
         "marker": {
          "symbol": "circle"
         },
         "mode": "lines",
         "name": "srht_slow",
         "orientation": "v",
         "showlegend": false,
         "type": "scatter",
         "x": [
          4,
          8,
          16,
          32,
          64,
          128,
          256,
          512,
          1024,
          2048,
          4096,
          8192
         ],
         "xaxis": "x9",
         "y": [
          10.516731977462769,
          10.615539948145548,
          10.784563064575195,
          10.697054386138916,
          10.964374462763468,
          11.126694679260254,
          10.881856679916382,
          10.630901336669922,
          11.452341556549072,
          11.078681389490763,
          11.101858695348103,
          11.384787321090698
         ],
         "yaxis": "y9"
        }
       ],
       "layout": {
        "annotations": [
         {
          "font": {},
          "showarrow": false,
          "text": "n=128",
          "x": 0.04555555555555555,
          "xanchor": "center",
          "xref": "paper",
          "y": 0.9999999999999999,
          "yanchor": "bottom",
          "yref": "paper"
         },
         {
          "font": {},
          "showarrow": false,
          "text": "n=256",
          "x": 0.15666666666666665,
          "xanchor": "center",
          "xref": "paper",
          "y": 0.9999999999999999,
          "yanchor": "bottom",
          "yref": "paper"
         },
         {
          "font": {},
          "showarrow": false,
          "text": "n=512",
          "x": 0.2677777777777778,
          "xanchor": "center",
          "xref": "paper",
          "y": 0.9999999999999999,
          "yanchor": "bottom",
          "yref": "paper"
         },
         {
          "font": {},
          "showarrow": false,
          "text": "n=1024",
          "x": 0.37888888888888883,
          "xanchor": "center",
          "xref": "paper",
          "y": 0.9999999999999999,
          "yanchor": "bottom",
          "yref": "paper"
         },
         {
          "font": {},
          "showarrow": false,
          "text": "n=2048",
          "x": 0.49,
          "xanchor": "center",
          "xref": "paper",
          "y": 0.9999999999999999,
          "yanchor": "bottom",
          "yref": "paper"
         },
         {
          "font": {},
          "showarrow": false,
          "text": "n=4096",
          "x": 0.601111111111111,
          "xanchor": "center",
          "xref": "paper",
          "y": 0.9999999999999999,
          "yanchor": "bottom",
          "yref": "paper"
         },
         {
          "font": {},
          "showarrow": false,
          "text": "n=8192",
          "x": 0.7122222222222222,
          "xanchor": "center",
          "xref": "paper",
          "y": 0.9999999999999999,
          "yanchor": "bottom",
          "yref": "paper"
         },
         {
          "font": {},
          "showarrow": false,
          "text": "n=16384",
          "x": 0.8233333333333334,
          "xanchor": "center",
          "xref": "paper",
          "y": 0.9999999999999999,
          "yanchor": "bottom",
          "yref": "paper"
         },
         {
          "font": {},
          "showarrow": false,
          "text": "n=32768",
          "x": 0.9344444444444445,
          "xanchor": "center",
          "xref": "paper",
          "y": 0.9999999999999999,
          "yanchor": "bottom",
          "yref": "paper"
         },
         {
          "font": {},
          "showarrow": false,
          "text": "d=8192",
          "textangle": 90,
          "x": 0.9800000000000001,
          "xanchor": "left",
          "xref": "paper",
          "y": 0.0365,
          "yanchor": "middle",
          "yref": "paper"
         },
         {
          "font": {},
          "showarrow": false,
          "text": "d=4096",
          "textangle": 90,
          "x": 0.9800000000000001,
          "xanchor": "left",
          "xref": "paper",
          "y": 0.13949999999999999,
          "yanchor": "middle",
          "yref": "paper"
         },
         {
          "font": {},
          "showarrow": false,
          "text": "d=2048",
          "textangle": 90,
          "x": 0.9800000000000001,
          "xanchor": "left",
          "xref": "paper",
          "y": 0.2425,
          "yanchor": "middle",
          "yref": "paper"
         },
         {
          "font": {},
          "showarrow": false,
          "text": "d=1024",
          "textangle": 90,
          "x": 0.9800000000000001,
          "xanchor": "left",
          "xref": "paper",
          "y": 0.3454999999999999,
          "yanchor": "middle",
          "yref": "paper"
         },
         {
          "font": {},
          "showarrow": false,
          "text": "d=512",
          "textangle": 90,
          "x": 0.9800000000000001,
          "xanchor": "left",
          "xref": "paper",
          "y": 0.4485,
          "yanchor": "middle",
          "yref": "paper"
         },
         {
          "font": {},
          "showarrow": false,
          "text": "d=256",
          "textangle": 90,
          "x": 0.9800000000000001,
          "xanchor": "left",
          "xref": "paper",
          "y": 0.5515,
          "yanchor": "middle",
          "yref": "paper"
         },
         {
          "font": {},
          "showarrow": false,
          "text": "d=128",
          "textangle": 90,
          "x": 0.9800000000000001,
          "xanchor": "left",
          "xref": "paper",
          "y": 0.6545,
          "yanchor": "middle",
          "yref": "paper"
         },
         {
          "font": {},
          "showarrow": false,
          "text": "d=64",
          "textangle": 90,
          "x": 0.9800000000000001,
          "xanchor": "left",
          "xref": "paper",
          "y": 0.7575,
          "yanchor": "middle",
          "yref": "paper"
         },
         {
          "font": {},
          "showarrow": false,
          "text": "d=32",
          "textangle": 90,
          "x": 0.9800000000000001,
          "xanchor": "left",
          "xref": "paper",
          "y": 0.8604999999999999,
          "yanchor": "middle",
          "yref": "paper"
         },
         {
          "font": {},
          "showarrow": false,
          "text": "d=16",
          "textangle": 90,
          "x": 0.9800000000000001,
          "xanchor": "left",
          "xref": "paper",
          "y": 0.9634999999999999,
          "yanchor": "middle",
          "yref": "paper"
         }
        ],
        "legend": {
         "title": {
          "text": "method"
         },
         "tracegroupgap": 0
        },
        "margin": {
         "t": 60
        },
        "template": {
         "data": {
          "bar": [
           {
            "error_x": {
             "color": "#2a3f5f"
            },
            "error_y": {
             "color": "#2a3f5f"
            },
            "marker": {
             "line": {
              "color": "#E5ECF6",
              "width": 0.5
             },
             "pattern": {
              "fillmode": "overlay",
              "size": 10,
              "solidity": 0.2
             }
            },
            "type": "bar"
           }
          ],
          "barpolar": [
           {
            "marker": {
             "line": {
              "color": "#E5ECF6",
              "width": 0.5
             },
             "pattern": {
              "fillmode": "overlay",
              "size": 10,
              "solidity": 0.2
             }
            },
            "type": "barpolar"
           }
          ],
          "carpet": [
           {
            "aaxis": {
             "endlinecolor": "#2a3f5f",
             "gridcolor": "white",
             "linecolor": "white",
             "minorgridcolor": "white",
             "startlinecolor": "#2a3f5f"
            },
            "baxis": {
             "endlinecolor": "#2a3f5f",
             "gridcolor": "white",
             "linecolor": "white",
             "minorgridcolor": "white",
             "startlinecolor": "#2a3f5f"
            },
            "type": "carpet"
           }
          ],
          "choropleth": [
           {
            "colorbar": {
             "outlinewidth": 0,
             "ticks": ""
            },
            "type": "choropleth"
           }
          ],
          "contour": [
           {
            "colorbar": {
             "outlinewidth": 0,
             "ticks": ""
            },
            "colorscale": [
             [
              0,
              "#0d0887"
             ],
             [
              0.1111111111111111,
              "#46039f"
             ],
             [
              0.2222222222222222,
              "#7201a8"
             ],
             [
              0.3333333333333333,
              "#9c179e"
             ],
             [
              0.4444444444444444,
              "#bd3786"
             ],
             [
              0.5555555555555556,
              "#d8576b"
             ],
             [
              0.6666666666666666,
              "#ed7953"
             ],
             [
              0.7777777777777778,
              "#fb9f3a"
             ],
             [
              0.8888888888888888,
              "#fdca26"
             ],
             [
              1,
              "#f0f921"
             ]
            ],
            "type": "contour"
           }
          ],
          "contourcarpet": [
           {
            "colorbar": {
             "outlinewidth": 0,
             "ticks": ""
            },
            "type": "contourcarpet"
           }
          ],
          "heatmap": [
           {
            "colorbar": {
             "outlinewidth": 0,
             "ticks": ""
            },
            "colorscale": [
             [
              0,
              "#0d0887"
             ],
             [
              0.1111111111111111,
              "#46039f"
             ],
             [
              0.2222222222222222,
              "#7201a8"
             ],
             [
              0.3333333333333333,
              "#9c179e"
             ],
             [
              0.4444444444444444,
              "#bd3786"
             ],
             [
              0.5555555555555556,
              "#d8576b"
             ],
             [
              0.6666666666666666,
              "#ed7953"
             ],
             [
              0.7777777777777778,
              "#fb9f3a"
             ],
             [
              0.8888888888888888,
              "#fdca26"
             ],
             [
              1,
              "#f0f921"
             ]
            ],
            "type": "heatmap"
           }
          ],
          "heatmapgl": [
           {
            "colorbar": {
             "outlinewidth": 0,
             "ticks": ""
            },
            "colorscale": [
             [
              0,
              "#0d0887"
             ],
             [
              0.1111111111111111,
              "#46039f"
             ],
             [
              0.2222222222222222,
              "#7201a8"
             ],
             [
              0.3333333333333333,
              "#9c179e"
             ],
             [
              0.4444444444444444,
              "#bd3786"
             ],
             [
              0.5555555555555556,
              "#d8576b"
             ],
             [
              0.6666666666666666,
              "#ed7953"
             ],
             [
              0.7777777777777778,
              "#fb9f3a"
             ],
             [
              0.8888888888888888,
              "#fdca26"
             ],
             [
              1,
              "#f0f921"
             ]
            ],
            "type": "heatmapgl"
           }
          ],
          "histogram": [
           {
            "marker": {
             "pattern": {
              "fillmode": "overlay",
              "size": 10,
              "solidity": 0.2
             }
            },
            "type": "histogram"
           }
          ],
          "histogram2d": [
           {
            "colorbar": {
             "outlinewidth": 0,
             "ticks": ""
            },
            "colorscale": [
             [
              0,
              "#0d0887"
             ],
             [
              0.1111111111111111,
              "#46039f"
             ],
             [
              0.2222222222222222,
              "#7201a8"
             ],
             [
              0.3333333333333333,
              "#9c179e"
             ],
             [
              0.4444444444444444,
              "#bd3786"
             ],
             [
              0.5555555555555556,
              "#d8576b"
             ],
             [
              0.6666666666666666,
              "#ed7953"
             ],
             [
              0.7777777777777778,
              "#fb9f3a"
             ],
             [
              0.8888888888888888,
              "#fdca26"
             ],
             [
              1,
              "#f0f921"
             ]
            ],
            "type": "histogram2d"
           }
          ],
          "histogram2dcontour": [
           {
            "colorbar": {
             "outlinewidth": 0,
             "ticks": ""
            },
            "colorscale": [
             [
              0,
              "#0d0887"
             ],
             [
              0.1111111111111111,
              "#46039f"
             ],
             [
              0.2222222222222222,
              "#7201a8"
             ],
             [
              0.3333333333333333,
              "#9c179e"
             ],
             [
              0.4444444444444444,
              "#bd3786"
             ],
             [
              0.5555555555555556,
              "#d8576b"
             ],
             [
              0.6666666666666666,
              "#ed7953"
             ],
             [
              0.7777777777777778,
              "#fb9f3a"
             ],
             [
              0.8888888888888888,
              "#fdca26"
             ],
             [
              1,
              "#f0f921"
             ]
            ],
            "type": "histogram2dcontour"
           }
          ],
          "mesh3d": [
           {
            "colorbar": {
             "outlinewidth": 0,
             "ticks": ""
            },
            "type": "mesh3d"
           }
          ],
          "parcoords": [
           {
            "line": {
             "colorbar": {
              "outlinewidth": 0,
              "ticks": ""
             }
            },
            "type": "parcoords"
           }
          ],
          "pie": [
           {
            "automargin": true,
            "type": "pie"
           }
          ],
          "scatter": [
           {
            "fillpattern": {
             "fillmode": "overlay",
             "size": 10,
             "solidity": 0.2
            },
            "type": "scatter"
           }
          ],
          "scatter3d": [
           {
            "line": {
             "colorbar": {
              "outlinewidth": 0,
              "ticks": ""
             }
            },
            "marker": {
             "colorbar": {
              "outlinewidth": 0,
              "ticks": ""
             }
            },
            "type": "scatter3d"
           }
          ],
          "scattercarpet": [
           {
            "marker": {
             "colorbar": {
              "outlinewidth": 0,
              "ticks": ""
             }
            },
            "type": "scattercarpet"
           }
          ],
          "scattergeo": [
           {
            "marker": {
             "colorbar": {
              "outlinewidth": 0,
              "ticks": ""
             }
            },
            "type": "scattergeo"
           }
          ],
          "scattergl": [
           {
            "marker": {
             "colorbar": {
              "outlinewidth": 0,
              "ticks": ""
             }
            },
            "type": "scattergl"
           }
          ],
          "scattermapbox": [
           {
            "marker": {
             "colorbar": {
              "outlinewidth": 0,
              "ticks": ""
             }
            },
            "type": "scattermapbox"
           }
          ],
          "scatterpolar": [
           {
            "marker": {
             "colorbar": {
              "outlinewidth": 0,
              "ticks": ""
             }
            },
            "type": "scatterpolar"
           }
          ],
          "scatterpolargl": [
           {
            "marker": {
             "colorbar": {
              "outlinewidth": 0,
              "ticks": ""
             }
            },
            "type": "scatterpolargl"
           }
          ],
          "scatterternary": [
           {
            "marker": {
             "colorbar": {
              "outlinewidth": 0,
              "ticks": ""
             }
            },
            "type": "scatterternary"
           }
          ],
          "surface": [
           {
            "colorbar": {
             "outlinewidth": 0,
             "ticks": ""
            },
            "colorscale": [
             [
              0,
              "#0d0887"
             ],
             [
              0.1111111111111111,
              "#46039f"
             ],
             [
              0.2222222222222222,
              "#7201a8"
             ],
             [
              0.3333333333333333,
              "#9c179e"
             ],
             [
              0.4444444444444444,
              "#bd3786"
             ],
             [
              0.5555555555555556,
              "#d8576b"
             ],
             [
              0.6666666666666666,
              "#ed7953"
             ],
             [
              0.7777777777777778,
              "#fb9f3a"
             ],
             [
              0.8888888888888888,
              "#fdca26"
             ],
             [
              1,
              "#f0f921"
             ]
            ],
            "type": "surface"
           }
          ],
          "table": [
           {
            "cells": {
             "fill": {
              "color": "#EBF0F8"
             },
             "line": {
              "color": "white"
             }
            },
            "header": {
             "fill": {
              "color": "#C8D4E3"
             },
             "line": {
              "color": "white"
             }
            },
            "type": "table"
           }
          ]
         },
         "layout": {
          "annotationdefaults": {
           "arrowcolor": "#2a3f5f",
           "arrowhead": 0,
           "arrowwidth": 1
          },
          "autotypenumbers": "strict",
          "coloraxis": {
           "colorbar": {
            "outlinewidth": 0,
            "ticks": ""
           }
          },
          "colorscale": {
           "diverging": [
            [
             0,
             "#8e0152"
            ],
            [
             0.1,
             "#c51b7d"
            ],
            [
             0.2,
             "#de77ae"
            ],
            [
             0.3,
             "#f1b6da"
            ],
            [
             0.4,
             "#fde0ef"
            ],
            [
             0.5,
             "#f7f7f7"
            ],
            [
             0.6,
             "#e6f5d0"
            ],
            [
             0.7,
             "#b8e186"
            ],
            [
             0.8,
             "#7fbc41"
            ],
            [
             0.9,
             "#4d9221"
            ],
            [
             1,
             "#276419"
            ]
           ],
           "sequential": [
            [
             0,
             "#0d0887"
            ],
            [
             0.1111111111111111,
             "#46039f"
            ],
            [
             0.2222222222222222,
             "#7201a8"
            ],
            [
             0.3333333333333333,
             "#9c179e"
            ],
            [
             0.4444444444444444,
             "#bd3786"
            ],
            [
             0.5555555555555556,
             "#d8576b"
            ],
            [
             0.6666666666666666,
             "#ed7953"
            ],
            [
             0.7777777777777778,
             "#fb9f3a"
            ],
            [
             0.8888888888888888,
             "#fdca26"
            ],
            [
             1,
             "#f0f921"
            ]
           ],
           "sequentialminus": [
            [
             0,
             "#0d0887"
            ],
            [
             0.1111111111111111,
             "#46039f"
            ],
            [
             0.2222222222222222,
             "#7201a8"
            ],
            [
             0.3333333333333333,
             "#9c179e"
            ],
            [
             0.4444444444444444,
             "#bd3786"
            ],
            [
             0.5555555555555556,
             "#d8576b"
            ],
            [
             0.6666666666666666,
             "#ed7953"
            ],
            [
             0.7777777777777778,
             "#fb9f3a"
            ],
            [
             0.8888888888888888,
             "#fdca26"
            ],
            [
             1,
             "#f0f921"
            ]
           ]
          },
          "colorway": [
           "#636efa",
           "#EF553B",
           "#00cc96",
           "#ab63fa",
           "#FFA15A",
           "#19d3f3",
           "#FF6692",
           "#B6E880",
           "#FF97FF",
           "#FECB52"
          ],
          "font": {
           "color": "#2a3f5f"
          },
          "geo": {
           "bgcolor": "white",
           "lakecolor": "white",
           "landcolor": "#E5ECF6",
           "showlakes": true,
           "showland": true,
           "subunitcolor": "white"
          },
          "hoverlabel": {
           "align": "left"
          },
          "hovermode": "closest",
          "mapbox": {
           "style": "light"
          },
          "paper_bgcolor": "white",
          "plot_bgcolor": "#E5ECF6",
          "polar": {
           "angularaxis": {
            "gridcolor": "white",
            "linecolor": "white",
            "ticks": ""
           },
           "bgcolor": "#E5ECF6",
           "radialaxis": {
            "gridcolor": "white",
            "linecolor": "white",
            "ticks": ""
           }
          },
          "scene": {
           "xaxis": {
            "backgroundcolor": "#E5ECF6",
            "gridcolor": "white",
            "gridwidth": 2,
            "linecolor": "white",
            "showbackground": true,
            "ticks": "",
            "zerolinecolor": "white"
           },
           "yaxis": {
            "backgroundcolor": "#E5ECF6",
            "gridcolor": "white",
            "gridwidth": 2,
            "linecolor": "white",
            "showbackground": true,
            "ticks": "",
            "zerolinecolor": "white"
           },
           "zaxis": {
            "backgroundcolor": "#E5ECF6",
            "gridcolor": "white",
            "gridwidth": 2,
            "linecolor": "white",
            "showbackground": true,
            "ticks": "",
            "zerolinecolor": "white"
           }
          },
          "shapedefaults": {
           "line": {
            "color": "#2a3f5f"
           }
          },
          "ternary": {
           "aaxis": {
            "gridcolor": "white",
            "linecolor": "white",
            "ticks": ""
           },
           "baxis": {
            "gridcolor": "white",
            "linecolor": "white",
            "ticks": ""
           },
           "bgcolor": "#E5ECF6",
           "caxis": {
            "gridcolor": "white",
            "linecolor": "white",
            "ticks": ""
           }
          },
          "title": {
           "x": 0.05
          },
          "xaxis": {
           "automargin": true,
           "gridcolor": "white",
           "linecolor": "white",
           "ticks": "",
           "title": {
            "standoff": 15
           },
           "zerolinecolor": "white",
           "zerolinewidth": 2
          },
          "yaxis": {
           "automargin": true,
           "gridcolor": "white",
           "linecolor": "white",
           "ticks": "",
           "title": {
            "standoff": 15
           },
           "zerolinecolor": "white",
           "zerolinewidth": 2
          }
         }
        },
        "xaxis": {
         "anchor": "y",
         "domain": [
          0,
          0.0911111111111111
         ],
         "title": {
          "text": "m"
         }
        },
        "xaxis10": {
         "anchor": "y10",
         "domain": [
          0,
          0.0911111111111111
         ],
         "matches": "x",
         "showticklabels": false
        },
        "xaxis11": {
         "anchor": "y11",
         "domain": [
          0.1111111111111111,
          0.2022222222222222
         ],
         "matches": "x",
         "showticklabels": false
        },
        "xaxis12": {
         "anchor": "y12",
         "domain": [
          0.2222222222222222,
          0.3133333333333333
         ],
         "matches": "x",
         "showticklabels": false
        },
        "xaxis13": {
         "anchor": "y13",
         "domain": [
          0.3333333333333333,
          0.4244444444444444
         ],
         "matches": "x",
         "showticklabels": false
        },
        "xaxis14": {
         "anchor": "y14",
         "domain": [
          0.4444444444444444,
          0.5355555555555556
         ],
         "matches": "x",
         "showticklabels": false
        },
        "xaxis15": {
         "anchor": "y15",
         "domain": [
          0.5555555555555555,
          0.6466666666666666
         ],
         "matches": "x",
         "showticklabels": false
        },
        "xaxis16": {
         "anchor": "y16",
         "domain": [
          0.6666666666666666,
          0.7577777777777778
         ],
         "matches": "x",
         "showticklabels": false
        },
        "xaxis17": {
         "anchor": "y17",
         "domain": [
          0.7777777777777778,
          0.8688888888888889
         ],
         "matches": "x",
         "showticklabels": false
        },
        "xaxis18": {
         "anchor": "y18",
         "domain": [
          0.888888888888889,
          0.9800000000000001
         ],
         "matches": "x",
         "showticklabels": false
        },
        "xaxis19": {
         "anchor": "y19",
         "domain": [
          0,
          0.0911111111111111
         ],
         "matches": "x",
         "showticklabels": false
        },
        "xaxis2": {
         "anchor": "y2",
         "domain": [
          0.1111111111111111,
          0.2022222222222222
         ],
         "matches": "x",
         "title": {
          "text": "m"
         }
        },
        "xaxis20": {
         "anchor": "y20",
         "domain": [
          0.1111111111111111,
          0.2022222222222222
         ],
         "matches": "x",
         "showticklabels": false
        },
        "xaxis21": {
         "anchor": "y21",
         "domain": [
          0.2222222222222222,
          0.3133333333333333
         ],
         "matches": "x",
         "showticklabels": false
        },
        "xaxis22": {
         "anchor": "y22",
         "domain": [
          0.3333333333333333,
          0.4244444444444444
         ],
         "matches": "x",
         "showticklabels": false
        },
        "xaxis23": {
         "anchor": "y23",
         "domain": [
          0.4444444444444444,
          0.5355555555555556
         ],
         "matches": "x",
         "showticklabels": false
        },
        "xaxis24": {
         "anchor": "y24",
         "domain": [
          0.5555555555555555,
          0.6466666666666666
         ],
         "matches": "x",
         "showticklabels": false
        },
        "xaxis25": {
         "anchor": "y25",
         "domain": [
          0.6666666666666666,
          0.7577777777777778
         ],
         "matches": "x",
         "showticklabels": false
        },
        "xaxis26": {
         "anchor": "y26",
         "domain": [
          0.7777777777777778,
          0.8688888888888889
         ],
         "matches": "x",
         "showticklabels": false
        },
        "xaxis27": {
         "anchor": "y27",
         "domain": [
          0.888888888888889,
          0.9800000000000001
         ],
         "matches": "x",
         "showticklabels": false
        },
        "xaxis28": {
         "anchor": "y28",
         "domain": [
          0,
          0.0911111111111111
         ],
         "matches": "x",
         "showticklabels": false
        },
        "xaxis29": {
         "anchor": "y29",
         "domain": [
          0.1111111111111111,
          0.2022222222222222
         ],
         "matches": "x",
         "showticklabels": false
        },
        "xaxis3": {
         "anchor": "y3",
         "domain": [
          0.2222222222222222,
          0.3133333333333333
         ],
         "matches": "x",
         "title": {
          "text": "m"
         }
        },
        "xaxis30": {
         "anchor": "y30",
         "domain": [
          0.2222222222222222,
          0.3133333333333333
         ],
         "matches": "x",
         "showticklabels": false
        },
        "xaxis31": {
         "anchor": "y31",
         "domain": [
          0.3333333333333333,
          0.4244444444444444
         ],
         "matches": "x",
         "showticklabels": false
        },
        "xaxis32": {
         "anchor": "y32",
         "domain": [
          0.4444444444444444,
          0.5355555555555556
         ],
         "matches": "x",
         "showticklabels": false
        },
        "xaxis33": {
         "anchor": "y33",
         "domain": [
          0.5555555555555555,
          0.6466666666666666
         ],
         "matches": "x",
         "showticklabels": false
        },
        "xaxis34": {
         "anchor": "y34",
         "domain": [
          0.6666666666666666,
          0.7577777777777778
         ],
         "matches": "x",
         "showticklabels": false
        },
        "xaxis35": {
         "anchor": "y35",
         "domain": [
          0.7777777777777778,
          0.8688888888888889
         ],
         "matches": "x",
         "showticklabels": false
        },
        "xaxis36": {
         "anchor": "y36",
         "domain": [
          0.888888888888889,
          0.9800000000000001
         ],
         "matches": "x",
         "showticklabels": false
        },
        "xaxis37": {
         "anchor": "y37",
         "domain": [
          0,
          0.0911111111111111
         ],
         "matches": "x",
         "showticklabels": false
        },
        "xaxis38": {
         "anchor": "y38",
         "domain": [
          0.1111111111111111,
          0.2022222222222222
         ],
         "matches": "x",
         "showticklabels": false
        },
        "xaxis39": {
         "anchor": "y39",
         "domain": [
          0.2222222222222222,
          0.3133333333333333
         ],
         "matches": "x",
         "showticklabels": false
        },
        "xaxis4": {
         "anchor": "y4",
         "domain": [
          0.3333333333333333,
          0.4244444444444444
         ],
         "matches": "x",
         "title": {
          "text": "m"
         }
        },
        "xaxis40": {
         "anchor": "y40",
         "domain": [
          0.3333333333333333,
          0.4244444444444444
         ],
         "matches": "x",
         "showticklabels": false
        },
        "xaxis41": {
         "anchor": "y41",
         "domain": [
          0.4444444444444444,
          0.5355555555555556
         ],
         "matches": "x",
         "showticklabels": false
        },
        "xaxis42": {
         "anchor": "y42",
         "domain": [
          0.5555555555555555,
          0.6466666666666666
         ],
         "matches": "x",
         "showticklabels": false
        },
        "xaxis43": {
         "anchor": "y43",
         "domain": [
          0.6666666666666666,
          0.7577777777777778
         ],
         "matches": "x",
         "showticklabels": false
        },
        "xaxis44": {
         "anchor": "y44",
         "domain": [
          0.7777777777777778,
          0.8688888888888889
         ],
         "matches": "x",
         "showticklabels": false
        },
        "xaxis45": {
         "anchor": "y45",
         "domain": [
          0.888888888888889,
          0.9800000000000001
         ],
         "matches": "x",
         "showticklabels": false
        },
        "xaxis46": {
         "anchor": "y46",
         "domain": [
          0,
          0.0911111111111111
         ],
         "matches": "x",
         "showticklabels": false
        },
        "xaxis47": {
         "anchor": "y47",
         "domain": [
          0.1111111111111111,
          0.2022222222222222
         ],
         "matches": "x",
         "showticklabels": false
        },
        "xaxis48": {
         "anchor": "y48",
         "domain": [
          0.2222222222222222,
          0.3133333333333333
         ],
         "matches": "x",
         "showticklabels": false
        },
        "xaxis49": {
         "anchor": "y49",
         "domain": [
          0.3333333333333333,
          0.4244444444444444
         ],
         "matches": "x",
         "showticklabels": false
        },
        "xaxis5": {
         "anchor": "y5",
         "domain": [
          0.4444444444444444,
          0.5355555555555556
         ],
         "matches": "x",
         "title": {
          "text": "m"
         }
        },
        "xaxis50": {
         "anchor": "y50",
         "domain": [
          0.4444444444444444,
          0.5355555555555556
         ],
         "matches": "x",
         "showticklabels": false
        },
        "xaxis51": {
         "anchor": "y51",
         "domain": [
          0.5555555555555555,
          0.6466666666666666
         ],
         "matches": "x",
         "showticklabels": false
        },
        "xaxis52": {
         "anchor": "y52",
         "domain": [
          0.6666666666666666,
          0.7577777777777778
         ],
         "matches": "x",
         "showticklabels": false
        },
        "xaxis53": {
         "anchor": "y53",
         "domain": [
          0.7777777777777778,
          0.8688888888888889
         ],
         "matches": "x",
         "showticklabels": false
        },
        "xaxis54": {
         "anchor": "y54",
         "domain": [
          0.888888888888889,
          0.9800000000000001
         ],
         "matches": "x",
         "showticklabels": false
        },
        "xaxis55": {
         "anchor": "y55",
         "domain": [
          0,
          0.0911111111111111
         ],
         "matches": "x",
         "showticklabels": false
        },
        "xaxis56": {
         "anchor": "y56",
         "domain": [
          0.1111111111111111,
          0.2022222222222222
         ],
         "matches": "x",
         "showticklabels": false
        },
        "xaxis57": {
         "anchor": "y57",
         "domain": [
          0.2222222222222222,
          0.3133333333333333
         ],
         "matches": "x",
         "showticklabels": false
        },
        "xaxis58": {
         "anchor": "y58",
         "domain": [
          0.3333333333333333,
          0.4244444444444444
         ],
         "matches": "x",
         "showticklabels": false
        },
        "xaxis59": {
         "anchor": "y59",
         "domain": [
          0.4444444444444444,
          0.5355555555555556
         ],
         "matches": "x",
         "showticklabels": false
        },
        "xaxis6": {
         "anchor": "y6",
         "domain": [
          0.5555555555555555,
          0.6466666666666666
         ],
         "matches": "x",
         "title": {
          "text": "m"
         }
        },
        "xaxis60": {
         "anchor": "y60",
         "domain": [
          0.5555555555555555,
          0.6466666666666666
         ],
         "matches": "x",
         "showticklabels": false
        },
        "xaxis61": {
         "anchor": "y61",
         "domain": [
          0.6666666666666666,
          0.7577777777777778
         ],
         "matches": "x",
         "showticklabels": false
        },
        "xaxis62": {
         "anchor": "y62",
         "domain": [
          0.7777777777777778,
          0.8688888888888889
         ],
         "matches": "x",
         "showticklabels": false
        },
        "xaxis63": {
         "anchor": "y63",
         "domain": [
          0.888888888888889,
          0.9800000000000001
         ],
         "matches": "x",
         "showticklabels": false
        },
        "xaxis64": {
         "anchor": "y64",
         "domain": [
          0,
          0.0911111111111111
         ],
         "matches": "x",
         "showticklabels": false
        },
        "xaxis65": {
         "anchor": "y65",
         "domain": [
          0.1111111111111111,
          0.2022222222222222
         ],
         "matches": "x",
         "showticklabels": false
        },
        "xaxis66": {
         "anchor": "y66",
         "domain": [
          0.2222222222222222,
          0.3133333333333333
         ],
         "matches": "x",
         "showticklabels": false
        },
        "xaxis67": {
         "anchor": "y67",
         "domain": [
          0.3333333333333333,
          0.4244444444444444
         ],
         "matches": "x",
         "showticklabels": false
        },
        "xaxis68": {
         "anchor": "y68",
         "domain": [
          0.4444444444444444,
          0.5355555555555556
         ],
         "matches": "x",
         "showticklabels": false
        },
        "xaxis69": {
         "anchor": "y69",
         "domain": [
          0.5555555555555555,
          0.6466666666666666
         ],
         "matches": "x",
         "showticklabels": false
        },
        "xaxis7": {
         "anchor": "y7",
         "domain": [
          0.6666666666666666,
          0.7577777777777778
         ],
         "matches": "x",
         "title": {
          "text": "m"
         }
        },
        "xaxis70": {
         "anchor": "y70",
         "domain": [
          0.6666666666666666,
          0.7577777777777778
         ],
         "matches": "x",
         "showticklabels": false
        },
        "xaxis71": {
         "anchor": "y71",
         "domain": [
          0.7777777777777778,
          0.8688888888888889
         ],
         "matches": "x",
         "showticklabels": false
        },
        "xaxis72": {
         "anchor": "y72",
         "domain": [
          0.888888888888889,
          0.9800000000000001
         ],
         "matches": "x",
         "showticklabels": false
        },
        "xaxis73": {
         "anchor": "y73",
         "domain": [
          0,
          0.0911111111111111
         ],
         "matches": "x",
         "showticklabels": false
        },
        "xaxis74": {
         "anchor": "y74",
         "domain": [
          0.1111111111111111,
          0.2022222222222222
         ],
         "matches": "x",
         "showticklabels": false
        },
        "xaxis75": {
         "anchor": "y75",
         "domain": [
          0.2222222222222222,
          0.3133333333333333
         ],
         "matches": "x",
         "showticklabels": false
        },
        "xaxis76": {
         "anchor": "y76",
         "domain": [
          0.3333333333333333,
          0.4244444444444444
         ],
         "matches": "x",
         "showticklabels": false
        },
        "xaxis77": {
         "anchor": "y77",
         "domain": [
          0.4444444444444444,
          0.5355555555555556
         ],
         "matches": "x",
         "showticklabels": false
        },
        "xaxis78": {
         "anchor": "y78",
         "domain": [
          0.5555555555555555,
          0.6466666666666666
         ],
         "matches": "x",
         "showticklabels": false
        },
        "xaxis79": {
         "anchor": "y79",
         "domain": [
          0.6666666666666666,
          0.7577777777777778
         ],
         "matches": "x",
         "showticklabels": false
        },
        "xaxis8": {
         "anchor": "y8",
         "domain": [
          0.7777777777777778,
          0.8688888888888889
         ],
         "matches": "x",
         "title": {
          "text": "m"
         }
        },
        "xaxis80": {
         "anchor": "y80",
         "domain": [
          0.7777777777777778,
          0.8688888888888889
         ],
         "matches": "x",
         "showticklabels": false
        },
        "xaxis81": {
         "anchor": "y81",
         "domain": [
          0.888888888888889,
          0.9800000000000001
         ],
         "matches": "x",
         "showticklabels": false
        },
        "xaxis82": {
         "anchor": "y82",
         "domain": [
          0,
          0.0911111111111111
         ],
         "matches": "x",
         "showticklabels": false
        },
        "xaxis83": {
         "anchor": "y83",
         "domain": [
          0.1111111111111111,
          0.2022222222222222
         ],
         "matches": "x",
         "showticklabels": false
        },
        "xaxis84": {
         "anchor": "y84",
         "domain": [
          0.2222222222222222,
          0.3133333333333333
         ],
         "matches": "x",
         "showticklabels": false
        },
        "xaxis85": {
         "anchor": "y85",
         "domain": [
          0.3333333333333333,
          0.4244444444444444
         ],
         "matches": "x",
         "showticklabels": false
        },
        "xaxis86": {
         "anchor": "y86",
         "domain": [
          0.4444444444444444,
          0.5355555555555556
         ],
         "matches": "x",
         "showticklabels": false
        },
        "xaxis87": {
         "anchor": "y87",
         "domain": [
          0.5555555555555555,
          0.6466666666666666
         ],
         "matches": "x",
         "showticklabels": false
        },
        "xaxis88": {
         "anchor": "y88",
         "domain": [
          0.6666666666666666,
          0.7577777777777778
         ],
         "matches": "x",
         "showticklabels": false
        },
        "xaxis89": {
         "anchor": "y89",
         "domain": [
          0.7777777777777778,
          0.8688888888888889
         ],
         "matches": "x",
         "showticklabels": false
        },
        "xaxis9": {
         "anchor": "y9",
         "domain": [
          0.888888888888889,
          0.9800000000000001
         ],
         "matches": "x",
         "title": {
          "text": "m"
         }
        },
        "xaxis90": {
         "anchor": "y90",
         "domain": [
          0.888888888888889,
          0.9800000000000001
         ],
         "matches": "x",
         "showticklabels": false
        },
        "yaxis": {
         "anchor": "x",
         "domain": [
          0,
          0.073
         ],
         "title": {
          "text": "time"
         }
        },
        "yaxis10": {
         "anchor": "x10",
         "domain": [
          0.103,
          0.176
         ],
         "matches": "y",
         "title": {
          "text": "time"
         }
        },
        "yaxis11": {
         "anchor": "x11",
         "domain": [
          0.103,
          0.176
         ],
         "matches": "y",
         "showticklabels": false
        },
        "yaxis12": {
         "anchor": "x12",
         "domain": [
          0.103,
          0.176
         ],
         "matches": "y",
         "showticklabels": false
        },
        "yaxis13": {
         "anchor": "x13",
         "domain": [
          0.103,
          0.176
         ],
         "matches": "y",
         "showticklabels": false
        },
        "yaxis14": {
         "anchor": "x14",
         "domain": [
          0.103,
          0.176
         ],
         "matches": "y",
         "showticklabels": false
        },
        "yaxis15": {
         "anchor": "x15",
         "domain": [
          0.103,
          0.176
         ],
         "matches": "y",
         "showticklabels": false
        },
        "yaxis16": {
         "anchor": "x16",
         "domain": [
          0.103,
          0.176
         ],
         "matches": "y",
         "showticklabels": false
        },
        "yaxis17": {
         "anchor": "x17",
         "domain": [
          0.103,
          0.176
         ],
         "matches": "y",
         "showticklabels": false
        },
        "yaxis18": {
         "anchor": "x18",
         "domain": [
          0.103,
          0.176
         ],
         "matches": "y",
         "showticklabels": false
        },
        "yaxis19": {
         "anchor": "x19",
         "domain": [
          0.206,
          0.27899999999999997
         ],
         "matches": "y",
         "title": {
          "text": "time"
         }
        },
        "yaxis2": {
         "anchor": "x2",
         "domain": [
          0,
          0.073
         ],
         "matches": "y",
         "showticklabels": false
        },
        "yaxis20": {
         "anchor": "x20",
         "domain": [
          0.206,
          0.27899999999999997
         ],
         "matches": "y",
         "showticklabels": false
        },
        "yaxis21": {
         "anchor": "x21",
         "domain": [
          0.206,
          0.27899999999999997
         ],
         "matches": "y",
         "showticklabels": false
        },
        "yaxis22": {
         "anchor": "x22",
         "domain": [
          0.206,
          0.27899999999999997
         ],
         "matches": "y",
         "showticklabels": false
        },
        "yaxis23": {
         "anchor": "x23",
         "domain": [
          0.206,
          0.27899999999999997
         ],
         "matches": "y",
         "showticklabels": false
        },
        "yaxis24": {
         "anchor": "x24",
         "domain": [
          0.206,
          0.27899999999999997
         ],
         "matches": "y",
         "showticklabels": false
        },
        "yaxis25": {
         "anchor": "x25",
         "domain": [
          0.206,
          0.27899999999999997
         ],
         "matches": "y",
         "showticklabels": false
        },
        "yaxis26": {
         "anchor": "x26",
         "domain": [
          0.206,
          0.27899999999999997
         ],
         "matches": "y",
         "showticklabels": false
        },
        "yaxis27": {
         "anchor": "x27",
         "domain": [
          0.206,
          0.27899999999999997
         ],
         "matches": "y",
         "showticklabels": false
        },
        "yaxis28": {
         "anchor": "x28",
         "domain": [
          0.30899999999999994,
          0.38199999999999995
         ],
         "matches": "y",
         "title": {
          "text": "time"
         }
        },
        "yaxis29": {
         "anchor": "x29",
         "domain": [
          0.30899999999999994,
          0.38199999999999995
         ],
         "matches": "y",
         "showticklabels": false
        },
        "yaxis3": {
         "anchor": "x3",
         "domain": [
          0,
          0.073
         ],
         "matches": "y",
         "showticklabels": false
        },
        "yaxis30": {
         "anchor": "x30",
         "domain": [
          0.30899999999999994,
          0.38199999999999995
         ],
         "matches": "y",
         "showticklabels": false
        },
        "yaxis31": {
         "anchor": "x31",
         "domain": [
          0.30899999999999994,
          0.38199999999999995
         ],
         "matches": "y",
         "showticklabels": false
        },
        "yaxis32": {
         "anchor": "x32",
         "domain": [
          0.30899999999999994,
          0.38199999999999995
         ],
         "matches": "y",
         "showticklabels": false
        },
        "yaxis33": {
         "anchor": "x33",
         "domain": [
          0.30899999999999994,
          0.38199999999999995
         ],
         "matches": "y",
         "showticklabels": false
        },
        "yaxis34": {
         "anchor": "x34",
         "domain": [
          0.30899999999999994,
          0.38199999999999995
         ],
         "matches": "y",
         "showticklabels": false
        },
        "yaxis35": {
         "anchor": "x35",
         "domain": [
          0.30899999999999994,
          0.38199999999999995
         ],
         "matches": "y",
         "showticklabels": false
        },
        "yaxis36": {
         "anchor": "x36",
         "domain": [
          0.30899999999999994,
          0.38199999999999995
         ],
         "matches": "y",
         "showticklabels": false
        },
        "yaxis37": {
         "anchor": "x37",
         "domain": [
          0.412,
          0.485
         ],
         "matches": "y",
         "title": {
          "text": "time"
         }
        },
        "yaxis38": {
         "anchor": "x38",
         "domain": [
          0.412,
          0.485
         ],
         "matches": "y",
         "showticklabels": false
        },
        "yaxis39": {
         "anchor": "x39",
         "domain": [
          0.412,
          0.485
         ],
         "matches": "y",
         "showticklabels": false
        },
        "yaxis4": {
         "anchor": "x4",
         "domain": [
          0,
          0.073
         ],
         "matches": "y",
         "showticklabels": false
        },
        "yaxis40": {
         "anchor": "x40",
         "domain": [
          0.412,
          0.485
         ],
         "matches": "y",
         "showticklabels": false
        },
        "yaxis41": {
         "anchor": "x41",
         "domain": [
          0.412,
          0.485
         ],
         "matches": "y",
         "showticklabels": false
        },
        "yaxis42": {
         "anchor": "x42",
         "domain": [
          0.412,
          0.485
         ],
         "matches": "y",
         "showticklabels": false
        },
        "yaxis43": {
         "anchor": "x43",
         "domain": [
          0.412,
          0.485
         ],
         "matches": "y",
         "showticklabels": false
        },
        "yaxis44": {
         "anchor": "x44",
         "domain": [
          0.412,
          0.485
         ],
         "matches": "y",
         "showticklabels": false
        },
        "yaxis45": {
         "anchor": "x45",
         "domain": [
          0.412,
          0.485
         ],
         "matches": "y",
         "showticklabels": false
        },
        "yaxis46": {
         "anchor": "x46",
         "domain": [
          0.515,
          0.588
         ],
         "matches": "y",
         "title": {
          "text": "time"
         }
        },
        "yaxis47": {
         "anchor": "x47",
         "domain": [
          0.515,
          0.588
         ],
         "matches": "y",
         "showticklabels": false
        },
        "yaxis48": {
         "anchor": "x48",
         "domain": [
          0.515,
          0.588
         ],
         "matches": "y",
         "showticklabels": false
        },
        "yaxis49": {
         "anchor": "x49",
         "domain": [
          0.515,
          0.588
         ],
         "matches": "y",
         "showticklabels": false
        },
        "yaxis5": {
         "anchor": "x5",
         "domain": [
          0,
          0.073
         ],
         "matches": "y",
         "showticklabels": false
        },
        "yaxis50": {
         "anchor": "x50",
         "domain": [
          0.515,
          0.588
         ],
         "matches": "y",
         "showticklabels": false
        },
        "yaxis51": {
         "anchor": "x51",
         "domain": [
          0.515,
          0.588
         ],
         "matches": "y",
         "showticklabels": false
        },
        "yaxis52": {
         "anchor": "x52",
         "domain": [
          0.515,
          0.588
         ],
         "matches": "y",
         "showticklabels": false
        },
        "yaxis53": {
         "anchor": "x53",
         "domain": [
          0.515,
          0.588
         ],
         "matches": "y",
         "showticklabels": false
        },
        "yaxis54": {
         "anchor": "x54",
         "domain": [
          0.515,
          0.588
         ],
         "matches": "y",
         "showticklabels": false
        },
        "yaxis55": {
         "anchor": "x55",
         "domain": [
          0.618,
          0.691
         ],
         "matches": "y",
         "title": {
          "text": "time"
         }
        },
        "yaxis56": {
         "anchor": "x56",
         "domain": [
          0.618,
          0.691
         ],
         "matches": "y",
         "showticklabels": false
        },
        "yaxis57": {
         "anchor": "x57",
         "domain": [
          0.618,
          0.691
         ],
         "matches": "y",
         "showticklabels": false
        },
        "yaxis58": {
         "anchor": "x58",
         "domain": [
          0.618,
          0.691
         ],
         "matches": "y",
         "showticklabels": false
        },
        "yaxis59": {
         "anchor": "x59",
         "domain": [
          0.618,
          0.691
         ],
         "matches": "y",
         "showticklabels": false
        },
        "yaxis6": {
         "anchor": "x6",
         "domain": [
          0,
          0.073
         ],
         "matches": "y",
         "showticklabels": false
        },
        "yaxis60": {
         "anchor": "x60",
         "domain": [
          0.618,
          0.691
         ],
         "matches": "y",
         "showticklabels": false
        },
        "yaxis61": {
         "anchor": "x61",
         "domain": [
          0.618,
          0.691
         ],
         "matches": "y",
         "showticklabels": false
        },
        "yaxis62": {
         "anchor": "x62",
         "domain": [
          0.618,
          0.691
         ],
         "matches": "y",
         "showticklabels": false
        },
        "yaxis63": {
         "anchor": "x63",
         "domain": [
          0.618,
          0.691
         ],
         "matches": "y",
         "showticklabels": false
        },
        "yaxis64": {
         "anchor": "x64",
         "domain": [
          0.721,
          0.7939999999999999
         ],
         "matches": "y",
         "title": {
          "text": "time"
         }
        },
        "yaxis65": {
         "anchor": "x65",
         "domain": [
          0.721,
          0.7939999999999999
         ],
         "matches": "y",
         "showticklabels": false
        },
        "yaxis66": {
         "anchor": "x66",
         "domain": [
          0.721,
          0.7939999999999999
         ],
         "matches": "y",
         "showticklabels": false
        },
        "yaxis67": {
         "anchor": "x67",
         "domain": [
          0.721,
          0.7939999999999999
         ],
         "matches": "y",
         "showticklabels": false
        },
        "yaxis68": {
         "anchor": "x68",
         "domain": [
          0.721,
          0.7939999999999999
         ],
         "matches": "y",
         "showticklabels": false
        },
        "yaxis69": {
         "anchor": "x69",
         "domain": [
          0.721,
          0.7939999999999999
         ],
         "matches": "y",
         "showticklabels": false
        },
        "yaxis7": {
         "anchor": "x7",
         "domain": [
          0,
          0.073
         ],
         "matches": "y",
         "showticklabels": false
        },
        "yaxis70": {
         "anchor": "x70",
         "domain": [
          0.721,
          0.7939999999999999
         ],
         "matches": "y",
         "showticklabels": false
        },
        "yaxis71": {
         "anchor": "x71",
         "domain": [
          0.721,
          0.7939999999999999
         ],
         "matches": "y",
         "showticklabels": false
        },
        "yaxis72": {
         "anchor": "x72",
         "domain": [
          0.721,
          0.7939999999999999
         ],
         "matches": "y",
         "showticklabels": false
        },
        "yaxis73": {
         "anchor": "x73",
         "domain": [
          0.824,
          0.8969999999999999
         ],
         "matches": "y",
         "title": {
          "text": "time"
         }
        },
        "yaxis74": {
         "anchor": "x74",
         "domain": [
          0.824,
          0.8969999999999999
         ],
         "matches": "y",
         "showticklabels": false
        },
        "yaxis75": {
         "anchor": "x75",
         "domain": [
          0.824,
          0.8969999999999999
         ],
         "matches": "y",
         "showticklabels": false
        },
        "yaxis76": {
         "anchor": "x76",
         "domain": [
          0.824,
          0.8969999999999999
         ],
         "matches": "y",
         "showticklabels": false
        },
        "yaxis77": {
         "anchor": "x77",
         "domain": [
          0.824,
          0.8969999999999999
         ],
         "matches": "y",
         "showticklabels": false
        },
        "yaxis78": {
         "anchor": "x78",
         "domain": [
          0.824,
          0.8969999999999999
         ],
         "matches": "y",
         "showticklabels": false
        },
        "yaxis79": {
         "anchor": "x79",
         "domain": [
          0.824,
          0.8969999999999999
         ],
         "matches": "y",
         "showticklabels": false
        },
        "yaxis8": {
         "anchor": "x8",
         "domain": [
          0,
          0.073
         ],
         "matches": "y",
         "showticklabels": false
        },
        "yaxis80": {
         "anchor": "x80",
         "domain": [
          0.824,
          0.8969999999999999
         ],
         "matches": "y",
         "showticklabels": false
        },
        "yaxis81": {
         "anchor": "x81",
         "domain": [
          0.824,
          0.8969999999999999
         ],
         "matches": "y",
         "showticklabels": false
        },
        "yaxis82": {
         "anchor": "x82",
         "domain": [
          0.9269999999999999,
          0.9999999999999999
         ],
         "matches": "y",
         "title": {
          "text": "time"
         }
        },
        "yaxis83": {
         "anchor": "x83",
         "domain": [
          0.9269999999999999,
          0.9999999999999999
         ],
         "matches": "y",
         "showticklabels": false
        },
        "yaxis84": {
         "anchor": "x84",
         "domain": [
          0.9269999999999999,
          0.9999999999999999
         ],
         "matches": "y",
         "showticklabels": false
        },
        "yaxis85": {
         "anchor": "x85",
         "domain": [
          0.9269999999999999,
          0.9999999999999999
         ],
         "matches": "y",
         "showticklabels": false
        },
        "yaxis86": {
         "anchor": "x86",
         "domain": [
          0.9269999999999999,
          0.9999999999999999
         ],
         "matches": "y",
         "showticklabels": false
        },
        "yaxis87": {
         "anchor": "x87",
         "domain": [
          0.9269999999999999,
          0.9999999999999999
         ],
         "matches": "y",
         "showticklabels": false
        },
        "yaxis88": {
         "anchor": "x88",
         "domain": [
          0.9269999999999999,
          0.9999999999999999
         ],
         "matches": "y",
         "showticklabels": false
        },
        "yaxis89": {
         "anchor": "x89",
         "domain": [
          0.9269999999999999,
          0.9999999999999999
         ],
         "matches": "y",
         "showticklabels": false
        },
        "yaxis9": {
         "anchor": "x9",
         "domain": [
          0,
          0.073
         ],
         "matches": "y",
         "showticklabels": false
        },
        "yaxis90": {
         "anchor": "x90",
         "domain": [
          0.9269999999999999,
          0.9999999999999999
         ],
         "matches": "y",
         "showticklabels": false
        }
       }
      },
      "text/html": [
       "<div>                            <div id=\"874eff28-21fa-4ac8-be1f-6396cd976edd\" class=\"plotly-graph-div\" style=\"height:525px; width:100%;\"></div>            <script type=\"text/javascript\">                require([\"plotly\"], function(Plotly) {                    window.PLOTLYENV=window.PLOTLYENV || {};                                    if (document.getElementById(\"874eff28-21fa-4ac8-be1f-6396cd976edd\")) {                    Plotly.newPlot(                        \"874eff28-21fa-4ac8-be1f-6396cd976edd\",                        [{\"hovertemplate\":\"method=srht\\u003cbr\\u003ed=16\\u003cbr\\u003en=128\\u003cbr\\u003em=%{x}\\u003cbr\\u003etime=%{y}\\u003cextra\\u003e\\u003c\\u002fextra\\u003e\",\"legendgroup\":\"srht\",\"line\":{\"color\":\"#636efa\",\"dash\":\"solid\"},\"marker\":{\"symbol\":\"circle\"},\"mode\":\"lines\",\"name\":\"srht\",\"orientation\":\"v\",\"showlegend\":true,\"x\":[4,8,16,32,64],\"xaxis\":\"x82\",\"y\":[0.0005459785461425781,0.0005114078521728516,0.0007280508677164712,0.0009833176930745442,0.0013475418090820312],\"yaxis\":\"y82\",\"type\":\"scatter\"},{\"hovertemplate\":\"method=srht\\u003cbr\\u003ed=16\\u003cbr\\u003en=256\\u003cbr\\u003em=%{x}\\u003cbr\\u003etime=%{y}\\u003cextra\\u003e\\u003c\\u002fextra\\u003e\",\"legendgroup\":\"srht\",\"line\":{\"color\":\"#636efa\",\"dash\":\"solid\"},\"marker\":{\"symbol\":\"circle\"},\"mode\":\"lines\",\"name\":\"srht\",\"orientation\":\"v\",\"showlegend\":false,\"x\":[4,8,16,32,64],\"xaxis\":\"x83\",\"y\":[0.00031065940856933594,0.000501712163289388,0.0006546974182128906,0.0010519822438557942,0.0016456445058186848],\"yaxis\":\"y83\",\"type\":\"scatter\"},{\"hovertemplate\":\"method=srht\\u003cbr\\u003ed=16\\u003cbr\\u003en=512\\u003cbr\\u003em=%{x}\\u003cbr\\u003etime=%{y}\\u003cextra\\u003e\\u003c\\u002fextra\\u003e\",\"legendgroup\":\"srht\",\"line\":{\"color\":\"#636efa\",\"dash\":\"solid\"},\"marker\":{\"symbol\":\"circle\"},\"mode\":\"lines\",\"name\":\"srht\",\"orientation\":\"v\",\"showlegend\":false,\"x\":[4,8,16,32,64],\"xaxis\":\"x84\",\"y\":[0.0003652572631835937,0.0007360776265462239,0.0007875760396321614,0.0012073516845703125,0.0019563039143880205],\"yaxis\":\"y84\",\"type\":\"scatter\"},{\"hovertemplate\":\"method=srht\\u003cbr\\u003ed=16\\u003cbr\\u003en=1024\\u003cbr\\u003em=%{x}\\u003cbr\\u003etime=%{y}\\u003cextra\\u003e\\u003c\\u002fextra\\u003e\",\"legendgroup\":\"srht\",\"line\":{\"color\":\"#636efa\",\"dash\":\"solid\"},\"marker\":{\"symbol\":\"circle\"},\"mode\":\"lines\",\"name\":\"srht\",\"orientation\":\"v\",\"showlegend\":false,\"x\":[4,8,16,32,64],\"xaxis\":\"x85\",\"y\":[0.0005652904510498047,0.0007600784301757812,0.0010221799214680989,0.0014929771423339844,0.0023530324300130205],\"yaxis\":\"y85\",\"type\":\"scatter\"},{\"hovertemplate\":\"method=srht\\u003cbr\\u003ed=16\\u003cbr\\u003en=2048\\u003cbr\\u003em=%{x}\\u003cbr\\u003etime=%{y}\\u003cextra\\u003e\\u003c\\u002fextra\\u003e\",\"legendgroup\":\"srht\",\"line\":{\"color\":\"#636efa\",\"dash\":\"solid\"},\"marker\":{\"symbol\":\"circle\"},\"mode\":\"lines\",\"name\":\"srht\",\"orientation\":\"v\",\"showlegend\":false,\"x\":[4,8,16,32,64],\"xaxis\":\"x86\",\"y\":[0.0006419817606608073,0.0008669694264729817,0.0013206005096435547,0.0018656253814697266,0.002801736195882161],\"yaxis\":\"y86\",\"type\":\"scatter\"},{\"hovertemplate\":\"method=srht\\u003cbr\\u003ed=16\\u003cbr\\u003en=4096\\u003cbr\\u003em=%{x}\\u003cbr\\u003etime=%{y}\\u003cextra\\u003e\\u003c\\u002fextra\\u003e\",\"legendgroup\":\"srht\",\"line\":{\"color\":\"#636efa\",\"dash\":\"solid\"},\"marker\":{\"symbol\":\"circle\"},\"mode\":\"lines\",\"name\":\"srht\",\"orientation\":\"v\",\"showlegend\":false,\"x\":[4,8,16,32,64],\"xaxis\":\"x87\",\"y\":[0.0011570453643798828,0.0011333624521891275,0.0016439755757649737,0.0024069150288899737,0.003767887751261393],\"yaxis\":\"y87\",\"type\":\"scatter\"},{\"hovertemplate\":\"method=srht\\u003cbr\\u003ed=16\\u003cbr\\u003en=8192\\u003cbr\\u003em=%{x}\\u003cbr\\u003etime=%{y}\\u003cextra\\u003e\\u003c\\u002fextra\\u003e\",\"legendgroup\":\"srht\",\"line\":{\"color\":\"#636efa\",\"dash\":\"solid\"},\"marker\":{\"symbol\":\"circle\"},\"mode\":\"lines\",\"name\":\"srht\",\"orientation\":\"v\",\"showlegend\":false,\"x\":[4,8,16,32,64],\"xaxis\":\"x88\",\"y\":[0.0028762022654215493,0.0015813509623209634,0.0021986166636149087,0.0031255880991617837,0.004833062489827474],\"yaxis\":\"y88\",\"type\":\"scatter\"},{\"hovertemplate\":\"method=srht\\u003cbr\\u003ed=16\\u003cbr\\u003en=16384\\u003cbr\\u003em=%{x}\\u003cbr\\u003etime=%{y}\\u003cextra\\u003e\\u003c\\u002fextra\\u003e\",\"legendgroup\":\"srht\",\"line\":{\"color\":\"#636efa\",\"dash\":\"solid\"},\"marker\":{\"symbol\":\"circle\"},\"mode\":\"lines\",\"name\":\"srht\",\"orientation\":\"v\",\"showlegend\":false,\"x\":[4,8,16,32,64],\"xaxis\":\"x89\",\"y\":[0.006665070851643879,0.0047686100006103516,0.0032297770182291665,0.00460362434387207,0.006290435791015625],\"yaxis\":\"y89\",\"type\":\"scatter\"},{\"hovertemplate\":\"method=srht\\u003cbr\\u003ed=16\\u003cbr\\u003en=32768\\u003cbr\\u003em=%{x}\\u003cbr\\u003etime=%{y}\\u003cextra\\u003e\\u003c\\u002fextra\\u003e\",\"legendgroup\":\"srht\",\"line\":{\"color\":\"#636efa\",\"dash\":\"solid\"},\"marker\":{\"symbol\":\"circle\"},\"mode\":\"lines\",\"name\":\"srht\",\"orientation\":\"v\",\"showlegend\":false,\"x\":[4,8,16,32,64],\"xaxis\":\"x90\",\"y\":[0.42650461196899414,0.007295926411946613,0.0068009694417317705,0.010796070098876953,0.012302557627360025],\"yaxis\":\"y90\",\"type\":\"scatter\"},{\"hovertemplate\":\"method=srht\\u003cbr\\u003ed=32\\u003cbr\\u003en=128\\u003cbr\\u003em=%{x}\\u003cbr\\u003etime=%{y}\\u003cextra\\u003e\\u003c\\u002fextra\\u003e\",\"legendgroup\":\"srht\",\"line\":{\"color\":\"#636efa\",\"dash\":\"solid\"},\"marker\":{\"symbol\":\"circle\"},\"mode\":\"lines\",\"name\":\"srht\",\"orientation\":\"v\",\"showlegend\":false,\"x\":[4,8,16,32,64],\"xaxis\":\"x73\",\"y\":[0.00035866101582845045,0.0004845460255940755,0.0006859302520751953,0.0008592605590820312,0.001185019810994466],\"yaxis\":\"y73\",\"type\":\"scatter\"},{\"hovertemplate\":\"method=srht\\u003cbr\\u003ed=32\\u003cbr\\u003en=256\\u003cbr\\u003em=%{x}\\u003cbr\\u003etime=%{y}\\u003cextra\\u003e\\u003c\\u002fextra\\u003e\",\"legendgroup\":\"srht\",\"line\":{\"color\":\"#636efa\",\"dash\":\"solid\"},\"marker\":{\"symbol\":\"circle\"},\"mode\":\"lines\",\"name\":\"srht\",\"orientation\":\"v\",\"showlegend\":false,\"x\":[4,8,16,32,64,128],\"xaxis\":\"x74\",\"y\":[0.00034562746683756507,0.000457763671875,0.0008753935496012369,0.0009818871815999348,0.0016136964162190752,0.0025351842244466143],\"yaxis\":\"y74\",\"type\":\"scatter\"},{\"hovertemplate\":\"method=srht\\u003cbr\\u003ed=32\\u003cbr\\u003en=512\\u003cbr\\u003em=%{x}\\u003cbr\\u003etime=%{y}\\u003cextra\\u003e\\u003c\\u002fextra\\u003e\",\"legendgroup\":\"srht\",\"line\":{\"color\":\"#636efa\",\"dash\":\"solid\"},\"marker\":{\"symbol\":\"circle\"},\"mode\":\"lines\",\"name\":\"srht\",\"orientation\":\"v\",\"showlegend\":false,\"x\":[4,8,16,32,64,128],\"xaxis\":\"x75\",\"y\":[0.0004986921946207682,0.0005987485249837239,0.0008420944213867188,0.001288334528605143,0.0019547144571940103,0.00295257568359375],\"yaxis\":\"y75\",\"type\":\"scatter\"},{\"hovertemplate\":\"method=srht\\u003cbr\\u003ed=32\\u003cbr\\u003en=1024\\u003cbr\\u003em=%{x}\\u003cbr\\u003etime=%{y}\\u003cextra\\u003e\\u003c\\u002fextra\\u003e\",\"legendgroup\":\"srht\",\"line\":{\"color\":\"#636efa\",\"dash\":\"solid\"},\"marker\":{\"symbol\":\"circle\"},\"mode\":\"lines\",\"name\":\"srht\",\"orientation\":\"v\",\"showlegend\":false,\"x\":[4,8,16,32,64,128],\"xaxis\":\"x76\",\"y\":[0.0005208651224772135,0.0007039705912272135,0.0010470549265543618,0.0015535354614257812,0.0024059613545735674,0.003683964411417643],\"yaxis\":\"y76\",\"type\":\"scatter\"},{\"hovertemplate\":\"method=srht\\u003cbr\\u003ed=32\\u003cbr\\u003en=2048\\u003cbr\\u003em=%{x}\\u003cbr\\u003etime=%{y}\\u003cextra\\u003e\\u003c\\u002fextra\\u003e\",\"legendgroup\":\"srht\",\"line\":{\"color\":\"#636efa\",\"dash\":\"solid\"},\"marker\":{\"symbol\":\"circle\"},\"mode\":\"lines\",\"name\":\"srht\",\"orientation\":\"v\",\"showlegend\":false,\"x\":[4,8,16,32,64,128],\"xaxis\":\"x77\",\"y\":[0.0006590684254964192,0.0009373029073079426,0.0013440450032552083,0.0020646254221598306,0.0030700365702311196,0.004888455073038736],\"yaxis\":\"y77\",\"type\":\"scatter\"},{\"hovertemplate\":\"method=srht\\u003cbr\\u003ed=32\\u003cbr\\u003en=4096\\u003cbr\\u003em=%{x}\\u003cbr\\u003etime=%{y}\\u003cextra\\u003e\\u003c\\u002fextra\\u003e\",\"legendgroup\":\"srht\",\"line\":{\"color\":\"#636efa\",\"dash\":\"solid\"},\"marker\":{\"symbol\":\"circle\"},\"mode\":\"lines\",\"name\":\"srht\",\"orientation\":\"v\",\"showlegend\":false,\"x\":[4,8,16,32,64,128],\"xaxis\":\"x78\",\"y\":[0.0012006759643554688,0.0014036496480305989,0.0025413036346435547,0.0026845932006835938,0.004116535186767578,0.006246725718180338],\"yaxis\":\"y78\",\"type\":\"scatter\"},{\"hovertemplate\":\"method=srht\\u003cbr\\u003ed=32\\u003cbr\\u003en=8192\\u003cbr\\u003em=%{x}\\u003cbr\\u003etime=%{y}\\u003cextra\\u003e\\u003c\\u002fextra\\u003e\",\"legendgroup\":\"srht\",\"line\":{\"color\":\"#636efa\",\"dash\":\"solid\"},\"marker\":{\"symbol\":\"circle\"},\"mode\":\"lines\",\"name\":\"srht\",\"orientation\":\"v\",\"showlegend\":false,\"x\":[4,8,16,32,64,128],\"xaxis\":\"x79\",\"y\":[0.0025522708892822266,0.002172311147054036,0.0027683575948079424,0.003847757975260416,0.005872885386149088,0.008295059204101562],\"yaxis\":\"y79\",\"type\":\"scatter\"},{\"hovertemplate\":\"method=srht\\u003cbr\\u003ed=32\\u003cbr\\u003en=16384\\u003cbr\\u003em=%{x}\\u003cbr\\u003etime=%{y}\\u003cextra\\u003e\\u003c\\u002fextra\\u003e\",\"legendgroup\":\"srht\",\"line\":{\"color\":\"#636efa\",\"dash\":\"solid\"},\"marker\":{\"symbol\":\"circle\"},\"mode\":\"lines\",\"name\":\"srht\",\"orientation\":\"v\",\"showlegend\":false,\"x\":[4,8,16,32,64,128],\"xaxis\":\"x80\",\"y\":[0.0053619543711344395,0.0039441585540771484,0.005006949106852213,0.006212552388509114,0.008655389149983723,0.012096325556437174],\"yaxis\":\"y80\",\"type\":\"scatter\"},{\"hovertemplate\":\"method=srht\\u003cbr\\u003ed=32\\u003cbr\\u003en=32768\\u003cbr\\u003em=%{x}\\u003cbr\\u003etime=%{y}\\u003cextra\\u003e\\u003c\\u002fextra\\u003e\",\"legendgroup\":\"srht\",\"line\":{\"color\":\"#636efa\",\"dash\":\"solid\"},\"marker\":{\"symbol\":\"circle\"},\"mode\":\"lines\",\"name\":\"srht\",\"orientation\":\"v\",\"showlegend\":false,\"x\":[4,8,16,32,64,128],\"xaxis\":\"x81\",\"y\":[0.014717578887939451,0.01332267125447591,0.015549977620442707,0.018030405044555664,0.026617447535196938,0.02420663833618164],\"yaxis\":\"y81\",\"type\":\"scatter\"},{\"hovertemplate\":\"method=srht\\u003cbr\\u003ed=64\\u003cbr\\u003en=128\\u003cbr\\u003em=%{x}\\u003cbr\\u003etime=%{y}\\u003cextra\\u003e\\u003c\\u002fextra\\u003e\",\"legendgroup\":\"srht\",\"line\":{\"color\":\"#636efa\",\"dash\":\"solid\"},\"marker\":{\"symbol\":\"circle\"},\"mode\":\"lines\",\"name\":\"srht\",\"orientation\":\"v\",\"showlegend\":false,\"x\":[4,8,16,32,64],\"xaxis\":\"x64\",\"y\":[0.0003766218821207682,0.00044329961140950514,0.0008760293324788411,0.0008401075998942056,0.0012062390645345051],\"yaxis\":\"y64\",\"type\":\"scatter\"},{\"hovertemplate\":\"method=srht\\u003cbr\\u003ed=64\\u003cbr\\u003en=256\\u003cbr\\u003em=%{x}\\u003cbr\\u003etime=%{y}\\u003cextra\\u003e\\u003c\\u002fextra\\u003e\",\"legendgroup\":\"srht\",\"line\":{\"color\":\"#636efa\",\"dash\":\"solid\"},\"marker\":{\"symbol\":\"circle\"},\"mode\":\"lines\",\"name\":\"srht\",\"orientation\":\"v\",\"showlegend\":false,\"x\":[4,8,16,32,64,128],\"xaxis\":\"x65\",\"y\":[0.0004223982493082682,0.0005861918131510416,0.0007402896881103516,0.00103759765625,0.0016016960144042969,0.0022789637247721353],\"yaxis\":\"y65\",\"type\":\"scatter\"},{\"hovertemplate\":\"method=srht\\u003cbr\\u003ed=64\\u003cbr\\u003en=512\\u003cbr\\u003em=%{x}\\u003cbr\\u003etime=%{y}\\u003cextra\\u003e\\u003c\\u002fextra\\u003e\",\"legendgroup\":\"srht\",\"line\":{\"color\":\"#636efa\",\"dash\":\"solid\"},\"marker\":{\"symbol\":\"circle\"},\"mode\":\"lines\",\"name\":\"srht\",\"orientation\":\"v\",\"showlegend\":false,\"x\":[4,8,16,32,64,128,256],\"xaxis\":\"x66\",\"y\":[0.000471353530883789,0.0005981922149658203,0.0011262098948160806,0.0015616416931152342,0.001956939697265625,0.0029842853546142574,0.004418373107910156],\"yaxis\":\"y66\",\"type\":\"scatter\"},{\"hovertemplate\":\"method=srht\\u003cbr\\u003ed=64\\u003cbr\\u003en=1024\\u003cbr\\u003em=%{x}\\u003cbr\\u003etime=%{y}\\u003cextra\\u003e\\u003c\\u002fextra\\u003e\",\"legendgroup\":\"srht\",\"line\":{\"color\":\"#636efa\",\"dash\":\"solid\"},\"marker\":{\"symbol\":\"circle\"},\"mode\":\"lines\",\"name\":\"srht\",\"orientation\":\"v\",\"showlegend\":false,\"x\":[4,8,16,32,64,128,256],\"xaxis\":\"x67\",\"y\":[0.0010489622751871743,0.000886996587117513,0.001211245854695638,0.0017775694529215493,0.0026336510976155596,0.003977298736572266,0.006063063939412434],\"yaxis\":\"y67\",\"type\":\"scatter\"},{\"hovertemplate\":\"method=srht\\u003cbr\\u003ed=64\\u003cbr\\u003en=2048\\u003cbr\\u003em=%{x}\\u003cbr\\u003etime=%{y}\\u003cextra\\u003e\\u003c\\u002fextra\\u003e\",\"legendgroup\":\"srht\",\"line\":{\"color\":\"#636efa\",\"dash\":\"solid\"},\"marker\":{\"symbol\":\"circle\"},\"mode\":\"lines\",\"name\":\"srht\",\"orientation\":\"v\",\"showlegend\":false,\"x\":[4,8,16,32,64,128,256],\"xaxis\":\"x68\",\"y\":[0.0009071826934814452,0.0012020270029703775,0.0016884803771972654,0.002420663833618164,0.003560225168863932,0.005295594533284505,0.008042017618815104],\"yaxis\":\"y68\",\"type\":\"scatter\"},{\"hovertemplate\":\"method=srht\\u003cbr\\u003ed=64\\u003cbr\\u003en=4096\\u003cbr\\u003em=%{x}\\u003cbr\\u003etime=%{y}\\u003cextra\\u003e\\u003c\\u002fextra\\u003e\",\"legendgroup\":\"srht\",\"line\":{\"color\":\"#636efa\",\"dash\":\"solid\"},\"marker\":{\"symbol\":\"circle\"},\"mode\":\"lines\",\"name\":\"srht\",\"orientation\":\"v\",\"showlegend\":false,\"x\":[4,8,16,32,64,128,256],\"xaxis\":\"x69\",\"y\":[0.0018500487009684243,0.0019294420878092446,0.002730846405029297,0.0038178761800130205,0.0048876603444417315,0.007230917612711588,0.010924418767293293],\"yaxis\":\"y69\",\"type\":\"scatter\"},{\"hovertemplate\":\"method=srht\\u003cbr\\u003ed=64\\u003cbr\\u003en=8192\\u003cbr\\u003em=%{x}\\u003cbr\\u003etime=%{y}\\u003cextra\\u003e\\u003c\\u002fextra\\u003e\",\"legendgroup\":\"srht\",\"line\":{\"color\":\"#636efa\",\"dash\":\"solid\"},\"marker\":{\"symbol\":\"circle\"},\"mode\":\"lines\",\"name\":\"srht\",\"orientation\":\"v\",\"showlegend\":false,\"x\":[4,8,16,32,64,128,256],\"xaxis\":\"x70\",\"y\":[0.004618485768636067,0.0038976669311523433,0.004451274871826172,0.006093660990397135,0.008317550023396809,0.011203686396280924,0.015201965967814127],\"yaxis\":\"y70\",\"type\":\"scatter\"},{\"hovertemplate\":\"method=srht\\u003cbr\\u003ed=64\\u003cbr\\u003en=16384\\u003cbr\\u003em=%{x}\\u003cbr\\u003etime=%{y}\\u003cextra\\u003e\\u003c\\u002fextra\\u003e\",\"legendgroup\":\"srht\",\"line\":{\"color\":\"#636efa\",\"dash\":\"solid\"},\"marker\":{\"symbol\":\"circle\"},\"mode\":\"lines\",\"name\":\"srht\",\"orientation\":\"v\",\"showlegend\":false,\"x\":[4,8,16,32,64,128,256],\"xaxis\":\"x71\",\"y\":[0.009757916132609049,0.008972883224487305,0.010178327560424805,0.01278225580851237,0.01576415697733561,0.01966404914855957,0.027515967686971027],\"yaxis\":\"y71\",\"type\":\"scatter\"},{\"hovertemplate\":\"method=srht\\u003cbr\\u003ed=64\\u003cbr\\u003en=32768\\u003cbr\\u003em=%{x}\\u003cbr\\u003etime=%{y}\\u003cextra\\u003e\\u003c\\u002fextra\\u003e\",\"legendgroup\":\"srht\",\"line\":{\"color\":\"#636efa\",\"dash\":\"solid\"},\"marker\":{\"symbol\":\"circle\"},\"mode\":\"lines\",\"name\":\"srht\",\"orientation\":\"v\",\"showlegend\":false,\"x\":[4,8,16,32,64,128,256],\"xaxis\":\"x72\",\"y\":[0.019245783487955727,0.020263274510701496,0.024509429931640625,0.034286340077718094,0.03318476676940918,0.0398410161336263,0.0628673235575358],\"yaxis\":\"y72\",\"type\":\"scatter\"},{\"hovertemplate\":\"method=srht\\u003cbr\\u003ed=128\\u003cbr\\u003en=256\\u003cbr\\u003em=%{x}\\u003cbr\\u003etime=%{y}\\u003cextra\\u003e\\u003c\\u002fextra\\u003e\",\"legendgroup\":\"srht\",\"line\":{\"color\":\"#636efa\",\"dash\":\"solid\"},\"marker\":{\"symbol\":\"circle\"},\"mode\":\"lines\",\"name\":\"srht\",\"orientation\":\"v\",\"showlegend\":false,\"x\":[4,8,16,32,64,128],\"xaxis\":\"x56\",\"y\":[0.000444650650024414,0.0006140073140462239,0.0009626547495524087,0.0014411608378092446,0.0017199516296386719,0.0024601618448893228],\"yaxis\":\"y56\",\"type\":\"scatter\"},{\"hovertemplate\":\"method=srht\\u003cbr\\u003ed=128\\u003cbr\\u003en=512\\u003cbr\\u003em=%{x}\\u003cbr\\u003etime=%{y}\\u003cextra\\u003e\\u003c\\u002fextra\\u003e\",\"legendgroup\":\"srht\",\"line\":{\"color\":\"#636efa\",\"dash\":\"solid\"},\"marker\":{\"symbol\":\"circle\"},\"mode\":\"lines\",\"name\":\"srht\",\"orientation\":\"v\",\"showlegend\":false,\"x\":[4,8,16,32,64,128,256],\"xaxis\":\"x57\",\"y\":[0.0005895296732584635,0.0007990201314290364,0.0010097026824951172,0.001486698786417643,0.002245664596557617,0.0032866795857747393,0.005454699198404947],\"yaxis\":\"y57\",\"type\":\"scatter\"},{\"hovertemplate\":\"method=srht\\u003cbr\\u003ed=128\\u003cbr\\u003en=1024\\u003cbr\\u003em=%{x}\\u003cbr\\u003etime=%{y}\\u003cextra\\u003e\\u003c\\u002fextra\\u003e\",\"legendgroup\":\"srht\",\"line\":{\"color\":\"#636efa\",\"dash\":\"solid\"},\"marker\":{\"symbol\":\"circle\"},\"mode\":\"lines\",\"name\":\"srht\",\"orientation\":\"v\",\"showlegend\":false,\"x\":[4,8,16,32,64,128,256,512],\"xaxis\":\"x58\",\"y\":[0.0007685820261637368,0.0010162989298502603,0.0014065106709798176,0.0023008187611897784,0.0036049683888753252,0.004546085993448893,0.006473064422607422,0.009598016738891602],\"yaxis\":\"y58\",\"type\":\"scatter\"},{\"hovertemplate\":\"method=srht\\u003cbr\\u003ed=128\\u003cbr\\u003en=2048\\u003cbr\\u003em=%{x}\\u003cbr\\u003etime=%{y}\\u003cextra\\u003e\\u003c\\u002fextra\\u003e\",\"legendgroup\":\"srht\",\"line\":{\"color\":\"#636efa\",\"dash\":\"solid\"},\"marker\":{\"symbol\":\"circle\"},\"mode\":\"lines\",\"name\":\"srht\",\"orientation\":\"v\",\"showlegend\":false,\"x\":[4,8,16,32,64,128,256,512],\"xaxis\":\"x59\",\"y\":[0.0014691352844238281,0.0018169085184733071,0.0023482640584309893,0.002984921137491862,0.00428009033203125,0.006471633911132812,0.009278297424316406,0.013303756713867186],\"yaxis\":\"y59\",\"type\":\"scatter\"},{\"hovertemplate\":\"method=srht\\u003cbr\\u003ed=128\\u003cbr\\u003en=4096\\u003cbr\\u003em=%{x}\\u003cbr\\u003etime=%{y}\\u003cextra\\u003e\\u003c\\u002fextra\\u003e\",\"legendgroup\":\"srht\",\"line\":{\"color\":\"#636efa\",\"dash\":\"solid\"},\"marker\":{\"symbol\":\"circle\"},\"mode\":\"lines\",\"name\":\"srht\",\"orientation\":\"v\",\"showlegend\":false,\"x\":[4,8,16,32,64,128,256,512],\"xaxis\":\"x60\",\"y\":[0.0034429232279459634,0.0036933422088623047,0.004486719767252604,0.00650334358215332,0.0066750049591064444,0.009121338526407877,0.013079245885213215,0.020819902420043945],\"yaxis\":\"y60\",\"type\":\"scatter\"},{\"hovertemplate\":\"method=srht\\u003cbr\\u003ed=128\\u003cbr\\u003en=8192\\u003cbr\\u003em=%{x}\\u003cbr\\u003etime=%{y}\\u003cextra\\u003e\\u003c\\u002fextra\\u003e\",\"legendgroup\":\"srht\",\"line\":{\"color\":\"#636efa\",\"dash\":\"solid\"},\"marker\":{\"symbol\":\"circle\"},\"mode\":\"lines\",\"name\":\"srht\",\"orientation\":\"v\",\"showlegend\":false,\"x\":[4,8,16,32,64,128,256,512],\"xaxis\":\"x61\",\"y\":[0.007927815119425455,0.008931398391723633,0.010518789291381836,0.012359937032063801,0.014703035354614258,0.018661340077718098,0.02468458811442057,0.03397862116495768],\"yaxis\":\"y61\",\"type\":\"scatter\"},{\"hovertemplate\":\"method=srht\\u003cbr\\u003ed=128\\u003cbr\\u003en=16384\\u003cbr\\u003em=%{x}\\u003cbr\\u003etime=%{y}\\u003cextra\\u003e\\u003c\\u002fextra\\u003e\",\"legendgroup\":\"srht\",\"line\":{\"color\":\"#636efa\",\"dash\":\"solid\"},\"marker\":{\"symbol\":\"circle\"},\"mode\":\"lines\",\"name\":\"srht\",\"orientation\":\"v\",\"showlegend\":false,\"x\":[4,8,16,32,64,128,256,512],\"xaxis\":\"x62\",\"y\":[0.01812148094177246,0.020685990651448567,0.022292296091715492,0.0273902416229248,0.034026384353637695,0.03623318672180176,0.045776844024658196,0.05504401524861653],\"yaxis\":\"y62\",\"type\":\"scatter\"},{\"hovertemplate\":\"method=srht\\u003cbr\\u003ed=128\\u003cbr\\u003en=32768\\u003cbr\\u003em=%{x}\\u003cbr\\u003etime=%{y}\\u003cextra\\u003e\\u003c\\u002fextra\\u003e\",\"legendgroup\":\"srht\",\"line\":{\"color\":\"#636efa\",\"dash\":\"solid\"},\"marker\":{\"symbol\":\"circle\"},\"mode\":\"lines\",\"name\":\"srht\",\"orientation\":\"v\",\"showlegend\":false,\"x\":[4,8,16,32,64,128,256,512],\"xaxis\":\"x63\",\"y\":[0.04297963778177897,0.043907245000203446,0.05617785453796387,0.05970962842305501,0.06801239649454752,0.07925796508789062,0.10182825724283853,0.1065536340077718],\"yaxis\":\"y63\",\"type\":\"scatter\"},{\"hovertemplate\":\"method=srht\\u003cbr\\u003ed=256\\u003cbr\\u003en=512\\u003cbr\\u003em=%{x}\\u003cbr\\u003etime=%{y}\\u003cextra\\u003e\\u003c\\u002fextra\\u003e\",\"legendgroup\":\"srht\",\"line\":{\"color\":\"#636efa\",\"dash\":\"solid\"},\"marker\":{\"symbol\":\"circle\"},\"mode\":\"lines\",\"name\":\"srht\",\"orientation\":\"v\",\"showlegend\":false,\"x\":[4,8,16,32,64,128,256],\"xaxis\":\"x48\",\"y\":[0.0007500648498535156,0.0009545485178629556,0.0013724168141682942,0.0018196900685628254,0.0024973551432291665,0.003695964813232422,0.0054187774658203125],\"yaxis\":\"y48\",\"type\":\"scatter\"},{\"hovertemplate\":\"method=srht\\u003cbr\\u003ed=256\\u003cbr\\u003en=1024\\u003cbr\\u003em=%{x}\\u003cbr\\u003etime=%{y}\\u003cextra\\u003e\\u003c\\u002fextra\\u003e\",\"legendgroup\":\"srht\",\"line\":{\"color\":\"#636efa\",\"dash\":\"solid\"},\"marker\":{\"symbol\":\"circle\"},\"mode\":\"lines\",\"name\":\"srht\",\"orientation\":\"v\",\"showlegend\":false,\"x\":[4,8,16,32,64,128,256,512],\"xaxis\":\"x49\",\"y\":[0.0015393892923990884,0.0016282399495442708,0.002202908198038737,0.0028374195098876953,0.003896395365397135,0.007062991460164388,0.007784922917683919,0.010930538177490234],\"yaxis\":\"y49\",\"type\":\"scatter\"},{\"hovertemplate\":\"method=srht\\u003cbr\\u003ed=256\\u003cbr\\u003en=2048\\u003cbr\\u003em=%{x}\\u003cbr\\u003etime=%{y}\\u003cextra\\u003e\\u003c\\u002fextra\\u003e\",\"legendgroup\":\"srht\",\"line\":{\"color\":\"#636efa\",\"dash\":\"solid\"},\"marker\":{\"symbol\":\"circle\"},\"mode\":\"lines\",\"name\":\"srht\",\"orientation\":\"v\",\"showlegend\":false,\"x\":[4,8,16,32,64,128,256,512,1024],\"xaxis\":\"x50\",\"y\":[0.002672910690307617,0.003493388493855794,0.0043833255767822266,0.005649089813232422,0.00652472178141276,0.009130080540974934,0.011915365854899088,0.01784992218017578,0.02358134587605794],\"yaxis\":\"y50\",\"type\":\"scatter\"},{\"hovertemplate\":\"method=srht\\u003cbr\\u003ed=256\\u003cbr\\u003en=4096\\u003cbr\\u003em=%{x}\\u003cbr\\u003etime=%{y}\\u003cextra\\u003e\\u003c\\u002fextra\\u003e\",\"legendgroup\":\"srht\",\"line\":{\"color\":\"#636efa\",\"dash\":\"solid\"},\"marker\":{\"symbol\":\"circle\"},\"mode\":\"lines\",\"name\":\"srht\",\"orientation\":\"v\",\"showlegend\":false,\"x\":[4,8,16,32,64,128,256,512,1024],\"xaxis\":\"x51\",\"y\":[0.0067674318949381505,0.011526981989542643,0.009976704915364582,0.011941353480021158,0.01397267977396647,0.017357826232910156,0.022288401921590168,0.029536326726277668,0.039185682932535805],\"yaxis\":\"y51\",\"type\":\"scatter\"},{\"hovertemplate\":\"method=srht\\u003cbr\\u003ed=256\\u003cbr\\u003en=8192\\u003cbr\\u003em=%{x}\\u003cbr\\u003etime=%{y}\\u003cextra\\u003e\\u003c\\u002fextra\\u003e\",\"legendgroup\":\"srht\",\"line\":{\"color\":\"#636efa\",\"dash\":\"solid\"},\"marker\":{\"symbol\":\"circle\"},\"mode\":\"lines\",\"name\":\"srht\",\"orientation\":\"v\",\"showlegend\":false,\"x\":[4,8,16,32,64,128,256,512,1024],\"xaxis\":\"x52\",\"y\":[0.01824204126993815,0.020653247833251953,0.02306858698527018,0.026735305786132812,0.034875472386678055,0.035419623057047524,0.04351560274759928,0.05265037218729655,0.06705935796101888],\"yaxis\":\"y52\",\"type\":\"scatter\"},{\"hovertemplate\":\"method=srht\\u003cbr\\u003ed=256\\u003cbr\\u003en=16384\\u003cbr\\u003em=%{x}\\u003cbr\\u003etime=%{y}\\u003cextra\\u003e\\u003c\\u002fextra\\u003e\",\"legendgroup\":\"srht\",\"line\":{\"color\":\"#636efa\",\"dash\":\"solid\"},\"marker\":{\"symbol\":\"circle\"},\"mode\":\"lines\",\"name\":\"srht\",\"orientation\":\"v\",\"showlegend\":false,\"x\":[4,8,16,32,64,128,256,512,1024],\"xaxis\":\"x53\",\"y\":[0.03926428159077962,0.04232374827067057,0.05135464668273926,0.05662894248962402,0.06447458267211914,0.0714577039082845,0.08740472793579102,0.0993062655131022,0.1179824670155843],\"yaxis\":\"y53\",\"type\":\"scatter\"},{\"hovertemplate\":\"method=srht\\u003cbr\\u003ed=256\\u003cbr\\u003en=32768\\u003cbr\\u003em=%{x}\\u003cbr\\u003etime=%{y}\\u003cextra\\u003e\\u003c\\u002fextra\\u003e\",\"legendgroup\":\"srht\",\"line\":{\"color\":\"#636efa\",\"dash\":\"solid\"},\"marker\":{\"symbol\":\"circle\"},\"mode\":\"lines\",\"name\":\"srht\",\"orientation\":\"v\",\"showlegend\":false,\"x\":[4,8,16,32,64,128,256,512,1024],\"xaxis\":\"x54\",\"y\":[0.0862290064493815,0.10155812899271646,0.130126953125,0.14067824681599933,0.14350787798563638,0.15738606452941895,0.17113931973775226,0.19208439191182453,0.22373247146606445],\"yaxis\":\"y54\",\"type\":\"scatter\"},{\"hovertemplate\":\"method=srht\\u003cbr\\u003ed=512\\u003cbr\\u003en=1024\\u003cbr\\u003em=%{x}\\u003cbr\\u003etime=%{y}\\u003cextra\\u003e\\u003c\\u002fextra\\u003e\",\"legendgroup\":\"srht\",\"line\":{\"color\":\"#636efa\",\"dash\":\"solid\"},\"marker\":{\"symbol\":\"circle\"},\"mode\":\"lines\",\"name\":\"srht\",\"orientation\":\"v\",\"showlegend\":false,\"x\":[4,8,16,32,64,128,256,512],\"xaxis\":\"x40\",\"y\":[0.002769629160563151,0.0033686161041259766,0.003916025161743164,0.004658937454223633,0.007326761881510416,0.008808692296346027,0.010501941045125324,0.016112963358561196],\"yaxis\":\"y40\",\"type\":\"scatter\"},{\"hovertemplate\":\"method=srht\\u003cbr\\u003ed=512\\u003cbr\\u003en=2048\\u003cbr\\u003em=%{x}\\u003cbr\\u003etime=%{y}\\u003cextra\\u003e\\u003c\\u002fextra\\u003e\",\"legendgroup\":\"srht\",\"line\":{\"color\":\"#636efa\",\"dash\":\"solid\"},\"marker\":{\"symbol\":\"circle\"},\"mode\":\"lines\",\"name\":\"srht\",\"orientation\":\"v\",\"showlegend\":false,\"x\":[4,8,16,32,64,128,256,512,1024],\"xaxis\":\"x41\",\"y\":[0.00789944330851237,0.008376598358154297,0.010006427764892578,0.01126869519551595,0.013319969177246092,0.016887664794921875,0.021148045857747395,0.02714268366495768,0.0339971383412679],\"yaxis\":\"y41\",\"type\":\"scatter\"},{\"hovertemplate\":\"method=srht\\u003cbr\\u003ed=512\\u003cbr\\u003en=4096\\u003cbr\\u003em=%{x}\\u003cbr\\u003etime=%{y}\\u003cextra\\u003e\\u003c\\u002fextra\\u003e\",\"legendgroup\":\"srht\",\"line\":{\"color\":\"#636efa\",\"dash\":\"solid\"},\"marker\":{\"symbol\":\"circle\"},\"mode\":\"lines\",\"name\":\"srht\",\"orientation\":\"v\",\"showlegend\":false,\"x\":[4,8,16,32,64,128,256,512,1024,2048],\"xaxis\":\"x42\",\"y\":[0.017797311147054035,0.020357847213745117,0.022322972615559895,0.026139338811238606,0.030300378799438473,0.03621093432108561,0.042097012201944985,0.1012746493021647,0.059237559636433915,0.07615208625793457],\"yaxis\":\"y42\",\"type\":\"scatter\"},{\"hovertemplate\":\"method=srht\\u003cbr\\u003ed=512\\u003cbr\\u003en=8192\\u003cbr\\u003em=%{x}\\u003cbr\\u003etime=%{y}\\u003cextra\\u003e\\u003c\\u002fextra\\u003e\",\"legendgroup\":\"srht\",\"line\":{\"color\":\"#636efa\",\"dash\":\"solid\"},\"marker\":{\"symbol\":\"circle\"},\"mode\":\"lines\",\"name\":\"srht\",\"orientation\":\"v\",\"showlegend\":false,\"x\":[4,8,16,32,64,128,256,512,1024,2048],\"xaxis\":\"x43\",\"y\":[0.04051144917805989,0.042608022689819336,0.052965402603149414,0.05682730674743652,0.06324227650960286,0.07515501976013184,0.08079520861307779,0.09458319346110025,0.11569801966349283,0.13860734303792316],\"yaxis\":\"y43\",\"type\":\"scatter\"},{\"hovertemplate\":\"method=srht\\u003cbr\\u003ed=512\\u003cbr\\u003en=16384\\u003cbr\\u003em=%{x}\\u003cbr\\u003etime=%{y}\\u003cextra\\u003e\\u003c\\u002fextra\\u003e\",\"legendgroup\":\"srht\",\"line\":{\"color\":\"#636efa\",\"dash\":\"solid\"},\"marker\":{\"symbol\":\"circle\"},\"mode\":\"lines\",\"name\":\"srht\",\"orientation\":\"v\",\"showlegend\":false,\"x\":[4,8,16,32,64,128,256,512,1024,2048],\"xaxis\":\"x44\",\"y\":[0.08103481928507486,0.09155265490214029,0.1095897356669108,0.12411204973856607,0.13739935557047525,0.15041661262512207,0.16453337669372559,0.18755499521891275,0.21310941378275552,0.2503070831298828],\"yaxis\":\"y44\",\"type\":\"scatter\"},{\"hovertemplate\":\"method=srht\\u003cbr\\u003ed=512\\u003cbr\\u003en=32768\\u003cbr\\u003em=%{x}\\u003cbr\\u003etime=%{y}\\u003cextra\\u003e\\u003c\\u002fextra\\u003e\",\"legendgroup\":\"srht\",\"line\":{\"color\":\"#636efa\",\"dash\":\"solid\"},\"marker\":{\"symbol\":\"circle\"},\"mode\":\"lines\",\"name\":\"srht\",\"orientation\":\"v\",\"showlegend\":false,\"x\":[4,8,16,32,64,128,256,512,1024,2048],\"xaxis\":\"x45\",\"y\":[0.1763199170430501,0.21797919273376465,0.2422800858815511,0.29938292503356934,0.3088998794555664,0.3478917280832926,0.37108834584554035,0.4065276781717936,0.4292232195536295,0.47754931449890137],\"yaxis\":\"y45\",\"type\":\"scatter\"},{\"hovertemplate\":\"method=srht\\u003cbr\\u003ed=1024\\u003cbr\\u003en=2048\\u003cbr\\u003em=%{x}\\u003cbr\\u003etime=%{y}\\u003cextra\\u003e\\u003c\\u002fextra\\u003e\",\"legendgroup\":\"srht\",\"line\":{\"color\":\"#636efa\",\"dash\":\"solid\"},\"marker\":{\"symbol\":\"circle\"},\"mode\":\"lines\",\"name\":\"srht\",\"orientation\":\"v\",\"showlegend\":false,\"x\":[4,8,16,32,64,128,256,512,1024],\"xaxis\":\"x32\",\"y\":[0.019897381464640297,0.019212722778320312,0.024172306060791016,0.025607585906982422,0.03250304857889811,0.03604777654012044,0.04010232289632161,0.04769714673360188,0.05878869692484537],\"yaxis\":\"y32\",\"type\":\"scatter\"},{\"hovertemplate\":\"method=srht\\u003cbr\\u003ed=1024\\u003cbr\\u003en=4096\\u003cbr\\u003em=%{x}\\u003cbr\\u003etime=%{y}\\u003cextra\\u003e\\u003c\\u002fextra\\u003e\",\"legendgroup\":\"srht\",\"line\":{\"color\":\"#636efa\",\"dash\":\"solid\"},\"marker\":{\"symbol\":\"circle\"},\"mode\":\"lines\",\"name\":\"srht\",\"orientation\":\"v\",\"showlegend\":false,\"x\":[4,8,16,32,64,128,256,512,1024,2048],\"xaxis\":\"x33\",\"y\":[0.044666290283203125,0.043601036071777344,0.0486300786336263,0.05848240852355957,0.06436379750569661,0.07169127464294434,0.07783826192220052,0.09223826726277669,0.10950899124145508,0.12833762168884277],\"yaxis\":\"y33\",\"type\":\"scatter\"},{\"hovertemplate\":\"method=srht\\u003cbr\\u003ed=1024\\u003cbr\\u003en=8192\\u003cbr\\u003em=%{x}\\u003cbr\\u003etime=%{y}\\u003cextra\\u003e\\u003c\\u002fextra\\u003e\",\"legendgroup\":\"srht\",\"line\":{\"color\":\"#636efa\",\"dash\":\"solid\"},\"marker\":{\"symbol\":\"circle\"},\"mode\":\"lines\",\"name\":\"srht\",\"orientation\":\"v\",\"showlegend\":false,\"x\":[4,8,16,32,64,128,256,512,1024,2048,4096],\"xaxis\":\"x34\",\"y\":[0.08275238672892252,0.09935935338338216,0.11007428169250487,0.12235943476359049,0.14010405540466309,0.15769418080647785,0.16560626029968262,0.183061679204305,0.2059788703918457,0.2377669016520182,0.27846789360046387],\"yaxis\":\"y34\",\"type\":\"scatter\"},{\"hovertemplate\":\"method=srht\\u003cbr\\u003ed=1024\\u003cbr\\u003en=16384\\u003cbr\\u003em=%{x}\\u003cbr\\u003etime=%{y}\\u003cextra\\u003e\\u003c\\u002fextra\\u003e\",\"legendgroup\":\"srht\",\"line\":{\"color\":\"#636efa\",\"dash\":\"solid\"},\"marker\":{\"symbol\":\"circle\"},\"mode\":\"lines\",\"name\":\"srht\",\"orientation\":\"v\",\"showlegend\":false,\"x\":[4,8,16,32,64,128,256,512,1024,2048,4096],\"xaxis\":\"x35\",\"y\":[0.16225417455037433,0.2085130214691162,0.23044991493225098,0.2643297513326009,0.29718732833862305,0.32029541333516437,0.34934941927591956,0.38654859860738117,0.4147862593332926,0.46469839413960773,0.5368733406066895],\"yaxis\":\"y35\",\"type\":\"scatter\"},{\"hovertemplate\":\"method=srht\\u003cbr\\u003ed=1024\\u003cbr\\u003en=32768\\u003cbr\\u003em=%{x}\\u003cbr\\u003etime=%{y}\\u003cextra\\u003e\\u003c\\u002fextra\\u003e\",\"legendgroup\":\"srht\",\"line\":{\"color\":\"#636efa\",\"dash\":\"solid\"},\"marker\":{\"symbol\":\"circle\"},\"mode\":\"lines\",\"name\":\"srht\",\"orientation\":\"v\",\"showlegend\":false,\"x\":[4,8,16,32,64,128,256,512,1024,2048,4096],\"xaxis\":\"x36\",\"y\":[0.40123979250590003,0.4965582688649495,0.5853173732757568,0.6428465843200684,0.7047413190205891,0.7915639877319335,0.8580700556437174,0.9280989964803059,0.9777785142262776,1.0370542208353677,1.1551331679026284],\"yaxis\":\"y36\",\"type\":\"scatter\"},{\"hovertemplate\":\"method=srht\\u003cbr\\u003ed=2048\\u003cbr\\u003en=4096\\u003cbr\\u003em=%{x}\\u003cbr\\u003etime=%{y}\\u003cextra\\u003e\\u003c\\u002fextra\\u003e\",\"legendgroup\":\"srht\",\"line\":{\"color\":\"#636efa\",\"dash\":\"solid\"},\"marker\":{\"symbol\":\"circle\"},\"mode\":\"lines\",\"name\":\"srht\",\"orientation\":\"v\",\"showlegend\":false,\"x\":[4,8,16,32,64,128,256,512,1024,2048],\"xaxis\":\"x24\",\"y\":[0.08967137336730957,0.09268776575724283,0.11392935117085774,0.1269696553548177,0.13723429044087726,0.15003275871276855,0.1633938948313395,0.18059508005777994,0.2024699846903483,0.22937337557474768],\"yaxis\":\"y24\",\"type\":\"scatter\"},{\"hovertemplate\":\"method=srht\\u003cbr\\u003ed=2048\\u003cbr\\u003en=8192\\u003cbr\\u003em=%{x}\\u003cbr\\u003etime=%{y}\\u003cextra\\u003e\\u003c\\u002fextra\\u003e\",\"legendgroup\":\"srht\",\"line\":{\"color\":\"#636efa\",\"dash\":\"solid\"},\"marker\":{\"symbol\":\"circle\"},\"mode\":\"lines\",\"name\":\"srht\",\"orientation\":\"v\",\"showlegend\":false,\"x\":[4,8,16,32,64,128,256,512,1024,2048,4096],\"xaxis\":\"x25\",\"y\":[0.16809725761413574,0.21273541450500486,0.24022563298543292,0.26807936032613117,0.30958620707194007,0.3246193726857503,0.3502713044484456,0.37528697649637854,0.4121172428131103,0.4691036542256673,0.5084069569905598],\"yaxis\":\"y25\",\"type\":\"scatter\"},{\"hovertemplate\":\"method=srht\\u003cbr\\u003ed=2048\\u003cbr\\u003en=16384\\u003cbr\\u003em=%{x}\\u003cbr\\u003etime=%{y}\\u003cextra\\u003e\\u003c\\u002fextra\\u003e\",\"legendgroup\":\"srht\",\"line\":{\"color\":\"#636efa\",\"dash\":\"solid\"},\"marker\":{\"symbol\":\"circle\"},\"mode\":\"lines\",\"name\":\"srht\",\"orientation\":\"v\",\"showlegend\":false,\"x\":[4,8,16,32,64,128,256,512,1024,2048,4096,8192],\"xaxis\":\"x26\",\"y\":[0.4248248736063639,0.5809427102406819,0.5903266270955403,0.6504368782043457,0.7106680870056152,0.7554153601328532,0.8472973505655923,0.8705823421478271,0.9222073554992676,1.0062362353006997,1.1443649927775064,1.242332855860392],\"yaxis\":\"y26\",\"type\":\"scatter\"},{\"hovertemplate\":\"method=srht\\u003cbr\\u003ed=2048\\u003cbr\\u003en=32768\\u003cbr\\u003em=%{x}\\u003cbr\\u003etime=%{y}\\u003cextra\\u003e\\u003c\\u002fextra\\u003e\",\"legendgroup\":\"srht\",\"line\":{\"color\":\"#636efa\",\"dash\":\"solid\"},\"marker\":{\"symbol\":\"circle\"},\"mode\":\"lines\",\"name\":\"srht\",\"orientation\":\"v\",\"showlegend\":false,\"x\":[4,8,16,32,64,128,256,512,1024,2048,4096,8192],\"xaxis\":\"x27\",\"y\":[1.1226449807484944,1.40277099609375,1.5106939474741616,1.7179913520812988,2.042195955912272,2.1204772790273028,2.0370940367380777,2.215670585632324,2.312333027521769,2.4643110434214273,2.5509250164031982,2.970280011494954],\"yaxis\":\"y27\",\"type\":\"scatter\"},{\"hovertemplate\":\"method=srht\\u003cbr\\u003ed=4096\\u003cbr\\u003en=8192\\u003cbr\\u003em=%{x}\\u003cbr\\u003etime=%{y}\\u003cextra\\u003e\\u003c\\u002fextra\\u003e\",\"legendgroup\":\"srht\",\"line\":{\"color\":\"#636efa\",\"dash\":\"solid\"},\"marker\":{\"symbol\":\"circle\"},\"mode\":\"lines\",\"name\":\"srht\",\"orientation\":\"v\",\"showlegend\":false,\"x\":[4,8,16,32,64,128,256,512,1024,2048,4096],\"xaxis\":\"x16\",\"y\":[0.4288386503855387,0.4852070013682047,0.5740137100219727,0.6668249766031901,0.7047226428985596,0.77114733060201,0.826985756556193,0.8745644887288411,0.9312520821889241,0.9858345190684,1.0689052740732827],\"yaxis\":\"y16\",\"type\":\"scatter\"},{\"hovertemplate\":\"method=srht\\u003cbr\\u003ed=4096\\u003cbr\\u003en=16384\\u003cbr\\u003em=%{x}\\u003cbr\\u003etime=%{y}\\u003cextra\\u003e\\u003c\\u002fextra\\u003e\",\"legendgroup\":\"srht\",\"line\":{\"color\":\"#636efa\",\"dash\":\"solid\"},\"marker\":{\"symbol\":\"circle\"},\"mode\":\"lines\",\"name\":\"srht\",\"orientation\":\"v\",\"showlegend\":false,\"x\":[4,8,16,32,64,128,256,512,1024,2048,4096,8192],\"xaxis\":\"x17\",\"y\":[1.0475141207377114,1.2117465337117512,1.3545223077138264,1.5032192071278887,1.6647792657216387,1.8096098899841309,1.97773806254069,2.0050176779429116,2.2221693992614746,2.3255969683329263,2.390257994333903,2.6974893411000567],\"yaxis\":\"y17\",\"type\":\"scatter\"},{\"hovertemplate\":\"method=srht\\u003cbr\\u003ed=4096\\u003cbr\\u003en=32768\\u003cbr\\u003em=%{x}\\u003cbr\\u003etime=%{y}\\u003cextra\\u003e\\u003c\\u002fextra\\u003e\",\"legendgroup\":\"srht\",\"line\":{\"color\":\"#636efa\",\"dash\":\"solid\"},\"marker\":{\"symbol\":\"circle\"},\"mode\":\"lines\",\"name\":\"srht\",\"orientation\":\"v\",\"showlegend\":false,\"x\":[4,8,16,32,64,128,256,512,1024,2048,4096,8192],\"xaxis\":\"x18\",\"y\":[2.7096333503723145,2.882792552312215,3.267476320266723,3.709803342819214,4.077023267745972,4.439423243204752,4.692151308059692,5.005085388819376,5.325061241785685,5.509804964065552,5.691075960795084,6.149317582448323],\"yaxis\":\"y18\",\"type\":\"scatter\"},{\"hovertemplate\":\"method=srht\\u003cbr\\u003ed=8192\\u003cbr\\u003en=16384\\u003cbr\\u003em=%{x}\\u003cbr\\u003etime=%{y}\\u003cextra\\u003e\\u003c\\u002fextra\\u003e\",\"legendgroup\":\"srht\",\"line\":{\"color\":\"#636efa\",\"dash\":\"solid\"},\"marker\":{\"symbol\":\"circle\"},\"mode\":\"lines\",\"name\":\"srht\",\"orientation\":\"v\",\"showlegend\":false,\"x\":[4,8,16,32,64,128,256,512,1024,2048,4096,8192],\"xaxis\":\"x8\",\"y\":[2.3603851000467935,2.71547532081604,3.438436428705851,4.1785766283671055,4.0799384117126465,4.647000869115193,5.189230839411417,5.118078708648682,4.72703472773234,5.124955574671427,5.988888343175252,5.954465309778849],\"yaxis\":\"y8\",\"type\":\"scatter\"},{\"hovertemplate\":\"method=srht\\u003cbr\\u003ed=8192\\u003cbr\\u003en=32768\\u003cbr\\u003em=%{x}\\u003cbr\\u003etime=%{y}\\u003cextra\\u003e\\u003c\\u002fextra\\u003e\",\"legendgroup\":\"srht\",\"line\":{\"color\":\"#636efa\",\"dash\":\"solid\"},\"marker\":{\"symbol\":\"circle\"},\"mode\":\"lines\",\"name\":\"srht\",\"orientation\":\"v\",\"showlegend\":false,\"x\":[4,8,16,32,64,128,256,512,1024,2048,4096,8192],\"xaxis\":\"x9\",\"y\":[5.63485566775004,6.949230273564656,7.52305769920349,8.225057363510132,8.927880048751831,12.049921035766602,10.578471183776855,11.02501583099365,11.772764205932617,12.693735758463541,12.753553628921509,15.828950881958008],\"yaxis\":\"y9\",\"type\":\"scatter\"},{\"hovertemplate\":\"method=srht_slow\\u003cbr\\u003ed=16\\u003cbr\\u003en=128\\u003cbr\\u003em=%{x}\\u003cbr\\u003etime=%{y}\\u003cextra\\u003e\\u003c\\u002fextra\\u003e\",\"legendgroup\":\"srht_slow\",\"line\":{\"color\":\"#EF553B\",\"dash\":\"solid\"},\"marker\":{\"symbol\":\"circle\"},\"mode\":\"lines\",\"name\":\"srht_slow\",\"orientation\":\"v\",\"showlegend\":true,\"x\":[4,8,16,32,64],\"xaxis\":\"x82\",\"y\":[0.0016393661499023435,0.0015638669331868489,0.0014829635620117188,0.0014221668243408203,0.0014235973358154297],\"yaxis\":\"y82\",\"type\":\"scatter\"},{\"hovertemplate\":\"method=srht_slow\\u003cbr\\u003ed=16\\u003cbr\\u003en=256\\u003cbr\\u003em=%{x}\\u003cbr\\u003etime=%{y}\\u003cextra\\u003e\\u003c\\u002fextra\\u003e\",\"legendgroup\":\"srht_slow\",\"line\":{\"color\":\"#EF553B\",\"dash\":\"solid\"},\"marker\":{\"symbol\":\"circle\"},\"mode\":\"lines\",\"name\":\"srht_slow\",\"orientation\":\"v\",\"showlegend\":false,\"x\":[4,8,16,32,64],\"xaxis\":\"x83\",\"y\":[0.0026171207427978516,0.00261688232421875,0.0029116471608479815,0.0027399063110351562,0.002566734949747721],\"yaxis\":\"y83\",\"type\":\"scatter\"},{\"hovertemplate\":\"method=srht_slow\\u003cbr\\u003ed=16\\u003cbr\\u003en=512\\u003cbr\\u003em=%{x}\\u003cbr\\u003etime=%{y}\\u003cextra\\u003e\\u003c\\u002fextra\\u003e\",\"legendgroup\":\"srht_slow\",\"line\":{\"color\":\"#EF553B\",\"dash\":\"solid\"},\"marker\":{\"symbol\":\"circle\"},\"mode\":\"lines\",\"name\":\"srht_slow\",\"orientation\":\"v\",\"showlegend\":false,\"x\":[4,8,16,32,64],\"xaxis\":\"x84\",\"y\":[0.005980412165323893,0.005721330642700195,0.005669355392456055,0.005857308705647786,0.00580596923828125],\"yaxis\":\"y84\",\"type\":\"scatter\"},{\"hovertemplate\":\"method=srht_slow\\u003cbr\\u003ed=16\\u003cbr\\u003en=1024\\u003cbr\\u003em=%{x}\\u003cbr\\u003etime=%{y}\\u003cextra\\u003e\\u003c\\u002fextra\\u003e\",\"legendgroup\":\"srht_slow\",\"line\":{\"color\":\"#EF553B\",\"dash\":\"solid\"},\"marker\":{\"symbol\":\"circle\"},\"mode\":\"lines\",\"name\":\"srht_slow\",\"orientation\":\"v\",\"showlegend\":false,\"x\":[4,8,16,32,64],\"xaxis\":\"x85\",\"y\":[0.012751817703247069,0.012975295384724934,0.012473026911417643,0.012579043706258137,0.012499094009399414],\"yaxis\":\"y85\",\"type\":\"scatter\"},{\"hovertemplate\":\"method=srht_slow\\u003cbr\\u003ed=16\\u003cbr\\u003en=2048\\u003cbr\\u003em=%{x}\\u003cbr\\u003etime=%{y}\\u003cextra\\u003e\\u003c\\u002fextra\\u003e\",\"legendgroup\":\"srht_slow\",\"line\":{\"color\":\"#EF553B\",\"dash\":\"solid\"},\"marker\":{\"symbol\":\"circle\"},\"mode\":\"lines\",\"name\":\"srht_slow\",\"orientation\":\"v\",\"showlegend\":false,\"x\":[4,8,16,32,64],\"xaxis\":\"x86\",\"y\":[0.02745898564656575,0.027498642603556313,0.027331272761027016,0.027329842249552407,0.027416785558064777],\"yaxis\":\"y86\",\"type\":\"scatter\"},{\"hovertemplate\":\"method=srht_slow\\u003cbr\\u003ed=16\\u003cbr\\u003en=4096\\u003cbr\\u003em=%{x}\\u003cbr\\u003etime=%{y}\\u003cextra\\u003e\\u003c\\u002fextra\\u003e\",\"legendgroup\":\"srht_slow\",\"line\":{\"color\":\"#EF553B\",\"dash\":\"solid\"},\"marker\":{\"symbol\":\"circle\"},\"mode\":\"lines\",\"name\":\"srht_slow\",\"orientation\":\"v\",\"showlegend\":false,\"x\":[4,8,16,32,64],\"xaxis\":\"x87\",\"y\":[0.06060131390889485,0.060892343521118164,0.05963873863220215,0.059711615244547524,0.05964620908101399],\"yaxis\":\"y87\",\"type\":\"scatter\"},{\"hovertemplate\":\"method=srht_slow\\u003cbr\\u003ed=16\\u003cbr\\u003en=8192\\u003cbr\\u003em=%{x}\\u003cbr\\u003etime=%{y}\\u003cextra\\u003e\\u003c\\u002fextra\\u003e\",\"legendgroup\":\"srht_slow\",\"line\":{\"color\":\"#EF553B\",\"dash\":\"solid\"},\"marker\":{\"symbol\":\"circle\"},\"mode\":\"lines\",\"name\":\"srht_slow\",\"orientation\":\"v\",\"showlegend\":false,\"x\":[4,8,16,32,64],\"xaxis\":\"x88\",\"y\":[0.13379979133605957,0.1298395792643229,0.1286310354868571,0.1289979616800944,0.12794295946756998],\"yaxis\":\"y88\",\"type\":\"scatter\"},{\"hovertemplate\":\"method=srht_slow\\u003cbr\\u003ed=16\\u003cbr\\u003en=16384\\u003cbr\\u003em=%{x}\\u003cbr\\u003etime=%{y}\\u003cextra\\u003e\\u003c\\u002fextra\\u003e\",\"legendgroup\":\"srht_slow\",\"line\":{\"color\":\"#EF553B\",\"dash\":\"solid\"},\"marker\":{\"symbol\":\"circle\"},\"mode\":\"lines\",\"name\":\"srht_slow\",\"orientation\":\"v\",\"showlegend\":false,\"x\":[4,8,16,32,64],\"xaxis\":\"x89\",\"y\":[0.27867237726847327,0.27567315101623535,0.27870726585388184,0.27485402425130206,0.2731442451477051],\"yaxis\":\"y89\",\"type\":\"scatter\"},{\"hovertemplate\":\"method=srht_slow\\u003cbr\\u003ed=16\\u003cbr\\u003en=32768\\u003cbr\\u003em=%{x}\\u003cbr\\u003etime=%{y}\\u003cextra\\u003e\\u003c\\u002fextra\\u003e\",\"legendgroup\":\"srht_slow\",\"line\":{\"color\":\"#EF553B\",\"dash\":\"solid\"},\"marker\":{\"symbol\":\"circle\"},\"mode\":\"lines\",\"name\":\"srht_slow\",\"orientation\":\"v\",\"showlegend\":false,\"x\":[4,8,16,32,64],\"xaxis\":\"x90\",\"y\":[0.6208988030751545,0.6008083820343018,0.6291929086049397,0.6276397705078125,0.6749928792317708],\"yaxis\":\"y90\",\"type\":\"scatter\"},{\"hovertemplate\":\"method=srht_slow\\u003cbr\\u003ed=32\\u003cbr\\u003en=128\\u003cbr\\u003em=%{x}\\u003cbr\\u003etime=%{y}\\u003cextra\\u003e\\u003c\\u002fextra\\u003e\",\"legendgroup\":\"srht_slow\",\"line\":{\"color\":\"#EF553B\",\"dash\":\"solid\"},\"marker\":{\"symbol\":\"circle\"},\"mode\":\"lines\",\"name\":\"srht_slow\",\"orientation\":\"v\",\"showlegend\":false,\"x\":[4,8,16,32,64],\"xaxis\":\"x73\",\"y\":[0.0015249252319335938,0.0014323393503824868,0.0013652642567952473,0.0012227694193522134,0.0013441244761149087],\"yaxis\":\"y73\",\"type\":\"scatter\"},{\"hovertemplate\":\"method=srht_slow\\u003cbr\\u003ed=32\\u003cbr\\u003en=256\\u003cbr\\u003em=%{x}\\u003cbr\\u003etime=%{y}\\u003cextra\\u003e\\u003c\\u002fextra\\u003e\",\"legendgroup\":\"srht_slow\",\"line\":{\"color\":\"#EF553B\",\"dash\":\"solid\"},\"marker\":{\"symbol\":\"circle\"},\"mode\":\"lines\",\"name\":\"srht_slow\",\"orientation\":\"v\",\"showlegend\":false,\"x\":[4,8,16,32,64,128],\"xaxis\":\"x74\",\"y\":[0.0025939146677652993,0.0026046435038248696,0.0025811195373535156,0.00273593266805013,0.0026363531748453775,0.0028112729390462237],\"yaxis\":\"y74\",\"type\":\"scatter\"},{\"hovertemplate\":\"method=srht_slow\\u003cbr\\u003ed=32\\u003cbr\\u003en=512\\u003cbr\\u003em=%{x}\\u003cbr\\u003etime=%{y}\\u003cextra\\u003e\\u003c\\u002fextra\\u003e\",\"legendgroup\":\"srht_slow\",\"line\":{\"color\":\"#EF553B\",\"dash\":\"solid\"},\"marker\":{\"symbol\":\"circle\"},\"mode\":\"lines\",\"name\":\"srht_slow\",\"orientation\":\"v\",\"showlegend\":false,\"x\":[4,8,16,32,64,128],\"xaxis\":\"x75\",\"y\":[0.006109317143758138,0.005800008773803711,0.005653778711954752,0.005746682484944661,0.005699634552001953,0.005754629770914713],\"yaxis\":\"y75\",\"type\":\"scatter\"},{\"hovertemplate\":\"method=srht_slow\\u003cbr\\u003ed=32\\u003cbr\\u003en=1024\\u003cbr\\u003em=%{x}\\u003cbr\\u003etime=%{y}\\u003cextra\\u003e\\u003c\\u002fextra\\u003e\",\"legendgroup\":\"srht_slow\",\"line\":{\"color\":\"#EF553B\",\"dash\":\"solid\"},\"marker\":{\"symbol\":\"circle\"},\"mode\":\"lines\",\"name\":\"srht_slow\",\"orientation\":\"v\",\"showlegend\":false,\"x\":[4,8,16,32,64,128],\"xaxis\":\"x76\",\"y\":[0.012549638748168944,0.012574354807535805,0.012479782104492188,0.012405316034952799,0.012321233749389648,0.013198693593343098],\"yaxis\":\"y76\",\"type\":\"scatter\"},{\"hovertemplate\":\"method=srht_slow\\u003cbr\\u003ed=32\\u003cbr\\u003en=2048\\u003cbr\\u003em=%{x}\\u003cbr\\u003etime=%{y}\\u003cextra\\u003e\\u003c\\u002fextra\\u003e\",\"legendgroup\":\"srht_slow\",\"line\":{\"color\":\"#EF553B\",\"dash\":\"solid\"},\"marker\":{\"symbol\":\"circle\"},\"mode\":\"lines\",\"name\":\"srht_slow\",\"orientation\":\"v\",\"showlegend\":false,\"x\":[4,8,16,32,64,128],\"xaxis\":\"x77\",\"y\":[0.027120351791381836,0.027560154596964516,0.02725879351298014,0.028228362401326493,0.027345259984334305,0.027259429295857746],\"yaxis\":\"y77\",\"type\":\"scatter\"},{\"hovertemplate\":\"method=srht_slow\\u003cbr\\u003ed=32\\u003cbr\\u003en=4096\\u003cbr\\u003em=%{x}\\u003cbr\\u003etime=%{y}\\u003cextra\\u003e\\u003c\\u002fextra\\u003e\",\"legendgroup\":\"srht_slow\",\"line\":{\"color\":\"#EF553B\",\"dash\":\"solid\"},\"marker\":{\"symbol\":\"circle\"},\"mode\":\"lines\",\"name\":\"srht_slow\",\"orientation\":\"v\",\"showlegend\":false,\"x\":[4,8,16,32,64,128],\"xaxis\":\"x78\",\"y\":[0.061075687408447266,0.06186874707539876,0.06842494010925293,0.060439348220825195,0.059828996658325195,0.05870811144510904],\"yaxis\":\"y78\",\"type\":\"scatter\"},{\"hovertemplate\":\"method=srht_slow\\u003cbr\\u003ed=32\\u003cbr\\u003en=8192\\u003cbr\\u003em=%{x}\\u003cbr\\u003etime=%{y}\\u003cextra\\u003e\\u003c\\u002fextra\\u003e\",\"legendgroup\":\"srht_slow\",\"line\":{\"color\":\"#EF553B\",\"dash\":\"solid\"},\"marker\":{\"symbol\":\"circle\"},\"mode\":\"lines\",\"name\":\"srht_slow\",\"orientation\":\"v\",\"showlegend\":false,\"x\":[4,8,16,32,64,128],\"xaxis\":\"x79\",\"y\":[0.1307710806528727,0.13003087043762207,0.1304490566253662,0.12946923573811847,0.13019879659016925,0.1315479278564453],\"yaxis\":\"y79\",\"type\":\"scatter\"},{\"hovertemplate\":\"method=srht_slow\\u003cbr\\u003ed=32\\u003cbr\\u003en=16384\\u003cbr\\u003em=%{x}\\u003cbr\\u003etime=%{y}\\u003cextra\\u003e\\u003c\\u002fextra\\u003e\",\"legendgroup\":\"srht_slow\",\"line\":{\"color\":\"#EF553B\",\"dash\":\"solid\"},\"marker\":{\"symbol\":\"circle\"},\"mode\":\"lines\",\"name\":\"srht_slow\",\"orientation\":\"v\",\"showlegend\":false,\"x\":[4,8,16,32,64,128],\"xaxis\":\"x80\",\"y\":[0.27874191602071124,0.27761109670003253,0.27540159225463867,0.27926294008890784,0.2810563246409098,0.27595369021097815],\"yaxis\":\"y80\",\"type\":\"scatter\"},{\"hovertemplate\":\"method=srht_slow\\u003cbr\\u003ed=32\\u003cbr\\u003en=32768\\u003cbr\\u003em=%{x}\\u003cbr\\u003etime=%{y}\\u003cextra\\u003e\\u003c\\u002fextra\\u003e\",\"legendgroup\":\"srht_slow\",\"line\":{\"color\":\"#EF553B\",\"dash\":\"solid\"},\"marker\":{\"symbol\":\"circle\"},\"mode\":\"lines\",\"name\":\"srht_slow\",\"orientation\":\"v\",\"showlegend\":false,\"x\":[4,8,16,32,64,128],\"xaxis\":\"x81\",\"y\":[0.6655257542928059,0.6687722206115723,0.6354095935821533,0.651930014292399,0.6506733099619547,0.6102089881896973],\"yaxis\":\"y81\",\"type\":\"scatter\"},{\"hovertemplate\":\"method=srht_slow\\u003cbr\\u003ed=64\\u003cbr\\u003en=128\\u003cbr\\u003em=%{x}\\u003cbr\\u003etime=%{y}\\u003cextra\\u003e\\u003c\\u002fextra\\u003e\",\"legendgroup\":\"srht_slow\",\"line\":{\"color\":\"#EF553B\",\"dash\":\"solid\"},\"marker\":{\"symbol\":\"circle\"},\"mode\":\"lines\",\"name\":\"srht_slow\",\"orientation\":\"v\",\"showlegend\":false,\"x\":[4,8,16,32,64],\"xaxis\":\"x64\",\"y\":[0.001222689946492513,0.0012172857920328775,0.0012593269348144531,0.0012069543202718098,0.0012083053588867188],\"yaxis\":\"y64\",\"type\":\"scatter\"},{\"hovertemplate\":\"method=srht_slow\\u003cbr\\u003ed=64\\u003cbr\\u003en=256\\u003cbr\\u003em=%{x}\\u003cbr\\u003etime=%{y}\\u003cextra\\u003e\\u003c\\u002fextra\\u003e\",\"legendgroup\":\"srht_slow\",\"line\":{\"color\":\"#EF553B\",\"dash\":\"solid\"},\"marker\":{\"symbol\":\"circle\"},\"mode\":\"lines\",\"name\":\"srht_slow\",\"orientation\":\"v\",\"showlegend\":false,\"x\":[4,8,16,32,64,128],\"xaxis\":\"x65\",\"y\":[0.0027504762013753252,0.0026079813639322915,0.0026353200276692705,0.002595663070678711,0.0026443004608154297,0.002632617950439453],\"yaxis\":\"y65\",\"type\":\"scatter\"},{\"hovertemplate\":\"method=srht_slow\\u003cbr\\u003ed=64\\u003cbr\\u003en=512\\u003cbr\\u003em=%{x}\\u003cbr\\u003etime=%{y}\\u003cextra\\u003e\\u003c\\u002fextra\\u003e\",\"legendgroup\":\"srht_slow\",\"line\":{\"color\":\"#EF553B\",\"dash\":\"solid\"},\"marker\":{\"symbol\":\"circle\"},\"mode\":\"lines\",\"name\":\"srht_slow\",\"orientation\":\"v\",\"showlegend\":false,\"x\":[4,8,16,32,64,128,256],\"xaxis\":\"x66\",\"y\":[0.005745331446329752,0.00615398089090983,0.006203492482503254,0.005710283915201822,0.005835294723510742,0.0058892567952473955,0.005891879399617512],\"yaxis\":\"y66\",\"type\":\"scatter\"},{\"hovertemplate\":\"method=srht_slow\\u003cbr\\u003ed=64\\u003cbr\\u003en=1024\\u003cbr\\u003em=%{x}\\u003cbr\\u003etime=%{y}\\u003cextra\\u003e\\u003c\\u002fextra\\u003e\",\"legendgroup\":\"srht_slow\",\"line\":{\"color\":\"#EF553B\",\"dash\":\"solid\"},\"marker\":{\"symbol\":\"circle\"},\"mode\":\"lines\",\"name\":\"srht_slow\",\"orientation\":\"v\",\"showlegend\":false,\"x\":[4,8,16,32,64,128,256],\"xaxis\":\"x67\",\"y\":[0.013162692387898762,0.012842416763305662,0.012873331705729166,0.012879371643066405,0.012806733449300129,0.012589375178019205,0.01270906130472819],\"yaxis\":\"y67\",\"type\":\"scatter\"},{\"hovertemplate\":\"method=srht_slow\\u003cbr\\u003ed=64\\u003cbr\\u003en=2048\\u003cbr\\u003em=%{x}\\u003cbr\\u003etime=%{y}\\u003cextra\\u003e\\u003c\\u002fextra\\u003e\",\"legendgroup\":\"srht_slow\",\"line\":{\"color\":\"#EF553B\",\"dash\":\"solid\"},\"marker\":{\"symbol\":\"circle\"},\"mode\":\"lines\",\"name\":\"srht_slow\",\"orientation\":\"v\",\"showlegend\":false,\"x\":[4,8,16,32,64,128,256],\"xaxis\":\"x68\",\"y\":[0.027824640274047848,0.028231302897135414,0.027930895487467446,0.027871052424112953,0.028079191843668617,0.028199116388956703,0.028821547826131184],\"yaxis\":\"y68\",\"type\":\"scatter\"},{\"hovertemplate\":\"method=srht_slow\\u003cbr\\u003ed=64\\u003cbr\\u003en=4096\\u003cbr\\u003em=%{x}\\u003cbr\\u003etime=%{y}\\u003cextra\\u003e\\u003c\\u002fextra\\u003e\",\"legendgroup\":\"srht_slow\",\"line\":{\"color\":\"#EF553B\",\"dash\":\"solid\"},\"marker\":{\"symbol\":\"circle\"},\"mode\":\"lines\",\"name\":\"srht_slow\",\"orientation\":\"v\",\"showlegend\":false,\"x\":[4,8,16,32,64,128,256],\"xaxis\":\"x69\",\"y\":[0.06179539362589518,0.06074229876200358,0.06100002924601237,0.060992558797200516,0.061860640843709305,0.062198638916015625,0.061386346817016595],\"yaxis\":\"y69\",\"type\":\"scatter\"},{\"hovertemplate\":\"method=srht_slow\\u003cbr\\u003ed=64\\u003cbr\\u003en=8192\\u003cbr\\u003em=%{x}\\u003cbr\\u003etime=%{y}\\u003cextra\\u003e\\u003c\\u002fextra\\u003e\",\"legendgroup\":\"srht_slow\",\"line\":{\"color\":\"#EF553B\",\"dash\":\"solid\"},\"marker\":{\"symbol\":\"circle\"},\"mode\":\"lines\",\"name\":\"srht_slow\",\"orientation\":\"v\",\"showlegend\":false,\"x\":[4,8,16,32,64,128,256],\"xaxis\":\"x70\",\"y\":[0.13581124941507974,0.13391963640848795,0.13274900118509927,0.13437628746032715,0.1350285212198893,0.1332875887552897,0.13727021217346191],\"yaxis\":\"y70\",\"type\":\"scatter\"},{\"hovertemplate\":\"method=srht_slow\\u003cbr\\u003ed=64\\u003cbr\\u003en=16384\\u003cbr\\u003em=%{x}\\u003cbr\\u003etime=%{y}\\u003cextra\\u003e\\u003c\\u002fextra\\u003e\",\"legendgroup\":\"srht_slow\",\"line\":{\"color\":\"#EF553B\",\"dash\":\"solid\"},\"marker\":{\"symbol\":\"circle\"},\"mode\":\"lines\",\"name\":\"srht_slow\",\"orientation\":\"v\",\"showlegend\":false,\"x\":[4,8,16,32,64,128,256],\"xaxis\":\"x71\",\"y\":[0.2905792395273844,0.2917233308156331,0.2911423842112223,0.2912448247273763,0.2894140084584554,0.29073580106099445,0.290637731552124],\"yaxis\":\"y71\",\"type\":\"scatter\"},{\"hovertemplate\":\"method=srht_slow\\u003cbr\\u003ed=64\\u003cbr\\u003en=32768\\u003cbr\\u003em=%{x}\\u003cbr\\u003etime=%{y}\\u003cextra\\u003e\\u003c\\u002fextra\\u003e\",\"legendgroup\":\"srht_slow\",\"line\":{\"color\":\"#EF553B\",\"dash\":\"solid\"},\"marker\":{\"symbol\":\"circle\"},\"mode\":\"lines\",\"name\":\"srht_slow\",\"orientation\":\"v\",\"showlegend\":false,\"x\":[4,8,16,32,64,128,256],\"xaxis\":\"x72\",\"y\":[0.6314129829406738,0.6150602499643961,0.6207457383473713,0.6774839560190836,0.6544961134592692,0.6494309902191162,0.6606547037760416],\"yaxis\":\"y72\",\"type\":\"scatter\"},{\"hovertemplate\":\"method=srht_slow\\u003cbr\\u003ed=128\\u003cbr\\u003en=256\\u003cbr\\u003em=%{x}\\u003cbr\\u003etime=%{y}\\u003cextra\\u003e\\u003c\\u002fextra\\u003e\",\"legendgroup\":\"srht_slow\",\"line\":{\"color\":\"#EF553B\",\"dash\":\"solid\"},\"marker\":{\"symbol\":\"circle\"},\"mode\":\"lines\",\"name\":\"srht_slow\",\"orientation\":\"v\",\"showlegend\":false,\"x\":[4,8,16,32,64,128],\"xaxis\":\"x56\",\"y\":[0.003373384475708008,0.0029710928599039708,0.003143628438313802,0.003011067708333333,0.002960681915283203,0.0029574235280354815],\"yaxis\":\"y56\",\"type\":\"scatter\"},{\"hovertemplate\":\"method=srht_slow\\u003cbr\\u003ed=128\\u003cbr\\u003en=512\\u003cbr\\u003em=%{x}\\u003cbr\\u003etime=%{y}\\u003cextra\\u003e\\u003c\\u002fextra\\u003e\",\"legendgroup\":\"srht_slow\",\"line\":{\"color\":\"#EF553B\",\"dash\":\"solid\"},\"marker\":{\"symbol\":\"circle\"},\"mode\":\"lines\",\"name\":\"srht_slow\",\"orientation\":\"v\",\"showlegend\":false,\"x\":[4,8,16,32,64,128,256],\"xaxis\":\"x57\",\"y\":[0.006609837214152018,0.006542603174845377,0.0065186023712158194,0.006588379542032877,0.006486972173055013,0.00668803850809733,0.006768067677815754],\"yaxis\":\"y57\",\"type\":\"scatter\"},{\"hovertemplate\":\"method=srht_slow\\u003cbr\\u003ed=128\\u003cbr\\u003en=1024\\u003cbr\\u003em=%{x}\\u003cbr\\u003etime=%{y}\\u003cextra\\u003e\\u003c\\u002fextra\\u003e\",\"legendgroup\":\"srht_slow\",\"line\":{\"color\":\"#EF553B\",\"dash\":\"solid\"},\"marker\":{\"symbol\":\"circle\"},\"mode\":\"lines\",\"name\":\"srht_slow\",\"orientation\":\"v\",\"showlegend\":false,\"x\":[4,8,16,32,64,128,256,512],\"xaxis\":\"x58\",\"y\":[0.014333327611287434,0.014528910319010416,0.014449834823608398,0.015169064203898111,0.015546957651774088,0.014500061670939127,0.014551639556884764,0.014639774958292643],\"yaxis\":\"y58\",\"type\":\"scatter\"},{\"hovertemplate\":\"method=srht_slow\\u003cbr\\u003ed=128\\u003cbr\\u003en=2048\\u003cbr\\u003em=%{x}\\u003cbr\\u003etime=%{y}\\u003cextra\\u003e\\u003c\\u002fextra\\u003e\",\"legendgroup\":\"srht_slow\",\"line\":{\"color\":\"#EF553B\",\"dash\":\"solid\"},\"marker\":{\"symbol\":\"circle\"},\"mode\":\"lines\",\"name\":\"srht_slow\",\"orientation\":\"v\",\"showlegend\":false,\"x\":[4,8,16,32,64,128,256,512],\"xaxis\":\"x59\",\"y\":[0.032929976781209305,0.031693458557128906,0.03152664502461751,0.03156630198160807,0.03239337603251139,0.031806786855061844,0.031981070836385087,0.03187791506449381],\"yaxis\":\"y59\",\"type\":\"scatter\"},{\"hovertemplate\":\"method=srht_slow\\u003cbr\\u003ed=128\\u003cbr\\u003en=4096\\u003cbr\\u003em=%{x}\\u003cbr\\u003etime=%{y}\\u003cextra\\u003e\\u003c\\u002fextra\\u003e\",\"legendgroup\":\"srht_slow\",\"line\":{\"color\":\"#EF553B\",\"dash\":\"solid\"},\"marker\":{\"symbol\":\"circle\"},\"mode\":\"lines\",\"name\":\"srht_slow\",\"orientation\":\"v\",\"showlegend\":false,\"x\":[4,8,16,32,64,128,256,512],\"xaxis\":\"x60\",\"y\":[0.07024757067362467,0.07000533739725748,0.07100494702657063,0.07120641072591145,0.0690626303354899,0.07075397173563638,0.06971438725789388,0.07470154762268066],\"yaxis\":\"y60\",\"type\":\"scatter\"},{\"hovertemplate\":\"method=srht_slow\\u003cbr\\u003ed=128\\u003cbr\\u003en=8192\\u003cbr\\u003em=%{x}\\u003cbr\\u003etime=%{y}\\u003cextra\\u003e\\u003c\\u002fextra\\u003e\",\"legendgroup\":\"srht_slow\",\"line\":{\"color\":\"#EF553B\",\"dash\":\"solid\"},\"marker\":{\"symbol\":\"circle\"},\"mode\":\"lines\",\"name\":\"srht_slow\",\"orientation\":\"v\",\"showlegend\":false,\"x\":[4,8,16,32,64,128,256,512],\"xaxis\":\"x61\",\"y\":[0.16027498245239258,0.15850170453389484,0.16092578570048013,0.1567236582438151,0.15657647450764972,0.15738638242085773,0.1610254446665446,0.15649024645487467],\"yaxis\":\"y61\",\"type\":\"scatter\"},{\"hovertemplate\":\"method=srht_slow\\u003cbr\\u003ed=128\\u003cbr\\u003en=16384\\u003cbr\\u003em=%{x}\\u003cbr\\u003etime=%{y}\\u003cextra\\u003e\\u003c\\u002fextra\\u003e\",\"legendgroup\":\"srht_slow\",\"line\":{\"color\":\"#EF553B\",\"dash\":\"solid\"},\"marker\":{\"symbol\":\"circle\"},\"mode\":\"lines\",\"name\":\"srht_slow\",\"orientation\":\"v\",\"showlegend\":false,\"x\":[4,8,16,32,64,128,256,512],\"xaxis\":\"x62\",\"y\":[0.34473522504170734,0.33527302742004395,0.3334779739379883,0.336488405863444,0.3365381558736165,0.3336482048034668,0.33438754081726074,0.33478792508443195],\"yaxis\":\"y62\",\"type\":\"scatter\"},{\"hovertemplate\":\"method=srht_slow\\u003cbr\\u003ed=128\\u003cbr\\u003en=32768\\u003cbr\\u003em=%{x}\\u003cbr\\u003etime=%{y}\\u003cextra\\u003e\\u003c\\u002fextra\\u003e\",\"legendgroup\":\"srht_slow\",\"line\":{\"color\":\"#EF553B\",\"dash\":\"solid\"},\"marker\":{\"symbol\":\"circle\"},\"mode\":\"lines\",\"name\":\"srht_slow\",\"orientation\":\"v\",\"showlegend\":false,\"x\":[4,8,16,32,64,128,256,512],\"xaxis\":\"x63\",\"y\":[0.7216857274373372,0.7176725069681803,0.7239174842834473,0.7092607021331787,0.7632726828257241,0.7767641544342041,0.7232219378153483,0.7131726741790771],\"yaxis\":\"y63\",\"type\":\"scatter\"},{\"hovertemplate\":\"method=srht_slow\\u003cbr\\u003ed=256\\u003cbr\\u003en=512\\u003cbr\\u003em=%{x}\\u003cbr\\u003etime=%{y}\\u003cextra\\u003e\\u003c\\u002fextra\\u003e\",\"legendgroup\":\"srht_slow\",\"line\":{\"color\":\"#EF553B\",\"dash\":\"solid\"},\"marker\":{\"symbol\":\"circle\"},\"mode\":\"lines\",\"name\":\"srht_slow\",\"orientation\":\"v\",\"showlegend\":false,\"x\":[4,8,16,32,64,128,256],\"xaxis\":\"x48\",\"y\":[0.007150967915852864,0.007017930348714192,0.007019042968749999,0.007120688756306966,0.006924947102864583,0.007042487462361653,0.008097330729166666],\"yaxis\":\"y48\",\"type\":\"scatter\"},{\"hovertemplate\":\"method=srht_slow\\u003cbr\\u003ed=256\\u003cbr\\u003en=1024\\u003cbr\\u003em=%{x}\\u003cbr\\u003etime=%{y}\\u003cextra\\u003e\\u003c\\u002fextra\\u003e\",\"legendgroup\":\"srht_slow\",\"line\":{\"color\":\"#EF553B\",\"dash\":\"solid\"},\"marker\":{\"symbol\":\"circle\"},\"mode\":\"lines\",\"name\":\"srht_slow\",\"orientation\":\"v\",\"showlegend\":false,\"x\":[4,8,16,32,64,128,256,512],\"xaxis\":\"x49\",\"y\":[0.01571997006734212,0.015457073847452797,0.015480279922485352,0.015459537506103514,0.016422271728515625,0.01699558893839518,0.015643278757731117,0.015727996826171875],\"yaxis\":\"y49\",\"type\":\"scatter\"},{\"hovertemplate\":\"method=srht_slow\\u003cbr\\u003ed=256\\u003cbr\\u003en=2048\\u003cbr\\u003em=%{x}\\u003cbr\\u003etime=%{y}\\u003cextra\\u003e\\u003c\\u002fextra\\u003e\",\"legendgroup\":\"srht_slow\",\"line\":{\"color\":\"#EF553B\",\"dash\":\"solid\"},\"marker\":{\"symbol\":\"circle\"},\"mode\":\"lines\",\"name\":\"srht_slow\",\"orientation\":\"v\",\"showlegend\":false,\"x\":[4,8,16,32,64,128,256,512,1024],\"xaxis\":\"x50\",\"y\":[0.03645650545756022,0.03594843546549479,0.03851675987243652,0.035586039225260414,0.037371953328450516,0.035149574279785156,0.03612001736958821,0.035234689712524414,0.035477956136067704],\"yaxis\":\"y50\",\"type\":\"scatter\"},{\"hovertemplate\":\"method=srht_slow\\u003cbr\\u003ed=256\\u003cbr\\u003en=4096\\u003cbr\\u003em=%{x}\\u003cbr\\u003etime=%{y}\\u003cextra\\u003e\\u003c\\u002fextra\\u003e\",\"legendgroup\":\"srht_slow\",\"line\":{\"color\":\"#EF553B\",\"dash\":\"solid\"},\"marker\":{\"symbol\":\"circle\"},\"mode\":\"lines\",\"name\":\"srht_slow\",\"orientation\":\"v\",\"showlegend\":false,\"x\":[4,8,16,32,64,128,256,512,1024],\"xaxis\":\"x51\",\"y\":[0.08136940002441406,0.0833122730255127,0.08151062329610188,0.0811014175415039,0.08136733373006184,0.08077518145243326,0.08193071683247884,0.08053843180338541,0.07947293917338052],\"yaxis\":\"y51\",\"type\":\"scatter\"},{\"hovertemplate\":\"method=srht_slow\\u003cbr\\u003ed=256\\u003cbr\\u003en=8192\\u003cbr\\u003em=%{x}\\u003cbr\\u003etime=%{y}\\u003cextra\\u003e\\u003c\\u002fextra\\u003e\",\"legendgroup\":\"srht_slow\",\"line\":{\"color\":\"#EF553B\",\"dash\":\"solid\"},\"marker\":{\"symbol\":\"circle\"},\"mode\":\"lines\",\"name\":\"srht_slow\",\"orientation\":\"v\",\"showlegend\":false,\"x\":[4,8,16,32,64,128,256,512,1024],\"xaxis\":\"x52\",\"y\":[0.17909010251363117,0.17910273869832355,0.17873152097066242,0.17731269200642902,0.18079622586568195,0.17809661229451496,0.17835958798726398,0.17949795722961426,0.1772019863128662],\"yaxis\":\"y52\",\"type\":\"scatter\"},{\"hovertemplate\":\"method=srht_slow\\u003cbr\\u003ed=256\\u003cbr\\u003en=16384\\u003cbr\\u003em=%{x}\\u003cbr\\u003etime=%{y}\\u003cextra\\u003e\\u003c\\u002fextra\\u003e\",\"legendgroup\":\"srht_slow\",\"line\":{\"color\":\"#EF553B\",\"dash\":\"solid\"},\"marker\":{\"symbol\":\"circle\"},\"mode\":\"lines\",\"name\":\"srht_slow\",\"orientation\":\"v\",\"showlegend\":false,\"x\":[4,8,16,32,64,128,256,512,1024],\"xaxis\":\"x53\",\"y\":[0.37998882929484046,0.3783445358276367,0.3779655297597249,0.3774439493815104,0.3750406106313069,0.37923669815063477,0.38176465034484863,0.3791266282399495,0.3779817422231038],\"yaxis\":\"y53\",\"type\":\"scatter\"},{\"hovertemplate\":\"method=srht_slow\\u003cbr\\u003ed=256\\u003cbr\\u003en=32768\\u003cbr\\u003em=%{x}\\u003cbr\\u003etime=%{y}\\u003cextra\\u003e\\u003c\\u002fextra\\u003e\",\"legendgroup\":\"srht_slow\",\"line\":{\"color\":\"#EF553B\",\"dash\":\"solid\"},\"marker\":{\"symbol\":\"circle\"},\"mode\":\"lines\",\"name\":\"srht_slow\",\"orientation\":\"v\",\"showlegend\":false,\"x\":[4,8,16,32,64,128,256,512,1024],\"xaxis\":\"x54\",\"y\":[0.797407070795695,0.8588716983795166,0.9152528444925944,0.8304373423258463,0.8215893904368082,0.801803986231486,0.7991356054941813,0.7988942464192708,0.8031270503997803],\"yaxis\":\"y54\",\"type\":\"scatter\"},{\"hovertemplate\":\"method=srht_slow\\u003cbr\\u003ed=512\\u003cbr\\u003en=1024\\u003cbr\\u003em=%{x}\\u003cbr\\u003etime=%{y}\\u003cextra\\u003e\\u003c\\u002fextra\\u003e\",\"legendgroup\":\"srht_slow\",\"line\":{\"color\":\"#EF553B\",\"dash\":\"solid\"},\"marker\":{\"symbol\":\"circle\"},\"mode\":\"lines\",\"name\":\"srht_slow\",\"orientation\":\"v\",\"showlegend\":false,\"x\":[4,8,16,32,64,128,256,512],\"xaxis\":\"x40\",\"y\":[0.0195923646291097,0.0200042724609375,0.020846287409464516,0.021229108174641926,0.02100237210591634,0.020388205846150715,0.02378996213277181,0.020083904266357422],\"yaxis\":\"y40\",\"type\":\"scatter\"},{\"hovertemplate\":\"method=srht_slow\\u003cbr\\u003ed=512\\u003cbr\\u003en=2048\\u003cbr\\u003em=%{x}\\u003cbr\\u003etime=%{y}\\u003cextra\\u003e\\u003c\\u002fextra\\u003e\",\"legendgroup\":\"srht_slow\",\"line\":{\"color\":\"#EF553B\",\"dash\":\"solid\"},\"marker\":{\"symbol\":\"circle\"},\"mode\":\"lines\",\"name\":\"srht_slow\",\"orientation\":\"v\",\"showlegend\":false,\"x\":[4,8,16,32,64,128,256,512,1024],\"xaxis\":\"x41\",\"y\":[0.050006230672200516,0.04914895693461099,0.04977901776631673,0.05140566825866699,0.05200616518656412,0.04857134819030762,0.04728134473164876,0.04901369412740071,0.04912130037943521],\"yaxis\":\"y41\",\"type\":\"scatter\"},{\"hovertemplate\":\"method=srht_slow\\u003cbr\\u003ed=512\\u003cbr\\u003en=4096\\u003cbr\\u003em=%{x}\\u003cbr\\u003etime=%{y}\\u003cextra\\u003e\\u003c\\u002fextra\\u003e\",\"legendgroup\":\"srht_slow\",\"line\":{\"color\":\"#EF553B\",\"dash\":\"solid\"},\"marker\":{\"symbol\":\"circle\"},\"mode\":\"lines\",\"name\":\"srht_slow\",\"orientation\":\"v\",\"showlegend\":false,\"x\":[4,8,16,32,64,128,256,512,1024,2048],\"xaxis\":\"x42\",\"y\":[0.11717812220255533,0.11476437250773111,0.11593635876973468,0.11418875058492024,0.11349797248840332,0.1128263473510742,0.11804397900899251,0.1521784464518229,0.11466487248738605,0.11586467425028482],\"yaxis\":\"y42\",\"type\":\"scatter\"},{\"hovertemplate\":\"method=srht_slow\\u003cbr\\u003ed=512\\u003cbr\\u003en=8192\\u003cbr\\u003em=%{x}\\u003cbr\\u003etime=%{y}\\u003cextra\\u003e\\u003c\\u002fextra\\u003e\",\"legendgroup\":\"srht_slow\",\"line\":{\"color\":\"#EF553B\",\"dash\":\"solid\"},\"marker\":{\"symbol\":\"circle\"},\"mode\":\"lines\",\"name\":\"srht_slow\",\"orientation\":\"v\",\"showlegend\":false,\"x\":[4,8,16,32,64,128,256,512,1024,2048],\"xaxis\":\"x43\",\"y\":[0.24221078554789224,0.24024653434753415,0.24127062161763507,0.24286588033040363,0.2513614495595296,0.25152095158894855,0.25222142537434894,0.2493455410003662,0.24752767880757648,0.24922275543212888],\"yaxis\":\"y43\",\"type\":\"scatter\"},{\"hovertemplate\":\"method=srht_slow\\u003cbr\\u003ed=512\\u003cbr\\u003en=16384\\u003cbr\\u003em=%{x}\\u003cbr\\u003etime=%{y}\\u003cextra\\u003e\\u003c\\u002fextra\\u003e\",\"legendgroup\":\"srht_slow\",\"line\":{\"color\":\"#EF553B\",\"dash\":\"solid\"},\"marker\":{\"symbol\":\"circle\"},\"mode\":\"lines\",\"name\":\"srht_slow\",\"orientation\":\"v\",\"showlegend\":false,\"x\":[4,8,16,32,64,128,256,512,1024,2048],\"xaxis\":\"x44\",\"y\":[0.5141848723093668,0.5134475231170654,0.5152684052785237,0.5200671354929606,0.5262266794840494,0.5208556652069092,0.5096913178761799,0.519498348236084,0.5199467341105143,0.5186672210693359],\"yaxis\":\"y44\",\"type\":\"scatter\"},{\"hovertemplate\":\"method=srht_slow\\u003cbr\\u003ed=512\\u003cbr\\u003en=32768\\u003cbr\\u003em=%{x}\\u003cbr\\u003etime=%{y}\\u003cextra\\u003e\\u003c\\u002fextra\\u003e\",\"legendgroup\":\"srht_slow\",\"line\":{\"color\":\"#EF553B\",\"dash\":\"solid\"},\"marker\":{\"symbol\":\"circle\"},\"mode\":\"lines\",\"name\":\"srht_slow\",\"orientation\":\"v\",\"showlegend\":false,\"x\":[4,8,16,32,64,128,256,512,1024,2048],\"xaxis\":\"x45\",\"y\":[1.0841162204742432,1.0727548599243164,1.0875614484151204,1.1295079390207925,1.1336585680643716,1.1484901110331216,1.1556189060211182,1.1272714138031006,1.119364579518636,1.0951270262400308],\"yaxis\":\"y45\",\"type\":\"scatter\"},{\"hovertemplate\":\"method=srht_slow\\u003cbr\\u003ed=1024\\u003cbr\\u003en=2048\\u003cbr\\u003em=%{x}\\u003cbr\\u003etime=%{y}\\u003cextra\\u003e\\u003c\\u002fextra\\u003e\",\"legendgroup\":\"srht_slow\",\"line\":{\"color\":\"#EF553B\",\"dash\":\"solid\"},\"marker\":{\"symbol\":\"circle\"},\"mode\":\"lines\",\"name\":\"srht_slow\",\"orientation\":\"v\",\"showlegend\":false,\"x\":[4,8,16,32,64,128,256,512,1024],\"xaxis\":\"x32\",\"y\":[0.07231489817301431,0.07183702786763509,0.07148734728495279,0.07218225797017415,0.07343808809916177,0.07303770383199056,0.07283647855122884,0.07168499628702799,0.0725413163503011],\"yaxis\":\"y32\",\"type\":\"scatter\"},{\"hovertemplate\":\"method=srht_slow\\u003cbr\\u003ed=1024\\u003cbr\\u003en=4096\\u003cbr\\u003em=%{x}\\u003cbr\\u003etime=%{y}\\u003cextra\\u003e\\u003c\\u002fextra\\u003e\",\"legendgroup\":\"srht_slow\",\"line\":{\"color\":\"#EF553B\",\"dash\":\"solid\"},\"marker\":{\"symbol\":\"circle\"},\"mode\":\"lines\",\"name\":\"srht_slow\",\"orientation\":\"v\",\"showlegend\":false,\"x\":[4,8,16,32,64,128,256,512,1024,2048],\"xaxis\":\"x33\",\"y\":[0.16223732630411783,0.15810767809549967,0.15800301233927408,0.1571820576985677,0.15668567021687824,0.1561004320780436,0.15726725260416666,0.1562076409657796,0.1609662373860677,0.16107797622680664],\"yaxis\":\"y33\",\"type\":\"scatter\"},{\"hovertemplate\":\"method=srht_slow\\u003cbr\\u003ed=1024\\u003cbr\\u003en=8192\\u003cbr\\u003em=%{x}\\u003cbr\\u003etime=%{y}\\u003cextra\\u003e\\u003c\\u002fextra\\u003e\",\"legendgroup\":\"srht_slow\",\"line\":{\"color\":\"#EF553B\",\"dash\":\"solid\"},\"marker\":{\"symbol\":\"circle\"},\"mode\":\"lines\",\"name\":\"srht_slow\",\"orientation\":\"v\",\"showlegend\":false,\"x\":[4,8,16,32,64,128,256,512,1024,2048,4096],\"xaxis\":\"x34\",\"y\":[0.33919533093770343,0.3468971252441406,0.33611226081848145,0.3409022490183512,0.3364369869232178,0.34257960319519043,0.33736904462178546,0.340166171391805,0.33690794308980304,0.3403766949971517,0.34938112894694007],\"yaxis\":\"y34\",\"type\":\"scatter\"},{\"hovertemplate\":\"method=srht_slow\\u003cbr\\u003ed=1024\\u003cbr\\u003en=16384\\u003cbr\\u003em=%{x}\\u003cbr\\u003etime=%{y}\\u003cextra\\u003e\\u003c\\u002fextra\\u003e\",\"legendgroup\":\"srht_slow\",\"line\":{\"color\":\"#EF553B\",\"dash\":\"solid\"},\"marker\":{\"symbol\":\"circle\"},\"mode\":\"lines\",\"name\":\"srht_slow\",\"orientation\":\"v\",\"showlegend\":false,\"x\":[4,8,16,32,64,128,256,512,1024,2048,4096],\"xaxis\":\"x35\",\"y\":[0.706626017888387,0.7117401758829752,0.7104880015055337,0.7059270540873209,0.7028393745422363,0.7049884796142578,0.7103614012400309,0.7160271803538004,0.7122363249460856,0.7134688695271809,0.7165640195210774],\"yaxis\":\"y35\",\"type\":\"scatter\"},{\"hovertemplate\":\"method=srht_slow\\u003cbr\\u003ed=1024\\u003cbr\\u003en=32768\\u003cbr\\u003em=%{x}\\u003cbr\\u003etime=%{y}\\u003cextra\\u003e\\u003c\\u002fextra\\u003e\",\"legendgroup\":\"srht_slow\",\"line\":{\"color\":\"#EF553B\",\"dash\":\"solid\"},\"marker\":{\"symbol\":\"circle\"},\"mode\":\"lines\",\"name\":\"srht_slow\",\"orientation\":\"v\",\"showlegend\":false,\"x\":[4,8,16,32,64,128,256,512,1024,2048,4096],\"xaxis\":\"x36\",\"y\":[1.6260316371917725,1.633685270945231,1.7195843855539956,1.609571059544881,1.7281767527262368,1.7162350813547769,1.74820073445638,1.736732800801595,1.713350454966227,1.715822378794352,1.771576960881551],\"yaxis\":\"y36\",\"type\":\"scatter\"},{\"hovertemplate\":\"method=srht_slow\\u003cbr\\u003ed=2048\\u003cbr\\u003en=4096\\u003cbr\\u003em=%{x}\\u003cbr\\u003etime=%{y}\\u003cextra\\u003e\\u003c\\u002fextra\\u003e\",\"legendgroup\":\"srht_slow\",\"line\":{\"color\":\"#EF553B\",\"dash\":\"solid\"},\"marker\":{\"symbol\":\"circle\"},\"mode\":\"lines\",\"name\":\"srht_slow\",\"orientation\":\"v\",\"showlegend\":false,\"x\":[4,8,16,32,64,128,256,512,1024,2048],\"xaxis\":\"x24\",\"y\":[0.2542785803476969,0.25307297706604004,0.25295591354370117,0.25297609965006507,0.25223875045776367,0.2511466344197591,0.2526129086812337,0.2547982533772786,0.25658830006917316,0.26607537269592285],\"yaxis\":\"y24\",\"type\":\"scatter\"},{\"hovertemplate\":\"method=srht_slow\\u003cbr\\u003ed=2048\\u003cbr\\u003en=8192\\u003cbr\\u003em=%{x}\\u003cbr\\u003etime=%{y}\\u003cextra\\u003e\\u003c\\u002fextra\\u003e\",\"legendgroup\":\"srht_slow\",\"line\":{\"color\":\"#EF553B\",\"dash\":\"solid\"},\"marker\":{\"symbol\":\"circle\"},\"mode\":\"lines\",\"name\":\"srht_slow\",\"orientation\":\"v\",\"showlegend\":false,\"x\":[4,8,16,32,64,128,256,512,1024,2048,4096],\"xaxis\":\"x25\",\"y\":[0.5447944800059,0.5402072270711262,0.5392316182454426,0.5432877540588379,0.5443867047627766,0.5380150477091471,0.544950008392334,0.5423908233642578,0.5422499974568684,0.5443046887715657,0.5562906265258789],\"yaxis\":\"y25\",\"type\":\"scatter\"},{\"hovertemplate\":\"method=srht_slow\\u003cbr\\u003ed=2048\\u003cbr\\u003en=16384\\u003cbr\\u003em=%{x}\\u003cbr\\u003etime=%{y}\\u003cextra\\u003e\\u003c\\u002fextra\\u003e\",\"legendgroup\":\"srht_slow\",\"line\":{\"color\":\"#EF553B\",\"dash\":\"solid\"},\"marker\":{\"symbol\":\"circle\"},\"mode\":\"lines\",\"name\":\"srht_slow\",\"orientation\":\"v\",\"showlegend\":false,\"x\":[4,8,16,32,64,128,256,512,1024,2048,4096,8192],\"xaxis\":\"x26\",\"y\":[1.2972859541575112,1.3732273578643799,1.4690321286519368,1.292578379313151,1.2985547383626301,1.2928706804911294,1.338376522064209,1.2987240155537922,1.294716993967692,1.3505476315816243,1.3630576928456624,1.3702049255371094],\"yaxis\":\"y26\",\"type\":\"scatter\"},{\"hovertemplate\":\"method=srht_slow\\u003cbr\\u003ed=2048\\u003cbr\\u003en=32768\\u003cbr\\u003em=%{x}\\u003cbr\\u003etime=%{y}\\u003cextra\\u003e\\u003c\\u002fextra\\u003e\",\"legendgroup\":\"srht_slow\",\"line\":{\"color\":\"#EF553B\",\"dash\":\"solid\"},\"marker\":{\"symbol\":\"circle\"},\"mode\":\"lines\",\"name\":\"srht_slow\",\"orientation\":\"v\",\"showlegend\":false,\"x\":[4,8,16,32,64,128,256,512,1024,2048,4096,8192],\"xaxis\":\"x27\",\"y\":[2.8920713265736895,2.930558363596598,2.902156035105387,3.253852128982544,3.2518023649851475,3.2270926634470616,3.196968873341878,2.9080986976623535,3.069499651590983,2.9122842947642007,2.9475553035736084,3.007903416951497],\"yaxis\":\"y27\",\"type\":\"scatter\"},{\"hovertemplate\":\"method=srht_slow\\u003cbr\\u003ed=4096\\u003cbr\\u003en=8192\\u003cbr\\u003em=%{x}\\u003cbr\\u003etime=%{y}\\u003cextra\\u003e\\u003c\\u002fextra\\u003e\",\"legendgroup\":\"srht_slow\",\"line\":{\"color\":\"#EF553B\",\"dash\":\"solid\"},\"marker\":{\"symbol\":\"circle\"},\"mode\":\"lines\",\"name\":\"srht_slow\",\"orientation\":\"v\",\"showlegend\":false,\"x\":[4,8,16,32,64,128,256,512,1024,2048,4096],\"xaxis\":\"x16\",\"y\":[1.063950538635254,1.0657684803009033,1.0756117502848306,1.0796872774759927,1.1008820533752441,1.0773258209228516,1.07306965192159,1.07319172223409,1.0694657166798909,1.0927910010019937,1.0969769954681396],\"yaxis\":\"y16\",\"type\":\"scatter\"},{\"hovertemplate\":\"method=srht_slow\\u003cbr\\u003ed=4096\\u003cbr\\u003en=16384\\u003cbr\\u003em=%{x}\\u003cbr\\u003etime=%{y}\\u003cextra\\u003e\\u003c\\u002fextra\\u003e\",\"legendgroup\":\"srht_slow\",\"line\":{\"color\":\"#EF553B\",\"dash\":\"solid\"},\"marker\":{\"symbol\":\"circle\"},\"mode\":\"lines\",\"name\":\"srht_slow\",\"orientation\":\"v\",\"showlegend\":false,\"x\":[4,8,16,32,64,128,256,512,1024,2048,4096,8192],\"xaxis\":\"x17\",\"y\":[2.2705957094828286,2.2595503330230713,2.3043027718861895,2.2694053649902344,2.2557930946350098,2.270685752232869,2.267559289932251,2.3270781834920244,2.3202547232309976,2.3351023197174072,2.2997912565867105,2.4546262423197427],\"yaxis\":\"y17\",\"type\":\"scatter\"},{\"hovertemplate\":\"method=srht_slow\\u003cbr\\u003ed=4096\\u003cbr\\u003en=32768\\u003cbr\\u003em=%{x}\\u003cbr\\u003etime=%{y}\\u003cextra\\u003e\\u003c\\u002fextra\\u003e\",\"legendgroup\":\"srht_slow\",\"line\":{\"color\":\"#EF553B\",\"dash\":\"solid\"},\"marker\":{\"symbol\":\"circle\"},\"mode\":\"lines\",\"name\":\"srht_slow\",\"orientation\":\"v\",\"showlegend\":false,\"x\":[4,8,16,32,64,128,256,512,1024,2048,4096,8192],\"xaxis\":\"x18\",\"y\":[5.094722747802734,5.146837870279947,4.937802076339722,4.9810300668080645,4.988657395044962,4.986587365468343,5.14953335126241,4.992793639500936,5.406618277231852,5.026849031448364,5.03704309463501,5.2350852489471436],\"yaxis\":\"y18\",\"type\":\"scatter\"},{\"hovertemplate\":\"method=srht_slow\\u003cbr\\u003ed=8192\\u003cbr\\u003en=16384\\u003cbr\\u003em=%{x}\\u003cbr\\u003etime=%{y}\\u003cextra\\u003e\\u003c\\u002fextra\\u003e\",\"legendgroup\":\"srht_slow\",\"line\":{\"color\":\"#EF553B\",\"dash\":\"solid\"},\"marker\":{\"symbol\":\"circle\"},\"mode\":\"lines\",\"name\":\"srht_slow\",\"orientation\":\"v\",\"showlegend\":false,\"x\":[4,8,16,32,64,128,256,512,1024,2048,4096,8192],\"xaxis\":\"x8\",\"y\":[4.958751916885376,4.944203694661458,5.864987929662068,5.170838991800943,4.803123950958252,5.207471927007039,5.0310639540354405,4.832144816716512,5.00170890490214,4.908520221710205,5.269336223602295,5.265872240066528],\"yaxis\":\"y8\",\"type\":\"scatter\"},{\"hovertemplate\":\"method=srht_slow\\u003cbr\\u003ed=8192\\u003cbr\\u003en=32768\\u003cbr\\u003em=%{x}\\u003cbr\\u003etime=%{y}\\u003cextra\\u003e\\u003c\\u002fextra\\u003e\",\"legendgroup\":\"srht_slow\",\"line\":{\"color\":\"#EF553B\",\"dash\":\"solid\"},\"marker\":{\"symbol\":\"circle\"},\"mode\":\"lines\",\"name\":\"srht_slow\",\"orientation\":\"v\",\"showlegend\":false,\"x\":[4,8,16,32,64,128,256,512,1024,2048,4096,8192],\"xaxis\":\"x9\",\"y\":[10.516731977462769,10.615539948145548,10.784563064575195,10.697054386138916,10.964374462763468,11.126694679260254,10.881856679916382,10.630901336669922,11.452341556549072,11.078681389490763,11.101858695348103,11.384787321090698],\"yaxis\":\"y9\",\"type\":\"scatter\"}],                        {\"template\":{\"data\":{\"histogram2dcontour\":[{\"type\":\"histogram2dcontour\",\"colorbar\":{\"outlinewidth\":0,\"ticks\":\"\"},\"colorscale\":[[0.0,\"#0d0887\"],[0.1111111111111111,\"#46039f\"],[0.2222222222222222,\"#7201a8\"],[0.3333333333333333,\"#9c179e\"],[0.4444444444444444,\"#bd3786\"],[0.5555555555555556,\"#d8576b\"],[0.6666666666666666,\"#ed7953\"],[0.7777777777777778,\"#fb9f3a\"],[0.8888888888888888,\"#fdca26\"],[1.0,\"#f0f921\"]]}],\"choropleth\":[{\"type\":\"choropleth\",\"colorbar\":{\"outlinewidth\":0,\"ticks\":\"\"}}],\"histogram2d\":[{\"type\":\"histogram2d\",\"colorbar\":{\"outlinewidth\":0,\"ticks\":\"\"},\"colorscale\":[[0.0,\"#0d0887\"],[0.1111111111111111,\"#46039f\"],[0.2222222222222222,\"#7201a8\"],[0.3333333333333333,\"#9c179e\"],[0.4444444444444444,\"#bd3786\"],[0.5555555555555556,\"#d8576b\"],[0.6666666666666666,\"#ed7953\"],[0.7777777777777778,\"#fb9f3a\"],[0.8888888888888888,\"#fdca26\"],[1.0,\"#f0f921\"]]}],\"heatmap\":[{\"type\":\"heatmap\",\"colorbar\":{\"outlinewidth\":0,\"ticks\":\"\"},\"colorscale\":[[0.0,\"#0d0887\"],[0.1111111111111111,\"#46039f\"],[0.2222222222222222,\"#7201a8\"],[0.3333333333333333,\"#9c179e\"],[0.4444444444444444,\"#bd3786\"],[0.5555555555555556,\"#d8576b\"],[0.6666666666666666,\"#ed7953\"],[0.7777777777777778,\"#fb9f3a\"],[0.8888888888888888,\"#fdca26\"],[1.0,\"#f0f921\"]]}],\"heatmapgl\":[{\"type\":\"heatmapgl\",\"colorbar\":{\"outlinewidth\":0,\"ticks\":\"\"},\"colorscale\":[[0.0,\"#0d0887\"],[0.1111111111111111,\"#46039f\"],[0.2222222222222222,\"#7201a8\"],[0.3333333333333333,\"#9c179e\"],[0.4444444444444444,\"#bd3786\"],[0.5555555555555556,\"#d8576b\"],[0.6666666666666666,\"#ed7953\"],[0.7777777777777778,\"#fb9f3a\"],[0.8888888888888888,\"#fdca26\"],[1.0,\"#f0f921\"]]}],\"contourcarpet\":[{\"type\":\"contourcarpet\",\"colorbar\":{\"outlinewidth\":0,\"ticks\":\"\"}}],\"contour\":[{\"type\":\"contour\",\"colorbar\":{\"outlinewidth\":0,\"ticks\":\"\"},\"colorscale\":[[0.0,\"#0d0887\"],[0.1111111111111111,\"#46039f\"],[0.2222222222222222,\"#7201a8\"],[0.3333333333333333,\"#9c179e\"],[0.4444444444444444,\"#bd3786\"],[0.5555555555555556,\"#d8576b\"],[0.6666666666666666,\"#ed7953\"],[0.7777777777777778,\"#fb9f3a\"],[0.8888888888888888,\"#fdca26\"],[1.0,\"#f0f921\"]]}],\"surface\":[{\"type\":\"surface\",\"colorbar\":{\"outlinewidth\":0,\"ticks\":\"\"},\"colorscale\":[[0.0,\"#0d0887\"],[0.1111111111111111,\"#46039f\"],[0.2222222222222222,\"#7201a8\"],[0.3333333333333333,\"#9c179e\"],[0.4444444444444444,\"#bd3786\"],[0.5555555555555556,\"#d8576b\"],[0.6666666666666666,\"#ed7953\"],[0.7777777777777778,\"#fb9f3a\"],[0.8888888888888888,\"#fdca26\"],[1.0,\"#f0f921\"]]}],\"mesh3d\":[{\"type\":\"mesh3d\",\"colorbar\":{\"outlinewidth\":0,\"ticks\":\"\"}}],\"scatter\":[{\"fillpattern\":{\"fillmode\":\"overlay\",\"size\":10,\"solidity\":0.2},\"type\":\"scatter\"}],\"parcoords\":[{\"type\":\"parcoords\",\"line\":{\"colorbar\":{\"outlinewidth\":0,\"ticks\":\"\"}}}],\"scatterpolargl\":[{\"type\":\"scatterpolargl\",\"marker\":{\"colorbar\":{\"outlinewidth\":0,\"ticks\":\"\"}}}],\"bar\":[{\"error_x\":{\"color\":\"#2a3f5f\"},\"error_y\":{\"color\":\"#2a3f5f\"},\"marker\":{\"line\":{\"color\":\"#E5ECF6\",\"width\":0.5},\"pattern\":{\"fillmode\":\"overlay\",\"size\":10,\"solidity\":0.2}},\"type\":\"bar\"}],\"scattergeo\":[{\"type\":\"scattergeo\",\"marker\":{\"colorbar\":{\"outlinewidth\":0,\"ticks\":\"\"}}}],\"scatterpolar\":[{\"type\":\"scatterpolar\",\"marker\":{\"colorbar\":{\"outlinewidth\":0,\"ticks\":\"\"}}}],\"histogram\":[{\"marker\":{\"pattern\":{\"fillmode\":\"overlay\",\"size\":10,\"solidity\":0.2}},\"type\":\"histogram\"}],\"scattergl\":[{\"type\":\"scattergl\",\"marker\":{\"colorbar\":{\"outlinewidth\":0,\"ticks\":\"\"}}}],\"scatter3d\":[{\"type\":\"scatter3d\",\"line\":{\"colorbar\":{\"outlinewidth\":0,\"ticks\":\"\"}},\"marker\":{\"colorbar\":{\"outlinewidth\":0,\"ticks\":\"\"}}}],\"scattermapbox\":[{\"type\":\"scattermapbox\",\"marker\":{\"colorbar\":{\"outlinewidth\":0,\"ticks\":\"\"}}}],\"scatterternary\":[{\"type\":\"scatterternary\",\"marker\":{\"colorbar\":{\"outlinewidth\":0,\"ticks\":\"\"}}}],\"scattercarpet\":[{\"type\":\"scattercarpet\",\"marker\":{\"colorbar\":{\"outlinewidth\":0,\"ticks\":\"\"}}}],\"carpet\":[{\"aaxis\":{\"endlinecolor\":\"#2a3f5f\",\"gridcolor\":\"white\",\"linecolor\":\"white\",\"minorgridcolor\":\"white\",\"startlinecolor\":\"#2a3f5f\"},\"baxis\":{\"endlinecolor\":\"#2a3f5f\",\"gridcolor\":\"white\",\"linecolor\":\"white\",\"minorgridcolor\":\"white\",\"startlinecolor\":\"#2a3f5f\"},\"type\":\"carpet\"}],\"table\":[{\"cells\":{\"fill\":{\"color\":\"#EBF0F8\"},\"line\":{\"color\":\"white\"}},\"header\":{\"fill\":{\"color\":\"#C8D4E3\"},\"line\":{\"color\":\"white\"}},\"type\":\"table\"}],\"barpolar\":[{\"marker\":{\"line\":{\"color\":\"#E5ECF6\",\"width\":0.5},\"pattern\":{\"fillmode\":\"overlay\",\"size\":10,\"solidity\":0.2}},\"type\":\"barpolar\"}],\"pie\":[{\"automargin\":true,\"type\":\"pie\"}]},\"layout\":{\"autotypenumbers\":\"strict\",\"colorway\":[\"#636efa\",\"#EF553B\",\"#00cc96\",\"#ab63fa\",\"#FFA15A\",\"#19d3f3\",\"#FF6692\",\"#B6E880\",\"#FF97FF\",\"#FECB52\"],\"font\":{\"color\":\"#2a3f5f\"},\"hovermode\":\"closest\",\"hoverlabel\":{\"align\":\"left\"},\"paper_bgcolor\":\"white\",\"plot_bgcolor\":\"#E5ECF6\",\"polar\":{\"bgcolor\":\"#E5ECF6\",\"angularaxis\":{\"gridcolor\":\"white\",\"linecolor\":\"white\",\"ticks\":\"\"},\"radialaxis\":{\"gridcolor\":\"white\",\"linecolor\":\"white\",\"ticks\":\"\"}},\"ternary\":{\"bgcolor\":\"#E5ECF6\",\"aaxis\":{\"gridcolor\":\"white\",\"linecolor\":\"white\",\"ticks\":\"\"},\"baxis\":{\"gridcolor\":\"white\",\"linecolor\":\"white\",\"ticks\":\"\"},\"caxis\":{\"gridcolor\":\"white\",\"linecolor\":\"white\",\"ticks\":\"\"}},\"coloraxis\":{\"colorbar\":{\"outlinewidth\":0,\"ticks\":\"\"}},\"colorscale\":{\"sequential\":[[0.0,\"#0d0887\"],[0.1111111111111111,\"#46039f\"],[0.2222222222222222,\"#7201a8\"],[0.3333333333333333,\"#9c179e\"],[0.4444444444444444,\"#bd3786\"],[0.5555555555555556,\"#d8576b\"],[0.6666666666666666,\"#ed7953\"],[0.7777777777777778,\"#fb9f3a\"],[0.8888888888888888,\"#fdca26\"],[1.0,\"#f0f921\"]],\"sequentialminus\":[[0.0,\"#0d0887\"],[0.1111111111111111,\"#46039f\"],[0.2222222222222222,\"#7201a8\"],[0.3333333333333333,\"#9c179e\"],[0.4444444444444444,\"#bd3786\"],[0.5555555555555556,\"#d8576b\"],[0.6666666666666666,\"#ed7953\"],[0.7777777777777778,\"#fb9f3a\"],[0.8888888888888888,\"#fdca26\"],[1.0,\"#f0f921\"]],\"diverging\":[[0,\"#8e0152\"],[0.1,\"#c51b7d\"],[0.2,\"#de77ae\"],[0.3,\"#f1b6da\"],[0.4,\"#fde0ef\"],[0.5,\"#f7f7f7\"],[0.6,\"#e6f5d0\"],[0.7,\"#b8e186\"],[0.8,\"#7fbc41\"],[0.9,\"#4d9221\"],[1,\"#276419\"]]},\"xaxis\":{\"gridcolor\":\"white\",\"linecolor\":\"white\",\"ticks\":\"\",\"title\":{\"standoff\":15},\"zerolinecolor\":\"white\",\"automargin\":true,\"zerolinewidth\":2},\"yaxis\":{\"gridcolor\":\"white\",\"linecolor\":\"white\",\"ticks\":\"\",\"title\":{\"standoff\":15},\"zerolinecolor\":\"white\",\"automargin\":true,\"zerolinewidth\":2},\"scene\":{\"xaxis\":{\"backgroundcolor\":\"#E5ECF6\",\"gridcolor\":\"white\",\"linecolor\":\"white\",\"showbackground\":true,\"ticks\":\"\",\"zerolinecolor\":\"white\",\"gridwidth\":2},\"yaxis\":{\"backgroundcolor\":\"#E5ECF6\",\"gridcolor\":\"white\",\"linecolor\":\"white\",\"showbackground\":true,\"ticks\":\"\",\"zerolinecolor\":\"white\",\"gridwidth\":2},\"zaxis\":{\"backgroundcolor\":\"#E5ECF6\",\"gridcolor\":\"white\",\"linecolor\":\"white\",\"showbackground\":true,\"ticks\":\"\",\"zerolinecolor\":\"white\",\"gridwidth\":2}},\"shapedefaults\":{\"line\":{\"color\":\"#2a3f5f\"}},\"annotationdefaults\":{\"arrowcolor\":\"#2a3f5f\",\"arrowhead\":0,\"arrowwidth\":1},\"geo\":{\"bgcolor\":\"white\",\"landcolor\":\"#E5ECF6\",\"subunitcolor\":\"white\",\"showland\":true,\"showlakes\":true,\"lakecolor\":\"white\"},\"title\":{\"x\":0.05},\"mapbox\":{\"style\":\"light\"}}},\"xaxis\":{\"anchor\":\"y\",\"domain\":[0.0,0.0911111111111111],\"title\":{\"text\":\"m\"}},\"yaxis\":{\"anchor\":\"x\",\"domain\":[0.0,0.073],\"title\":{\"text\":\"time\"}},\"xaxis2\":{\"anchor\":\"y2\",\"domain\":[0.1111111111111111,0.2022222222222222],\"matches\":\"x\",\"title\":{\"text\":\"m\"}},\"yaxis2\":{\"anchor\":\"x2\",\"domain\":[0.0,0.073],\"matches\":\"y\",\"showticklabels\":false},\"xaxis3\":{\"anchor\":\"y3\",\"domain\":[0.2222222222222222,0.3133333333333333],\"matches\":\"x\",\"title\":{\"text\":\"m\"}},\"yaxis3\":{\"anchor\":\"x3\",\"domain\":[0.0,0.073],\"matches\":\"y\",\"showticklabels\":false},\"xaxis4\":{\"anchor\":\"y4\",\"domain\":[0.3333333333333333,0.4244444444444444],\"matches\":\"x\",\"title\":{\"text\":\"m\"}},\"yaxis4\":{\"anchor\":\"x4\",\"domain\":[0.0,0.073],\"matches\":\"y\",\"showticklabels\":false},\"xaxis5\":{\"anchor\":\"y5\",\"domain\":[0.4444444444444444,0.5355555555555556],\"matches\":\"x\",\"title\":{\"text\":\"m\"}},\"yaxis5\":{\"anchor\":\"x5\",\"domain\":[0.0,0.073],\"matches\":\"y\",\"showticklabels\":false},\"xaxis6\":{\"anchor\":\"y6\",\"domain\":[0.5555555555555555,0.6466666666666666],\"matches\":\"x\",\"title\":{\"text\":\"m\"}},\"yaxis6\":{\"anchor\":\"x6\",\"domain\":[0.0,0.073],\"matches\":\"y\",\"showticklabels\":false},\"xaxis7\":{\"anchor\":\"y7\",\"domain\":[0.6666666666666666,0.7577777777777778],\"matches\":\"x\",\"title\":{\"text\":\"m\"}},\"yaxis7\":{\"anchor\":\"x7\",\"domain\":[0.0,0.073],\"matches\":\"y\",\"showticklabels\":false},\"xaxis8\":{\"anchor\":\"y8\",\"domain\":[0.7777777777777778,0.8688888888888889],\"matches\":\"x\",\"title\":{\"text\":\"m\"}},\"yaxis8\":{\"anchor\":\"x8\",\"domain\":[0.0,0.073],\"matches\":\"y\",\"showticklabels\":false},\"xaxis9\":{\"anchor\":\"y9\",\"domain\":[0.888888888888889,0.9800000000000001],\"matches\":\"x\",\"title\":{\"text\":\"m\"}},\"yaxis9\":{\"anchor\":\"x9\",\"domain\":[0.0,0.073],\"matches\":\"y\",\"showticklabels\":false},\"xaxis10\":{\"anchor\":\"y10\",\"domain\":[0.0,0.0911111111111111],\"matches\":\"x\",\"showticklabels\":false},\"yaxis10\":{\"anchor\":\"x10\",\"domain\":[0.103,0.176],\"matches\":\"y\",\"title\":{\"text\":\"time\"}},\"xaxis11\":{\"anchor\":\"y11\",\"domain\":[0.1111111111111111,0.2022222222222222],\"matches\":\"x\",\"showticklabels\":false},\"yaxis11\":{\"anchor\":\"x11\",\"domain\":[0.103,0.176],\"matches\":\"y\",\"showticklabels\":false},\"xaxis12\":{\"anchor\":\"y12\",\"domain\":[0.2222222222222222,0.3133333333333333],\"matches\":\"x\",\"showticklabels\":false},\"yaxis12\":{\"anchor\":\"x12\",\"domain\":[0.103,0.176],\"matches\":\"y\",\"showticklabels\":false},\"xaxis13\":{\"anchor\":\"y13\",\"domain\":[0.3333333333333333,0.4244444444444444],\"matches\":\"x\",\"showticklabels\":false},\"yaxis13\":{\"anchor\":\"x13\",\"domain\":[0.103,0.176],\"matches\":\"y\",\"showticklabels\":false},\"xaxis14\":{\"anchor\":\"y14\",\"domain\":[0.4444444444444444,0.5355555555555556],\"matches\":\"x\",\"showticklabels\":false},\"yaxis14\":{\"anchor\":\"x14\",\"domain\":[0.103,0.176],\"matches\":\"y\",\"showticklabels\":false},\"xaxis15\":{\"anchor\":\"y15\",\"domain\":[0.5555555555555555,0.6466666666666666],\"matches\":\"x\",\"showticklabels\":false},\"yaxis15\":{\"anchor\":\"x15\",\"domain\":[0.103,0.176],\"matches\":\"y\",\"showticklabels\":false},\"xaxis16\":{\"anchor\":\"y16\",\"domain\":[0.6666666666666666,0.7577777777777778],\"matches\":\"x\",\"showticklabels\":false},\"yaxis16\":{\"anchor\":\"x16\",\"domain\":[0.103,0.176],\"matches\":\"y\",\"showticklabels\":false},\"xaxis17\":{\"anchor\":\"y17\",\"domain\":[0.7777777777777778,0.8688888888888889],\"matches\":\"x\",\"showticklabels\":false},\"yaxis17\":{\"anchor\":\"x17\",\"domain\":[0.103,0.176],\"matches\":\"y\",\"showticklabels\":false},\"xaxis18\":{\"anchor\":\"y18\",\"domain\":[0.888888888888889,0.9800000000000001],\"matches\":\"x\",\"showticklabels\":false},\"yaxis18\":{\"anchor\":\"x18\",\"domain\":[0.103,0.176],\"matches\":\"y\",\"showticklabels\":false},\"xaxis19\":{\"anchor\":\"y19\",\"domain\":[0.0,0.0911111111111111],\"matches\":\"x\",\"showticklabels\":false},\"yaxis19\":{\"anchor\":\"x19\",\"domain\":[0.206,0.27899999999999997],\"matches\":\"y\",\"title\":{\"text\":\"time\"}},\"xaxis20\":{\"anchor\":\"y20\",\"domain\":[0.1111111111111111,0.2022222222222222],\"matches\":\"x\",\"showticklabels\":false},\"yaxis20\":{\"anchor\":\"x20\",\"domain\":[0.206,0.27899999999999997],\"matches\":\"y\",\"showticklabels\":false},\"xaxis21\":{\"anchor\":\"y21\",\"domain\":[0.2222222222222222,0.3133333333333333],\"matches\":\"x\",\"showticklabels\":false},\"yaxis21\":{\"anchor\":\"x21\",\"domain\":[0.206,0.27899999999999997],\"matches\":\"y\",\"showticklabels\":false},\"xaxis22\":{\"anchor\":\"y22\",\"domain\":[0.3333333333333333,0.4244444444444444],\"matches\":\"x\",\"showticklabels\":false},\"yaxis22\":{\"anchor\":\"x22\",\"domain\":[0.206,0.27899999999999997],\"matches\":\"y\",\"showticklabels\":false},\"xaxis23\":{\"anchor\":\"y23\",\"domain\":[0.4444444444444444,0.5355555555555556],\"matches\":\"x\",\"showticklabels\":false},\"yaxis23\":{\"anchor\":\"x23\",\"domain\":[0.206,0.27899999999999997],\"matches\":\"y\",\"showticklabels\":false},\"xaxis24\":{\"anchor\":\"y24\",\"domain\":[0.5555555555555555,0.6466666666666666],\"matches\":\"x\",\"showticklabels\":false},\"yaxis24\":{\"anchor\":\"x24\",\"domain\":[0.206,0.27899999999999997],\"matches\":\"y\",\"showticklabels\":false},\"xaxis25\":{\"anchor\":\"y25\",\"domain\":[0.6666666666666666,0.7577777777777778],\"matches\":\"x\",\"showticklabels\":false},\"yaxis25\":{\"anchor\":\"x25\",\"domain\":[0.206,0.27899999999999997],\"matches\":\"y\",\"showticklabels\":false},\"xaxis26\":{\"anchor\":\"y26\",\"domain\":[0.7777777777777778,0.8688888888888889],\"matches\":\"x\",\"showticklabels\":false},\"yaxis26\":{\"anchor\":\"x26\",\"domain\":[0.206,0.27899999999999997],\"matches\":\"y\",\"showticklabels\":false},\"xaxis27\":{\"anchor\":\"y27\",\"domain\":[0.888888888888889,0.9800000000000001],\"matches\":\"x\",\"showticklabels\":false},\"yaxis27\":{\"anchor\":\"x27\",\"domain\":[0.206,0.27899999999999997],\"matches\":\"y\",\"showticklabels\":false},\"xaxis28\":{\"anchor\":\"y28\",\"domain\":[0.0,0.0911111111111111],\"matches\":\"x\",\"showticklabels\":false},\"yaxis28\":{\"anchor\":\"x28\",\"domain\":[0.30899999999999994,0.38199999999999995],\"matches\":\"y\",\"title\":{\"text\":\"time\"}},\"xaxis29\":{\"anchor\":\"y29\",\"domain\":[0.1111111111111111,0.2022222222222222],\"matches\":\"x\",\"showticklabels\":false},\"yaxis29\":{\"anchor\":\"x29\",\"domain\":[0.30899999999999994,0.38199999999999995],\"matches\":\"y\",\"showticklabels\":false},\"xaxis30\":{\"anchor\":\"y30\",\"domain\":[0.2222222222222222,0.3133333333333333],\"matches\":\"x\",\"showticklabels\":false},\"yaxis30\":{\"anchor\":\"x30\",\"domain\":[0.30899999999999994,0.38199999999999995],\"matches\":\"y\",\"showticklabels\":false},\"xaxis31\":{\"anchor\":\"y31\",\"domain\":[0.3333333333333333,0.4244444444444444],\"matches\":\"x\",\"showticklabels\":false},\"yaxis31\":{\"anchor\":\"x31\",\"domain\":[0.30899999999999994,0.38199999999999995],\"matches\":\"y\",\"showticklabels\":false},\"xaxis32\":{\"anchor\":\"y32\",\"domain\":[0.4444444444444444,0.5355555555555556],\"matches\":\"x\",\"showticklabels\":false},\"yaxis32\":{\"anchor\":\"x32\",\"domain\":[0.30899999999999994,0.38199999999999995],\"matches\":\"y\",\"showticklabels\":false},\"xaxis33\":{\"anchor\":\"y33\",\"domain\":[0.5555555555555555,0.6466666666666666],\"matches\":\"x\",\"showticklabels\":false},\"yaxis33\":{\"anchor\":\"x33\",\"domain\":[0.30899999999999994,0.38199999999999995],\"matches\":\"y\",\"showticklabels\":false},\"xaxis34\":{\"anchor\":\"y34\",\"domain\":[0.6666666666666666,0.7577777777777778],\"matches\":\"x\",\"showticklabels\":false},\"yaxis34\":{\"anchor\":\"x34\",\"domain\":[0.30899999999999994,0.38199999999999995],\"matches\":\"y\",\"showticklabels\":false},\"xaxis35\":{\"anchor\":\"y35\",\"domain\":[0.7777777777777778,0.8688888888888889],\"matches\":\"x\",\"showticklabels\":false},\"yaxis35\":{\"anchor\":\"x35\",\"domain\":[0.30899999999999994,0.38199999999999995],\"matches\":\"y\",\"showticklabels\":false},\"xaxis36\":{\"anchor\":\"y36\",\"domain\":[0.888888888888889,0.9800000000000001],\"matches\":\"x\",\"showticklabels\":false},\"yaxis36\":{\"anchor\":\"x36\",\"domain\":[0.30899999999999994,0.38199999999999995],\"matches\":\"y\",\"showticklabels\":false},\"xaxis37\":{\"anchor\":\"y37\",\"domain\":[0.0,0.0911111111111111],\"matches\":\"x\",\"showticklabels\":false},\"yaxis37\":{\"anchor\":\"x37\",\"domain\":[0.412,0.485],\"matches\":\"y\",\"title\":{\"text\":\"time\"}},\"xaxis38\":{\"anchor\":\"y38\",\"domain\":[0.1111111111111111,0.2022222222222222],\"matches\":\"x\",\"showticklabels\":false},\"yaxis38\":{\"anchor\":\"x38\",\"domain\":[0.412,0.485],\"matches\":\"y\",\"showticklabels\":false},\"xaxis39\":{\"anchor\":\"y39\",\"domain\":[0.2222222222222222,0.3133333333333333],\"matches\":\"x\",\"showticklabels\":false},\"yaxis39\":{\"anchor\":\"x39\",\"domain\":[0.412,0.485],\"matches\":\"y\",\"showticklabels\":false},\"xaxis40\":{\"anchor\":\"y40\",\"domain\":[0.3333333333333333,0.4244444444444444],\"matches\":\"x\",\"showticklabels\":false},\"yaxis40\":{\"anchor\":\"x40\",\"domain\":[0.412,0.485],\"matches\":\"y\",\"showticklabels\":false},\"xaxis41\":{\"anchor\":\"y41\",\"domain\":[0.4444444444444444,0.5355555555555556],\"matches\":\"x\",\"showticklabels\":false},\"yaxis41\":{\"anchor\":\"x41\",\"domain\":[0.412,0.485],\"matches\":\"y\",\"showticklabels\":false},\"xaxis42\":{\"anchor\":\"y42\",\"domain\":[0.5555555555555555,0.6466666666666666],\"matches\":\"x\",\"showticklabels\":false},\"yaxis42\":{\"anchor\":\"x42\",\"domain\":[0.412,0.485],\"matches\":\"y\",\"showticklabels\":false},\"xaxis43\":{\"anchor\":\"y43\",\"domain\":[0.6666666666666666,0.7577777777777778],\"matches\":\"x\",\"showticklabels\":false},\"yaxis43\":{\"anchor\":\"x43\",\"domain\":[0.412,0.485],\"matches\":\"y\",\"showticklabels\":false},\"xaxis44\":{\"anchor\":\"y44\",\"domain\":[0.7777777777777778,0.8688888888888889],\"matches\":\"x\",\"showticklabels\":false},\"yaxis44\":{\"anchor\":\"x44\",\"domain\":[0.412,0.485],\"matches\":\"y\",\"showticklabels\":false},\"xaxis45\":{\"anchor\":\"y45\",\"domain\":[0.888888888888889,0.9800000000000001],\"matches\":\"x\",\"showticklabels\":false},\"yaxis45\":{\"anchor\":\"x45\",\"domain\":[0.412,0.485],\"matches\":\"y\",\"showticklabels\":false},\"xaxis46\":{\"anchor\":\"y46\",\"domain\":[0.0,0.0911111111111111],\"matches\":\"x\",\"showticklabels\":false},\"yaxis46\":{\"anchor\":\"x46\",\"domain\":[0.515,0.588],\"matches\":\"y\",\"title\":{\"text\":\"time\"}},\"xaxis47\":{\"anchor\":\"y47\",\"domain\":[0.1111111111111111,0.2022222222222222],\"matches\":\"x\",\"showticklabels\":false},\"yaxis47\":{\"anchor\":\"x47\",\"domain\":[0.515,0.588],\"matches\":\"y\",\"showticklabels\":false},\"xaxis48\":{\"anchor\":\"y48\",\"domain\":[0.2222222222222222,0.3133333333333333],\"matches\":\"x\",\"showticklabels\":false},\"yaxis48\":{\"anchor\":\"x48\",\"domain\":[0.515,0.588],\"matches\":\"y\",\"showticklabels\":false},\"xaxis49\":{\"anchor\":\"y49\",\"domain\":[0.3333333333333333,0.4244444444444444],\"matches\":\"x\",\"showticklabels\":false},\"yaxis49\":{\"anchor\":\"x49\",\"domain\":[0.515,0.588],\"matches\":\"y\",\"showticklabels\":false},\"xaxis50\":{\"anchor\":\"y50\",\"domain\":[0.4444444444444444,0.5355555555555556],\"matches\":\"x\",\"showticklabels\":false},\"yaxis50\":{\"anchor\":\"x50\",\"domain\":[0.515,0.588],\"matches\":\"y\",\"showticklabels\":false},\"xaxis51\":{\"anchor\":\"y51\",\"domain\":[0.5555555555555555,0.6466666666666666],\"matches\":\"x\",\"showticklabels\":false},\"yaxis51\":{\"anchor\":\"x51\",\"domain\":[0.515,0.588],\"matches\":\"y\",\"showticklabels\":false},\"xaxis52\":{\"anchor\":\"y52\",\"domain\":[0.6666666666666666,0.7577777777777778],\"matches\":\"x\",\"showticklabels\":false},\"yaxis52\":{\"anchor\":\"x52\",\"domain\":[0.515,0.588],\"matches\":\"y\",\"showticklabels\":false},\"xaxis53\":{\"anchor\":\"y53\",\"domain\":[0.7777777777777778,0.8688888888888889],\"matches\":\"x\",\"showticklabels\":false},\"yaxis53\":{\"anchor\":\"x53\",\"domain\":[0.515,0.588],\"matches\":\"y\",\"showticklabels\":false},\"xaxis54\":{\"anchor\":\"y54\",\"domain\":[0.888888888888889,0.9800000000000001],\"matches\":\"x\",\"showticklabels\":false},\"yaxis54\":{\"anchor\":\"x54\",\"domain\":[0.515,0.588],\"matches\":\"y\",\"showticklabels\":false},\"xaxis55\":{\"anchor\":\"y55\",\"domain\":[0.0,0.0911111111111111],\"matches\":\"x\",\"showticklabels\":false},\"yaxis55\":{\"anchor\":\"x55\",\"domain\":[0.618,0.691],\"matches\":\"y\",\"title\":{\"text\":\"time\"}},\"xaxis56\":{\"anchor\":\"y56\",\"domain\":[0.1111111111111111,0.2022222222222222],\"matches\":\"x\",\"showticklabels\":false},\"yaxis56\":{\"anchor\":\"x56\",\"domain\":[0.618,0.691],\"matches\":\"y\",\"showticklabels\":false},\"xaxis57\":{\"anchor\":\"y57\",\"domain\":[0.2222222222222222,0.3133333333333333],\"matches\":\"x\",\"showticklabels\":false},\"yaxis57\":{\"anchor\":\"x57\",\"domain\":[0.618,0.691],\"matches\":\"y\",\"showticklabels\":false},\"xaxis58\":{\"anchor\":\"y58\",\"domain\":[0.3333333333333333,0.4244444444444444],\"matches\":\"x\",\"showticklabels\":false},\"yaxis58\":{\"anchor\":\"x58\",\"domain\":[0.618,0.691],\"matches\":\"y\",\"showticklabels\":false},\"xaxis59\":{\"anchor\":\"y59\",\"domain\":[0.4444444444444444,0.5355555555555556],\"matches\":\"x\",\"showticklabels\":false},\"yaxis59\":{\"anchor\":\"x59\",\"domain\":[0.618,0.691],\"matches\":\"y\",\"showticklabels\":false},\"xaxis60\":{\"anchor\":\"y60\",\"domain\":[0.5555555555555555,0.6466666666666666],\"matches\":\"x\",\"showticklabels\":false},\"yaxis60\":{\"anchor\":\"x60\",\"domain\":[0.618,0.691],\"matches\":\"y\",\"showticklabels\":false},\"xaxis61\":{\"anchor\":\"y61\",\"domain\":[0.6666666666666666,0.7577777777777778],\"matches\":\"x\",\"showticklabels\":false},\"yaxis61\":{\"anchor\":\"x61\",\"domain\":[0.618,0.691],\"matches\":\"y\",\"showticklabels\":false},\"xaxis62\":{\"anchor\":\"y62\",\"domain\":[0.7777777777777778,0.8688888888888889],\"matches\":\"x\",\"showticklabels\":false},\"yaxis62\":{\"anchor\":\"x62\",\"domain\":[0.618,0.691],\"matches\":\"y\",\"showticklabels\":false},\"xaxis63\":{\"anchor\":\"y63\",\"domain\":[0.888888888888889,0.9800000000000001],\"matches\":\"x\",\"showticklabels\":false},\"yaxis63\":{\"anchor\":\"x63\",\"domain\":[0.618,0.691],\"matches\":\"y\",\"showticklabels\":false},\"xaxis64\":{\"anchor\":\"y64\",\"domain\":[0.0,0.0911111111111111],\"matches\":\"x\",\"showticklabels\":false},\"yaxis64\":{\"anchor\":\"x64\",\"domain\":[0.721,0.7939999999999999],\"matches\":\"y\",\"title\":{\"text\":\"time\"}},\"xaxis65\":{\"anchor\":\"y65\",\"domain\":[0.1111111111111111,0.2022222222222222],\"matches\":\"x\",\"showticklabels\":false},\"yaxis65\":{\"anchor\":\"x65\",\"domain\":[0.721,0.7939999999999999],\"matches\":\"y\",\"showticklabels\":false},\"xaxis66\":{\"anchor\":\"y66\",\"domain\":[0.2222222222222222,0.3133333333333333],\"matches\":\"x\",\"showticklabels\":false},\"yaxis66\":{\"anchor\":\"x66\",\"domain\":[0.721,0.7939999999999999],\"matches\":\"y\",\"showticklabels\":false},\"xaxis67\":{\"anchor\":\"y67\",\"domain\":[0.3333333333333333,0.4244444444444444],\"matches\":\"x\",\"showticklabels\":false},\"yaxis67\":{\"anchor\":\"x67\",\"domain\":[0.721,0.7939999999999999],\"matches\":\"y\",\"showticklabels\":false},\"xaxis68\":{\"anchor\":\"y68\",\"domain\":[0.4444444444444444,0.5355555555555556],\"matches\":\"x\",\"showticklabels\":false},\"yaxis68\":{\"anchor\":\"x68\",\"domain\":[0.721,0.7939999999999999],\"matches\":\"y\",\"showticklabels\":false},\"xaxis69\":{\"anchor\":\"y69\",\"domain\":[0.5555555555555555,0.6466666666666666],\"matches\":\"x\",\"showticklabels\":false},\"yaxis69\":{\"anchor\":\"x69\",\"domain\":[0.721,0.7939999999999999],\"matches\":\"y\",\"showticklabels\":false},\"xaxis70\":{\"anchor\":\"y70\",\"domain\":[0.6666666666666666,0.7577777777777778],\"matches\":\"x\",\"showticklabels\":false},\"yaxis70\":{\"anchor\":\"x70\",\"domain\":[0.721,0.7939999999999999],\"matches\":\"y\",\"showticklabels\":false},\"xaxis71\":{\"anchor\":\"y71\",\"domain\":[0.7777777777777778,0.8688888888888889],\"matches\":\"x\",\"showticklabels\":false},\"yaxis71\":{\"anchor\":\"x71\",\"domain\":[0.721,0.7939999999999999],\"matches\":\"y\",\"showticklabels\":false},\"xaxis72\":{\"anchor\":\"y72\",\"domain\":[0.888888888888889,0.9800000000000001],\"matches\":\"x\",\"showticklabels\":false},\"yaxis72\":{\"anchor\":\"x72\",\"domain\":[0.721,0.7939999999999999],\"matches\":\"y\",\"showticklabels\":false},\"xaxis73\":{\"anchor\":\"y73\",\"domain\":[0.0,0.0911111111111111],\"matches\":\"x\",\"showticklabels\":false},\"yaxis73\":{\"anchor\":\"x73\",\"domain\":[0.824,0.8969999999999999],\"matches\":\"y\",\"title\":{\"text\":\"time\"}},\"xaxis74\":{\"anchor\":\"y74\",\"domain\":[0.1111111111111111,0.2022222222222222],\"matches\":\"x\",\"showticklabels\":false},\"yaxis74\":{\"anchor\":\"x74\",\"domain\":[0.824,0.8969999999999999],\"matches\":\"y\",\"showticklabels\":false},\"xaxis75\":{\"anchor\":\"y75\",\"domain\":[0.2222222222222222,0.3133333333333333],\"matches\":\"x\",\"showticklabels\":false},\"yaxis75\":{\"anchor\":\"x75\",\"domain\":[0.824,0.8969999999999999],\"matches\":\"y\",\"showticklabels\":false},\"xaxis76\":{\"anchor\":\"y76\",\"domain\":[0.3333333333333333,0.4244444444444444],\"matches\":\"x\",\"showticklabels\":false},\"yaxis76\":{\"anchor\":\"x76\",\"domain\":[0.824,0.8969999999999999],\"matches\":\"y\",\"showticklabels\":false},\"xaxis77\":{\"anchor\":\"y77\",\"domain\":[0.4444444444444444,0.5355555555555556],\"matches\":\"x\",\"showticklabels\":false},\"yaxis77\":{\"anchor\":\"x77\",\"domain\":[0.824,0.8969999999999999],\"matches\":\"y\",\"showticklabels\":false},\"xaxis78\":{\"anchor\":\"y78\",\"domain\":[0.5555555555555555,0.6466666666666666],\"matches\":\"x\",\"showticklabels\":false},\"yaxis78\":{\"anchor\":\"x78\",\"domain\":[0.824,0.8969999999999999],\"matches\":\"y\",\"showticklabels\":false},\"xaxis79\":{\"anchor\":\"y79\",\"domain\":[0.6666666666666666,0.7577777777777778],\"matches\":\"x\",\"showticklabels\":false},\"yaxis79\":{\"anchor\":\"x79\",\"domain\":[0.824,0.8969999999999999],\"matches\":\"y\",\"showticklabels\":false},\"xaxis80\":{\"anchor\":\"y80\",\"domain\":[0.7777777777777778,0.8688888888888889],\"matches\":\"x\",\"showticklabels\":false},\"yaxis80\":{\"anchor\":\"x80\",\"domain\":[0.824,0.8969999999999999],\"matches\":\"y\",\"showticklabels\":false},\"xaxis81\":{\"anchor\":\"y81\",\"domain\":[0.888888888888889,0.9800000000000001],\"matches\":\"x\",\"showticklabels\":false},\"yaxis81\":{\"anchor\":\"x81\",\"domain\":[0.824,0.8969999999999999],\"matches\":\"y\",\"showticklabels\":false},\"xaxis82\":{\"anchor\":\"y82\",\"domain\":[0.0,0.0911111111111111],\"matches\":\"x\",\"showticklabels\":false},\"yaxis82\":{\"anchor\":\"x82\",\"domain\":[0.9269999999999999,0.9999999999999999],\"matches\":\"y\",\"title\":{\"text\":\"time\"}},\"xaxis83\":{\"anchor\":\"y83\",\"domain\":[0.1111111111111111,0.2022222222222222],\"matches\":\"x\",\"showticklabels\":false},\"yaxis83\":{\"anchor\":\"x83\",\"domain\":[0.9269999999999999,0.9999999999999999],\"matches\":\"y\",\"showticklabels\":false},\"xaxis84\":{\"anchor\":\"y84\",\"domain\":[0.2222222222222222,0.3133333333333333],\"matches\":\"x\",\"showticklabels\":false},\"yaxis84\":{\"anchor\":\"x84\",\"domain\":[0.9269999999999999,0.9999999999999999],\"matches\":\"y\",\"showticklabels\":false},\"xaxis85\":{\"anchor\":\"y85\",\"domain\":[0.3333333333333333,0.4244444444444444],\"matches\":\"x\",\"showticklabels\":false},\"yaxis85\":{\"anchor\":\"x85\",\"domain\":[0.9269999999999999,0.9999999999999999],\"matches\":\"y\",\"showticklabels\":false},\"xaxis86\":{\"anchor\":\"y86\",\"domain\":[0.4444444444444444,0.5355555555555556],\"matches\":\"x\",\"showticklabels\":false},\"yaxis86\":{\"anchor\":\"x86\",\"domain\":[0.9269999999999999,0.9999999999999999],\"matches\":\"y\",\"showticklabels\":false},\"xaxis87\":{\"anchor\":\"y87\",\"domain\":[0.5555555555555555,0.6466666666666666],\"matches\":\"x\",\"showticklabels\":false},\"yaxis87\":{\"anchor\":\"x87\",\"domain\":[0.9269999999999999,0.9999999999999999],\"matches\":\"y\",\"showticklabels\":false},\"xaxis88\":{\"anchor\":\"y88\",\"domain\":[0.6666666666666666,0.7577777777777778],\"matches\":\"x\",\"showticklabels\":false},\"yaxis88\":{\"anchor\":\"x88\",\"domain\":[0.9269999999999999,0.9999999999999999],\"matches\":\"y\",\"showticklabels\":false},\"xaxis89\":{\"anchor\":\"y89\",\"domain\":[0.7777777777777778,0.8688888888888889],\"matches\":\"x\",\"showticklabels\":false},\"yaxis89\":{\"anchor\":\"x89\",\"domain\":[0.9269999999999999,0.9999999999999999],\"matches\":\"y\",\"showticklabels\":false},\"xaxis90\":{\"anchor\":\"y90\",\"domain\":[0.888888888888889,0.9800000000000001],\"matches\":\"x\",\"showticklabels\":false},\"yaxis90\":{\"anchor\":\"x90\",\"domain\":[0.9269999999999999,0.9999999999999999],\"matches\":\"y\",\"showticklabels\":false},\"annotations\":[{\"font\":{},\"showarrow\":false,\"text\":\"n=128\",\"x\":0.04555555555555555,\"xanchor\":\"center\",\"xref\":\"paper\",\"y\":0.9999999999999999,\"yanchor\":\"bottom\",\"yref\":\"paper\"},{\"font\":{},\"showarrow\":false,\"text\":\"n=256\",\"x\":0.15666666666666665,\"xanchor\":\"center\",\"xref\":\"paper\",\"y\":0.9999999999999999,\"yanchor\":\"bottom\",\"yref\":\"paper\"},{\"font\":{},\"showarrow\":false,\"text\":\"n=512\",\"x\":0.2677777777777778,\"xanchor\":\"center\",\"xref\":\"paper\",\"y\":0.9999999999999999,\"yanchor\":\"bottom\",\"yref\":\"paper\"},{\"font\":{},\"showarrow\":false,\"text\":\"n=1024\",\"x\":0.37888888888888883,\"xanchor\":\"center\",\"xref\":\"paper\",\"y\":0.9999999999999999,\"yanchor\":\"bottom\",\"yref\":\"paper\"},{\"font\":{},\"showarrow\":false,\"text\":\"n=2048\",\"x\":0.49,\"xanchor\":\"center\",\"xref\":\"paper\",\"y\":0.9999999999999999,\"yanchor\":\"bottom\",\"yref\":\"paper\"},{\"font\":{},\"showarrow\":false,\"text\":\"n=4096\",\"x\":0.601111111111111,\"xanchor\":\"center\",\"xref\":\"paper\",\"y\":0.9999999999999999,\"yanchor\":\"bottom\",\"yref\":\"paper\"},{\"font\":{},\"showarrow\":false,\"text\":\"n=8192\",\"x\":0.7122222222222222,\"xanchor\":\"center\",\"xref\":\"paper\",\"y\":0.9999999999999999,\"yanchor\":\"bottom\",\"yref\":\"paper\"},{\"font\":{},\"showarrow\":false,\"text\":\"n=16384\",\"x\":0.8233333333333334,\"xanchor\":\"center\",\"xref\":\"paper\",\"y\":0.9999999999999999,\"yanchor\":\"bottom\",\"yref\":\"paper\"},{\"font\":{},\"showarrow\":false,\"text\":\"n=32768\",\"x\":0.9344444444444445,\"xanchor\":\"center\",\"xref\":\"paper\",\"y\":0.9999999999999999,\"yanchor\":\"bottom\",\"yref\":\"paper\"},{\"font\":{},\"showarrow\":false,\"text\":\"d=8192\",\"textangle\":90,\"x\":0.9800000000000001,\"xanchor\":\"left\",\"xref\":\"paper\",\"y\":0.0365,\"yanchor\":\"middle\",\"yref\":\"paper\"},{\"font\":{},\"showarrow\":false,\"text\":\"d=4096\",\"textangle\":90,\"x\":0.9800000000000001,\"xanchor\":\"left\",\"xref\":\"paper\",\"y\":0.13949999999999999,\"yanchor\":\"middle\",\"yref\":\"paper\"},{\"font\":{},\"showarrow\":false,\"text\":\"d=2048\",\"textangle\":90,\"x\":0.9800000000000001,\"xanchor\":\"left\",\"xref\":\"paper\",\"y\":0.2425,\"yanchor\":\"middle\",\"yref\":\"paper\"},{\"font\":{},\"showarrow\":false,\"text\":\"d=1024\",\"textangle\":90,\"x\":0.9800000000000001,\"xanchor\":\"left\",\"xref\":\"paper\",\"y\":0.3454999999999999,\"yanchor\":\"middle\",\"yref\":\"paper\"},{\"font\":{},\"showarrow\":false,\"text\":\"d=512\",\"textangle\":90,\"x\":0.9800000000000001,\"xanchor\":\"left\",\"xref\":\"paper\",\"y\":0.4485,\"yanchor\":\"middle\",\"yref\":\"paper\"},{\"font\":{},\"showarrow\":false,\"text\":\"d=256\",\"textangle\":90,\"x\":0.9800000000000001,\"xanchor\":\"left\",\"xref\":\"paper\",\"y\":0.5515,\"yanchor\":\"middle\",\"yref\":\"paper\"},{\"font\":{},\"showarrow\":false,\"text\":\"d=128\",\"textangle\":90,\"x\":0.9800000000000001,\"xanchor\":\"left\",\"xref\":\"paper\",\"y\":0.6545,\"yanchor\":\"middle\",\"yref\":\"paper\"},{\"font\":{},\"showarrow\":false,\"text\":\"d=64\",\"textangle\":90,\"x\":0.9800000000000001,\"xanchor\":\"left\",\"xref\":\"paper\",\"y\":0.7575,\"yanchor\":\"middle\",\"yref\":\"paper\"},{\"font\":{},\"showarrow\":false,\"text\":\"d=32\",\"textangle\":90,\"x\":0.9800000000000001,\"xanchor\":\"left\",\"xref\":\"paper\",\"y\":0.8604999999999999,\"yanchor\":\"middle\",\"yref\":\"paper\"},{\"font\":{},\"showarrow\":false,\"text\":\"d=16\",\"textangle\":90,\"x\":0.9800000000000001,\"xanchor\":\"left\",\"xref\":\"paper\",\"y\":0.9634999999999999,\"yanchor\":\"middle\",\"yref\":\"paper\"}],\"legend\":{\"title\":{\"text\":\"method\"},\"tracegroupgap\":0},\"margin\":{\"t\":60}},                        {\"responsive\": true}                    ).then(function(){\n",
       "                            \n",
       "var gd = document.getElementById('874eff28-21fa-4ac8-be1f-6396cd976edd');\n",
       "var x = new MutationObserver(function (mutations, observer) {{\n",
       "        var display = window.getComputedStyle(gd).display;\n",
       "        if (!display || display === 'none') {{\n",
       "            console.log([gd, 'removed!']);\n",
       "            Plotly.purge(gd);\n",
       "            observer.disconnect();\n",
       "        }}\n",
       "}});\n",
       "\n",
       "// Listen for the removal of the full notebook cells\n",
       "var notebookContainer = gd.closest('#notebook-container');\n",
       "if (notebookContainer) {{\n",
       "    x.observe(notebookContainer, {childList: true});\n",
       "}}\n",
       "\n",
       "// Listen for the clearing of the current output cell\n",
       "var outputEl = gd.closest('.output');\n",
       "if (outputEl) {{\n",
       "    x.observe(outputEl, {childList: true});\n",
       "}}\n",
       "\n",
       "                        })                };                });            </script>        </div>"
      ]
     },
     "metadata": {},
     "output_type": "display_data"
    }
   ],
   "source": [
    "fig = px.line(df, x='m', y='time', facet_col='n', facet_row='d', color='method')\n",
    "fig.show()"
   ]
  },
  {
   "cell_type": "code",
   "execution_count": 370,
   "metadata": {},
   "outputs": [
    {
     "data": {
      "text/html": [
       "<div>\n",
       "<style scoped>\n",
       "    .dataframe tbody tr th:only-of-type {\n",
       "        vertical-align: middle;\n",
       "    }\n",
       "\n",
       "    .dataframe tbody tr th {\n",
       "        vertical-align: top;\n",
       "    }\n",
       "\n",
       "    .dataframe thead th {\n",
       "        text-align: right;\n",
       "    }\n",
       "</style>\n",
       "<table border=\"1\" class=\"dataframe\">\n",
       "  <thead>\n",
       "    <tr style=\"text-align: right;\">\n",
       "      <th></th>\n",
       "      <th>n</th>\n",
       "      <th>d</th>\n",
       "      <th>m</th>\n",
       "      <th>time</th>\n",
       "      <th>method</th>\n",
       "    </tr>\n",
       "  </thead>\n",
       "  <tbody>\n",
       "    <tr>\n",
       "      <th>480</th>\n",
       "      <td>32768</td>\n",
       "      <td>8192</td>\n",
       "      <td>4</td>\n",
       "      <td>5.634856</td>\n",
       "      <td>srht</td>\n",
       "    </tr>\n",
       "    <tr>\n",
       "      <th>481</th>\n",
       "      <td>32768</td>\n",
       "      <td>8192</td>\n",
       "      <td>8</td>\n",
       "      <td>6.949230</td>\n",
       "      <td>srht</td>\n",
       "    </tr>\n",
       "    <tr>\n",
       "      <th>482</th>\n",
       "      <td>32768</td>\n",
       "      <td>8192</td>\n",
       "      <td>16</td>\n",
       "      <td>7.523058</td>\n",
       "      <td>srht</td>\n",
       "    </tr>\n",
       "    <tr>\n",
       "      <th>483</th>\n",
       "      <td>32768</td>\n",
       "      <td>8192</td>\n",
       "      <td>32</td>\n",
       "      <td>8.225057</td>\n",
       "      <td>srht</td>\n",
       "    </tr>\n",
       "    <tr>\n",
       "      <th>484</th>\n",
       "      <td>32768</td>\n",
       "      <td>8192</td>\n",
       "      <td>64</td>\n",
       "      <td>8.927880</td>\n",
       "      <td>srht</td>\n",
       "    </tr>\n",
       "    <tr>\n",
       "      <th>485</th>\n",
       "      <td>32768</td>\n",
       "      <td>8192</td>\n",
       "      <td>128</td>\n",
       "      <td>12.049921</td>\n",
       "      <td>srht</td>\n",
       "    </tr>\n",
       "    <tr>\n",
       "      <th>486</th>\n",
       "      <td>32768</td>\n",
       "      <td>8192</td>\n",
       "      <td>256</td>\n",
       "      <td>10.578471</td>\n",
       "      <td>srht</td>\n",
       "    </tr>\n",
       "    <tr>\n",
       "      <th>487</th>\n",
       "      <td>32768</td>\n",
       "      <td>8192</td>\n",
       "      <td>512</td>\n",
       "      <td>11.025016</td>\n",
       "      <td>srht</td>\n",
       "    </tr>\n",
       "    <tr>\n",
       "      <th>488</th>\n",
       "      <td>32768</td>\n",
       "      <td>8192</td>\n",
       "      <td>1024</td>\n",
       "      <td>11.772764</td>\n",
       "      <td>srht</td>\n",
       "    </tr>\n",
       "    <tr>\n",
       "      <th>489</th>\n",
       "      <td>32768</td>\n",
       "      <td>8192</td>\n",
       "      <td>2048</td>\n",
       "      <td>12.693736</td>\n",
       "      <td>srht</td>\n",
       "    </tr>\n",
       "    <tr>\n",
       "      <th>490</th>\n",
       "      <td>32768</td>\n",
       "      <td>8192</td>\n",
       "      <td>4096</td>\n",
       "      <td>12.753554</td>\n",
       "      <td>srht</td>\n",
       "    </tr>\n",
       "    <tr>\n",
       "      <th>491</th>\n",
       "      <td>32768</td>\n",
       "      <td>8192</td>\n",
       "      <td>8192</td>\n",
       "      <td>15.828951</td>\n",
       "      <td>srht</td>\n",
       "    </tr>\n",
       "    <tr>\n",
       "      <th>972</th>\n",
       "      <td>32768</td>\n",
       "      <td>8192</td>\n",
       "      <td>4</td>\n",
       "      <td>10.516732</td>\n",
       "      <td>srht_slow</td>\n",
       "    </tr>\n",
       "    <tr>\n",
       "      <th>973</th>\n",
       "      <td>32768</td>\n",
       "      <td>8192</td>\n",
       "      <td>8</td>\n",
       "      <td>10.615540</td>\n",
       "      <td>srht_slow</td>\n",
       "    </tr>\n",
       "    <tr>\n",
       "      <th>974</th>\n",
       "      <td>32768</td>\n",
       "      <td>8192</td>\n",
       "      <td>16</td>\n",
       "      <td>10.784563</td>\n",
       "      <td>srht_slow</td>\n",
       "    </tr>\n",
       "    <tr>\n",
       "      <th>975</th>\n",
       "      <td>32768</td>\n",
       "      <td>8192</td>\n",
       "      <td>32</td>\n",
       "      <td>10.697054</td>\n",
       "      <td>srht_slow</td>\n",
       "    </tr>\n",
       "    <tr>\n",
       "      <th>976</th>\n",
       "      <td>32768</td>\n",
       "      <td>8192</td>\n",
       "      <td>64</td>\n",
       "      <td>10.964374</td>\n",
       "      <td>srht_slow</td>\n",
       "    </tr>\n",
       "    <tr>\n",
       "      <th>977</th>\n",
       "      <td>32768</td>\n",
       "      <td>8192</td>\n",
       "      <td>128</td>\n",
       "      <td>11.126695</td>\n",
       "      <td>srht_slow</td>\n",
       "    </tr>\n",
       "    <tr>\n",
       "      <th>978</th>\n",
       "      <td>32768</td>\n",
       "      <td>8192</td>\n",
       "      <td>256</td>\n",
       "      <td>10.881857</td>\n",
       "      <td>srht_slow</td>\n",
       "    </tr>\n",
       "    <tr>\n",
       "      <th>979</th>\n",
       "      <td>32768</td>\n",
       "      <td>8192</td>\n",
       "      <td>512</td>\n",
       "      <td>10.630901</td>\n",
       "      <td>srht_slow</td>\n",
       "    </tr>\n",
       "    <tr>\n",
       "      <th>980</th>\n",
       "      <td>32768</td>\n",
       "      <td>8192</td>\n",
       "      <td>1024</td>\n",
       "      <td>11.452342</td>\n",
       "      <td>srht_slow</td>\n",
       "    </tr>\n",
       "    <tr>\n",
       "      <th>981</th>\n",
       "      <td>32768</td>\n",
       "      <td>8192</td>\n",
       "      <td>2048</td>\n",
       "      <td>11.078681</td>\n",
       "      <td>srht_slow</td>\n",
       "    </tr>\n",
       "    <tr>\n",
       "      <th>982</th>\n",
       "      <td>32768</td>\n",
       "      <td>8192</td>\n",
       "      <td>4096</td>\n",
       "      <td>11.101859</td>\n",
       "      <td>srht_slow</td>\n",
       "    </tr>\n",
       "    <tr>\n",
       "      <th>983</th>\n",
       "      <td>32768</td>\n",
       "      <td>8192</td>\n",
       "      <td>8192</td>\n",
       "      <td>11.384787</td>\n",
       "      <td>srht_slow</td>\n",
       "    </tr>\n",
       "  </tbody>\n",
       "</table>\n",
       "</div>"
      ],
      "text/plain": [
       "         n     d     m       time     method\n",
       "480  32768  8192     4   5.634856       srht\n",
       "481  32768  8192     8   6.949230       srht\n",
       "482  32768  8192    16   7.523058       srht\n",
       "483  32768  8192    32   8.225057       srht\n",
       "484  32768  8192    64   8.927880       srht\n",
       "485  32768  8192   128  12.049921       srht\n",
       "486  32768  8192   256  10.578471       srht\n",
       "487  32768  8192   512  11.025016       srht\n",
       "488  32768  8192  1024  11.772764       srht\n",
       "489  32768  8192  2048  12.693736       srht\n",
       "490  32768  8192  4096  12.753554       srht\n",
       "491  32768  8192  8192  15.828951       srht\n",
       "972  32768  8192     4  10.516732  srht_slow\n",
       "973  32768  8192     8  10.615540  srht_slow\n",
       "974  32768  8192    16  10.784563  srht_slow\n",
       "975  32768  8192    32  10.697054  srht_slow\n",
       "976  32768  8192    64  10.964374  srht_slow\n",
       "977  32768  8192   128  11.126695  srht_slow\n",
       "978  32768  8192   256  10.881857  srht_slow\n",
       "979  32768  8192   512  10.630901  srht_slow\n",
       "980  32768  8192  1024  11.452342  srht_slow\n",
       "981  32768  8192  2048  11.078681  srht_slow\n",
       "982  32768  8192  4096  11.101859  srht_slow\n",
       "983  32768  8192  8192  11.384787  srht_slow"
      ]
     },
     "execution_count": 370,
     "metadata": {},
     "output_type": "execute_result"
    }
   ],
   "source": [
    "df[(df.n==32768)&(df.d==8192)]"
   ]
  },
  {
   "cell_type": "code",
   "execution_count": null,
   "metadata": {},
   "outputs": [],
   "source": []
  },
  {
   "cell_type": "code",
   "execution_count": 375,
   "metadata": {},
   "outputs": [
    {
     "name": "stdout",
     "output_type": "stream",
     "text": [
      "h=1, i=0, j=0\n",
      "h=1, i=2, j=2\n",
      "h=1, i=4, j=4\n",
      "h=1, i=6, j=6\n",
      "h=1, i=8, j=8\n",
      "h=1, i=10, j=10\n",
      "h=1, i=12, j=12\n",
      "h=1, i=14, j=14\n",
      "h=1, i=16, j=16\n",
      "h=1, i=18, j=18\n",
      "h=1, i=20, j=20\n",
      "h=1, i=22, j=22\n",
      "h=1, i=24, j=24\n",
      "h=1, i=26, j=26\n",
      "h=1, i=28, j=28\n",
      "h=1, i=30, j=30\n",
      "h=2, i=0, j=0\n",
      "h=2, i=0, j=1\n",
      "h=2, i=4, j=4\n",
      "h=2, i=4, j=5\n",
      "h=2, i=8, j=8\n",
      "h=2, i=8, j=9\n",
      "h=2, i=12, j=12\n",
      "h=2, i=12, j=13\n",
      "h=2, i=16, j=16\n",
      "h=2, i=16, j=17\n",
      "h=2, i=20, j=20\n",
      "h=2, i=20, j=21\n",
      "h=2, i=24, j=24\n",
      "h=2, i=24, j=25\n",
      "h=2, i=28, j=28\n",
      "h=2, i=28, j=29\n",
      "h=4, i=0, j=0\n",
      "h=4, i=0, j=1\n",
      "h=4, i=0, j=2\n",
      "h=4, i=0, j=3\n",
      "h=4, i=8, j=8\n",
      "h=4, i=8, j=9\n",
      "h=4, i=8, j=10\n",
      "h=4, i=8, j=11\n",
      "h=4, i=16, j=16\n",
      "h=4, i=16, j=17\n",
      "h=4, i=16, j=18\n",
      "h=4, i=16, j=19\n",
      "h=4, i=24, j=24\n",
      "h=4, i=24, j=25\n",
      "h=4, i=24, j=26\n",
      "h=4, i=24, j=27\n",
      "h=8, i=0, j=0\n",
      "h=8, i=0, j=1\n",
      "h=8, i=0, j=2\n",
      "h=8, i=0, j=3\n",
      "h=8, i=0, j=4\n",
      "h=8, i=0, j=5\n",
      "h=8, i=0, j=6\n",
      "h=8, i=0, j=7\n",
      "h=8, i=16, j=16\n",
      "h=8, i=16, j=17\n",
      "h=8, i=16, j=18\n",
      "h=8, i=16, j=19\n",
      "h=8, i=16, j=20\n",
      "h=8, i=16, j=21\n",
      "h=8, i=16, j=22\n",
      "h=8, i=16, j=23\n",
      "h=16, i=0, j=0\n",
      "h=16, i=0, j=1\n",
      "h=16, i=0, j=2\n",
      "h=16, i=0, j=3\n",
      "h=16, i=0, j=4\n",
      "h=16, i=0, j=5\n",
      "h=16, i=0, j=6\n",
      "h=16, i=0, j=7\n",
      "h=16, i=0, j=8\n",
      "h=16, i=0, j=9\n",
      "h=16, i=0, j=10\n",
      "h=16, i=0, j=11\n",
      "h=16, i=0, j=12\n",
      "h=16, i=0, j=13\n",
      "h=16, i=0, j=14\n",
      "h=16, i=0, j=15\n"
     ]
    }
   ],
   "source": [
    "n = 2**5\n",
    "\n",
    "h = 1\n",
    "while h < n:\n",
    "    for i in range(0, n, h * 2):\n",
    "        for j in range(i, i + h):\n",
    "            print(f\"{h=}, {i=}, {j=}\")\n",
    "    h *= 2"
   ]
  },
  {
   "cell_type": "code",
   "execution_count": null,
   "metadata": {},
   "outputs": [],
   "source": []
  },
  {
   "cell_type": "code",
   "execution_count": null,
   "metadata": {},
   "outputs": [],
   "source": []
  },
  {
   "cell_type": "code",
   "execution_count": null,
   "metadata": {},
   "outputs": [],
   "source": []
  },
  {
   "cell_type": "code",
   "execution_count": null,
   "metadata": {},
   "outputs": [],
   "source": []
  }
 ],
 "metadata": {
  "kernelspec": {
   "display_name": "Python 3",
   "language": "python",
   "name": "python3"
  },
  "language_info": {
   "codemirror_mode": {
    "name": "ipython",
    "version": 3
   },
   "file_extension": ".py",
   "mimetype": "text/x-python",
   "name": "python",
   "nbconvert_exporter": "python",
   "pygments_lexer": "ipython3",
   "version": "3.8.5"
  }
 },
 "nbformat": 4,
 "nbformat_minor": 4
}
